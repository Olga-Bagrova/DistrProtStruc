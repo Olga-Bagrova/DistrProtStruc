{
 "cells": [
  {
   "cell_type": "code",
   "execution_count": 1,
   "id": "ca4bc2b4-1e04-4231-8aad-3154e0e318bc",
   "metadata": {},
   "outputs": [],
   "source": [
    "import numpy as np\n",
    "import pandas as pd\n",
    "import time\n",
    "import biotite.structure.io.pdbx as pdbx\n",
    "import biotite.database.rcsb as rcsb"
   ]
  },
  {
   "cell_type": "markdown",
   "id": "bc7c5907-6f6d-4370-b857-c0d3500d2a61",
   "metadata": {},
   "source": [
    "## Start"
   ]
  },
  {
   "cell_type": "code",
   "execution_count": 2,
   "id": "404f7a79-ebb5-4b6e-8637-32d9b8572635",
   "metadata": {},
   "outputs": [],
   "source": [
    "#_______________________________________________________\n",
    "\n",
    "def Start ():\n",
    "    print('-----START----')\n",
    "    #-----Формируем первый датафрейм {PDBid chain start end}\n",
    "    #print('Введите путь к файлу excel с его наименованием и .xlsx')\n",
    "    #way = str(input())\n",
    "    #'D:/Оля/курсовая/1_Обработка/1 Работа/проверяю расширенную обработку/pdbID.txt'\n",
    "    path = 'book.xlsx'\n",
    "    print(\"Вы ввели\", path) \n",
    "    Podborka = pd.read_excel(path) #читвем датафрейм в переменную Podborka\n",
    "    #print(\"Original Podborka\\n\", Podborka.head())\n",
    "    #print('Типы:', Podborka.dtypes)\n",
    "    #print('Колонки', Podborka.columns)\n",
    "    #Podborka['PDBid']=str(Podborka['PDBid'])#преобразуем в строку\n",
    "    #Podborka['chain']=Podborka['chain'].astype(str)#преобразуем в строку\n",
    "    #Podborka['PDBid'].astype(str)\n",
    "    #print('Типы:', Podborka.dtypes)\n",
    "    display(Podborka.head(3))\n",
    "    print('--------------------')\n",
    "    return Podborka\n",
    "\n",
    "\n",
    "\n",
    "# READY"
   ]
  },
  {
   "cell_type": "markdown",
   "id": "3ac2a153-b607-42b4-8549-21a6ed17f1f1",
   "metadata": {},
   "source": [
    "## Change_df"
   ]
  },
  {
   "cell_type": "code",
   "execution_count": 3,
   "id": "1f5b476e-645c-439f-b57f-db684b231eb4",
   "metadata": {},
   "outputs": [],
   "source": [
    "def Change_df (Podborka):\n",
    "    print('-----Change_df----')\n",
    "    #-----Модифицируем датафрейм, добавляя length и PDBid_chain {PDBid_chain PDBid chain start end length}\n",
    "    Podborka.insert(4, 'length', Podborka['end']-Podborka['start']+1) #считаем длину в а.о. каждого домена/цепи\n",
    "    Podborka.insert(0, 'PDBid_Chain', Podborka['PDBid']+'_'+Podborka['chain'])#добавим идетификатор PDBid_Chain\n",
    "    #print(\"Changed Podborka\\n\", Podborka.head())\n",
    "    #Выведем саммари по этому датафрейму\n",
    "    print('Саммари\\n', Podborka.describe())  \n",
    "    #Podborka.describe().to_csv(\"Podborka_describe.csv\")\n",
    "    Podborka.describe().to_excel(\"Podborka_describe.xlsx\")#запишем себе данные дискрайба\n",
    "    #и на всякий случай сохраним датафрейм\n",
    "    Podborka.to_excel(\"Podborka.xlsx\")\n",
    "    #Заготовки для результатов по стурктурам\n",
    "    Podborka[\"Alpha-helixes\"] = np.nan\n",
    "    Podborka[\"Beta-sheets\"] = np.nan\n",
    "    Podborka[\"ThreeTen-helixes\"] = np.nan\n",
    "    Podborka[\"Count_AlphaH\"] = np.nan\n",
    "    Podborka[\"Count_BetaS\"] = np.nan\n",
    "    Podborka[\"Count_ThreeTenH\"] = np.nan\n",
    "    display(Podborka.head(3))\n",
    "    return Podborka\n",
    "    print('--------------------')"
   ]
  },
  {
   "cell_type": "markdown",
   "id": "9916eef6-f0ad-4eaa-a390-f95db7e3f29f",
   "metadata": {},
   "source": [
    "## Hist_maker"
   ]
  },
  {
   "cell_type": "code",
   "execution_count": 4,
   "id": "daa7991d-dee5-4f0d-bcd9-10fa06d4ce6e",
   "metadata": {},
   "outputs": [],
   "source": [
    "def Hist_maker(Podborka):\n",
    "    print('-----Hist_maker----')\n",
    "    #Сразу распечатаем гистограмму (распределение длин белков подборки)\n",
    "    ax = Podborka.hist(column='length', bins=25, grid=True, figsize=(12,8), color='royalblue', rwidth=0.9)  \n",
    "    ax = ax[0]\n",
    "    for x in ax:\n",
    "        # Remove title\n",
    "        x.set_title(\"Распределение длин белков подборки\", size=20)\n",
    "        # Set x-axis label\n",
    "        x.set_xlabel(\"Длина, а.о.\", labelpad=20, weight='bold', size=16)\n",
    "        # Set y-axis label\n",
    "        x.set_ylabel(\"Количество, структур\", labelpad=20, weight='bold', size=16)\n",
    "    fig = ax[0].get_figure()\n",
    "    fig.savefig('Length distribution.jpg')#сохраним гистограмму\n",
    "    print('--------------------')"
   ]
  },
  {
   "cell_type": "markdown",
   "id": "75be4015-2400-483e-91bb-147a50a7c9a9",
   "metadata": {},
   "source": [
    "## Alpha_helix"
   ]
  },
  {
   "cell_type": "code",
   "execution_count": 5,
   "id": "417c9588-91cf-4d76-8639-cfee5d9ad6ad",
   "metadata": {},
   "outputs": [],
   "source": [
    "def Alpha_helix(Podborka):\n",
    "    print('-----Alpha_helix----')\n",
    "    g = 0\n",
    "    for i, row in Podborka.iterrows():\n",
    "        #input()\n",
    "        #print(\"ALPHA\")\n",
    "        #print(f\"Index: {i}\")\n",
    "        #print(f\"{row}\\n\")\n",
    "        PDBid = Podborka.iloc[i, 1]#выясняем актуальный PDBid \n",
    "        l = Podborka.iloc[i, 5]#выясняем актуальную длину\n",
    "        chain_tut = Podborka.iloc[i, 2]#выясняем актуальную цепь\n",
    "        start_domain = int(Podborka.iloc[i, 3])#выясняем актуальную координату начала домена/белка\n",
    "        stop_domain = int(Podborka.iloc[i, 4])#выясняем актуальную координату конца домена/белка\n",
    "        print(\"Данные: \", PDBid, l, chain_tut, start_domain, stop_domain, \"g=\", g)\n",
    "        g=g+1\n",
    "        #читаем PDBx из инета\n",
    "        pdbx_file = pdbx.PDBxFile.read(rcsb.fetch(PDBid, \"pdbx\"))\n",
    "        #Получаем данные из файла вообще есть они там или нет\n",
    "        P=pdbx_file [PDBid, \"struct_conf\"]#инфа о листах\n",
    "        #print(pdbx_file[\"struct_sheet_order\"])\n",
    "        #input()\n",
    "        #тут проверяем есть ли вообще данные о листах\n",
    "        if P is not None:\n",
    "            Id_hel=pdbx_file [PDBid, \"struct_conf\"][\"pdbx_PDB_helix_id\"]#id спиралей внутри файла в список\n",
    "            #print(Id_hel)\n",
    "            Beg_str = pdbx_file [PDBid, \"struct_conf\"][\"beg_label_seq_id\"]#начала спиралей а.о. для PDB обычного\n",
    "            #Beg_str = pdbx_file [PDBid, \"struct_conf\"][\"beg_auth_seq_id\"]#начала спиралей а.о. для CATH\n",
    "            #print(\"Beg_str=\", Beg_str, \"type=\", type(Beg_str))\n",
    "            if isinstance(Beg_str, str):\n",
    "                Beg_str=np.array([int(Beg_str)]) \n",
    "            else:\n",
    "                Beg_str = Beg_str.astype(\"int\")\n",
    "            #Beg_str = Beg_str.astype(\"int\")\n",
    "            #print(Beg_str)\n",
    "            End_str = pdbx_file [PDBid, \"struct_conf\"][\"end_label_seq_id\"]#концы спиралей а.о.\n",
    "            #End_str = pdbx_file [PDBid, \"struct_conf\"][\"end_auth_seq_id\"]#концы спиралей а.о.\n",
    "            if isinstance(End_str, str):\n",
    "                End_str=np.array([int(End_str)])\n",
    "            else:\n",
    "                End_str = End_str.astype(\"int\")\n",
    "            Class_hel = pdbx_file [PDBid, \"struct_conf\"][\"pdbx_PDB_helix_class\"]#классы спирали\n",
    "            Length_hel = pdbx_file [PDBid, \"struct_conf\"][\"pdbx_PDB_helix_length\"]#длины спирали\n",
    "            #Chain_hel = pdbx_file [PDBid, \"struct_conf\"][\"beg_label_asym_id\"]#цепи белка по буквам, каким принадлежат эти спирали\n",
    "            Chain_hel = pdbx_file [PDBid, \"struct_conf\"][\"beg_auth_asym_id\"]#цепи белка по буквам, каким принадлежат эти спирали\n",
    "            #print(Chain_hel)\n",
    "            #ещё одна проверка если вдруг будет тупняк\n",
    "            if Id_hel is not None:\n",
    "                #сформируем локальный датафрейм альфа-спиралей, если эти альфа-спирали есть\n",
    "                Helixes = pd.DataFrame({'Id_hel' : Id_hel,'Beg_str' : Beg_str, 'End_str': End_str, 'Class_hel': Class_hel, 'Length_hel': Length_hel, 'Chain_hel': Chain_hel})\n",
    "                #print('Helixes\\n', Helixes)\n",
    "                #print('type', type(Helixes))\n",
    "                #Удалим ненужные нам колонки (по названию цепи смотрим)\n",
    "                Helixes = Helixes[Helixes.Class_hel == \"1\"]#тип спирали == альфа\n",
    "                Helixes = Helixes[Helixes.Chain_hel == chain_tut]#цепь нужная по Podborka\n",
    "                Helixes = Helixes[Helixes.Beg_str >= start_domain] #входит в домен\n",
    "                Helixes = Helixes[Helixes.End_str <= stop_domain] #входит в домен\n",
    "                Helixes.index = np.arange(len(Helixes))#обновляем индексы (чтобы стали от 0 до ..., а не как были в Helixes до того как удалим ненужные нам цепи)\n",
    "                #print(\" Helixes.index\",  Helixes.index)\n",
    "                #print(\"Helix которые подходят нам\\n\", Helixes)\n",
    "                Podborka.loc[i, \"Count_AlphaH\"] = Helixes.shape[0]\n",
    "                #input()\n",
    "                #если пусто по листам (их нет нужных), то тоже будем писать NaN или нули. тут повторная штука такая т.к. листов может не быть изначально (выше) или их не будет лишь в нужных нам цепях белка (тут)\n",
    "                isempty = Helixes.empty#если нет альфа-спиралей, то мы можем выбрать как заполнить данные\n",
    "                if isempty:\n",
    "                    print(\"В белке \", PDBid, \"альфа-спиралей не обнаружено\")\n",
    "                    Res=[0]*100\n",
    "                    vse100 = (\";\".join(map(str,Res)))\n",
    "                    Podborka.loc[i, \"Alpha-helixes\"] = vse100\n",
    "                    #print(\"Podborka\", Podborka)\n",
    "                else:\n",
    "                    Res=[]\n",
    "                    Res=list_struc_maker(Helixes, l, start_domain)#Получаем 100% данные структур\n",
    "                    #print(\"Res\", Res)\n",
    "                    vse100 = (\";\".join(map(str,Res)))\n",
    "                    Podborka.loc[i, \"Alpha-helixes\"] = vse100\n",
    "                #print(\"Podborka\", Podborka)\n",
    "            else:\n",
    "                print(\"Какие-то проблемы с Id_hel\")\n",
    "        else:\n",
    "            print(\"В белке \", PDBid, \"альфа-спиралей не обнаружено\")\n",
    "            Podborka.loc[i, \"Count_AlphaH\"] = 0\n",
    "            Res=[0]*100\n",
    "            vse100 = (\";\".join(map(str,Res)))\n",
    "            Podborka.loc[i, \"Alpha-helixes\"] = vse100\n",
    "            #print(\"Podborka\", Podborka\n",
    "        display(Podborka.head(3))\n",
    "        print('--------------------')"
   ]
  },
  {
   "cell_type": "markdown",
   "id": "d62f3344-8db4-446b-aa64-a74d401e1408",
   "metadata": {},
   "source": [
    "## ThreeTen_helix"
   ]
  },
  {
   "cell_type": "code",
   "execution_count": 6,
   "id": "5592a5b1-bb63-4771-b1ee-cb1a3084c83f",
   "metadata": {},
   "outputs": [],
   "source": [
    "def ThreeTen_helix(Podborka):\n",
    "    print('-----ThreeTen_helix----')\n",
    "    g=0\n",
    "    for i, row in Podborka.iterrows():\n",
    "        #input()\n",
    "        #print(\"ALPHA\")\n",
    "        #print(f\"Index: {i}\")\n",
    "        #print(f\"{row}\\n\")\n",
    "        PDBid = Podborka.iloc[i, 1]#выясняем актуальный PDBid \n",
    "        l = Podborka.iloc[i, 5]#выясняем актуальную длину\n",
    "        chain_tut = Podborka.iloc[i, 2]#выясняем актуальную цепь\n",
    "        start_domain = int(Podborka.iloc[i, 3])#выясняем актуальную координату начала домена/белка\n",
    "        stop_domain = int(Podborka.iloc[i, 4])#выясняем актуальную координату конца домена/белка\n",
    "        print(\"Данные: \", PDBid, l, chain_tut, start_domain, stop_domain, \"g=\", g)\n",
    "        g=g+1\n",
    "        #читаем PDBx из инета\n",
    "        pdbx_file = pdbx.PDBxFile.read(rcsb.fetch(PDBid, \"pdbx\"))\n",
    "        #Получаем данные из файла вообще есть они там или нет\n",
    "        P=pdbx_file [PDBid, \"struct_conf\"]#инфа о листах\n",
    "        #print(pdbx_file[\"struct_sheet_order\"])\n",
    "        #input()\n",
    "        #тут проверяем есть ли вообще данные о листах\n",
    "        if P is not None:\n",
    "            Id_hel=pdbx_file [PDBid, \"struct_conf\"][\"pdbx_PDB_helix_id\"]#id спиралей внутри файла в список\n",
    "            #print(Id_hel)\n",
    "            #Beg_str = pdbx_file [PDBid, \"struct_conf\"][\"beg_auth_seq_id\"]#начала спиралей а.о.\n",
    "            Beg_str = pdbx_file [PDBid, \"struct_conf\"][\"beg_label_seq_id\"]#начала спиралей а.о.\n",
    "            if isinstance(Beg_str, str):\n",
    "                Beg_str=np.array([int(Beg_str)]) \n",
    "            else:\n",
    "                Beg_str = Beg_str.astype(\"int\")\n",
    "            #print(Beg_str)\n",
    "            End_str = pdbx_file [PDBid, \"struct_conf\"][\"end_label_seq_id\"]#концы спиралей а.о. ЕСЛИ КАК В БД брать нумерацию\n",
    "            #End_str = pdbx_file [PDBid, \"struct_conf\"][\"end_auth_seq_id\"]#концы спиралей а.о.\n",
    "            if isinstance(End_str, str):\n",
    "                End_str=np.array([int(End_str)])\n",
    "            else:\n",
    "                End_str = End_str.astype(\"int\")\n",
    "            Class_hel = pdbx_file [PDBid, \"struct_conf\"][\"pdbx_PDB_helix_class\"]#классы спирали\n",
    "            Length_hel = pdbx_file [PDBid, \"struct_conf\"][\"pdbx_PDB_helix_length\"]#длины спирали\n",
    "            #Chain_hel = pdbx_file [PDBid, \"struct_conf\"][\"beg_label_asym_id\"]#цепи белка по буквам, каким принадлежат эти спирали\n",
    "            Chain_hel = pdbx_file [PDBid, \"struct_conf\"][\"beg_auth_asym_id\"]#цепи белка по буквам, каким принадлежат эти спирали\n",
    "            #print(Chain_hel)\n",
    "            #ещё одна проверка если вдруг будет тупняк\n",
    "            if Id_hel is not None:\n",
    "                #сформируем локальный датафрейм альфа-спиралей, если эти альфа-спирали есть\n",
    "                Helixes = pd.DataFrame({'Id_hel' : Id_hel,'Beg_str' : Beg_str, 'End_str': End_str, 'Class_hel': Class_hel, 'Length_hel': Length_hel, 'Chain_hel': Chain_hel})\n",
    "                #print('Helixes\\n', Helixes)\n",
    "                #print('type', type(Helixes))\n",
    "                #Удалим ненужные нам колонки (по названию цепи смотрим)\n",
    "                Helixes = Helixes[Helixes.Class_hel == \"5\"]#тип спирали == альфа\n",
    "                Helixes = Helixes[Helixes.Chain_hel == chain_tut]#цепь нужная по Podborka\n",
    "                Helixes = Helixes[Helixes.Beg_str >= start_domain] #входит в домен\n",
    "                Helixes = Helixes[Helixes.End_str <= stop_domain] #входит в домен\n",
    "                Helixes.index = np.arange(len(Helixes))#обновляем индексы (чтобы стали от 0 до ..., а не как были в Helixes до того как удалим ненужные нам цепи)\n",
    "                #print(\" Helixes.index\",  Helixes.index)\n",
    "                #print(\"Helix которые подходят нам\\n\", Helixes)\n",
    "                Podborka.loc[i, \"Count_ThreeTenH\"] = Helixes.shape[0]\n",
    "                #если пусто по листам (их нет нужных), то тоже будем писать NaN или нули. тут повторная штука такая т.к. листов может не быть изначально (выше) или их не будет лишь в нужных нам цепях белка (тут)\n",
    "                isempty = Helixes.empty#если нет 310-спиралей, то мы можем выбрать как заполнить данные\n",
    "                if isempty:\n",
    "                    print(\"В белке \", PDBid, \"3_10-спиралей не обнаружено\")\n",
    "                    Res=[0]*100\n",
    "                    vse100 = (\";\".join(map(str,Res)))\n",
    "                    Podborka.loc[i, \"ThreeTen-helixes\"] = vse100\n",
    "                    #print(\"Podborka\", Podborka)\n",
    "                else:\n",
    "                    Res=[]\n",
    "                    Res=list_struc_maker(Helixes, l, start_domain)#Получаем 100% данные структур\n",
    "                    #print(\"Res\", Res)\n",
    "                    vse100 = (\";\".join(map(str,Res)))\n",
    "                    Podborka.loc[i, \"ThreeTen-helixes\"] = vse100\n",
    "                    #print(\"Podborka\", Podborka)\n",
    "            else:\n",
    "                print(\"Какие-то проблемы с Id_hel\")\n",
    "        else:\n",
    "            print(\"В белке \", PDBid, \"3_10-спиралей не обнаружено\")\n",
    "            Podborka.loc[i, \"Count_ThreeTenH\"] = 0\n",
    "            Res=[0]*100\n",
    "            vse100 = (\";\".join(map(str,Res)))\n",
    "            Podborka.loc[i, \"ThreeTen-helixes\"] = vse100\n",
    "            #print(\"Podborka\", Podborka)\n",
    "    print('--------------------')    "
   ]
  },
  {
   "cell_type": "markdown",
   "id": "d0a87871-da53-4dae-8341-c54893e108fd",
   "metadata": {},
   "source": [
    "## Beta_sheet"
   ]
  },
  {
   "cell_type": "code",
   "execution_count": 7,
   "id": "e90ae4f1-3112-44e3-a78c-8c6b3aec7189",
   "metadata": {},
   "outputs": [],
   "source": [
    "def Beta_sheet(Podborka):\n",
    "    print('-----Beta_sheet----')\n",
    "    g=0\n",
    "    for i, row in Podborka.iterrows():\n",
    "        #input()\n",
    "        #print(f\"Index: {i}\")\n",
    "        #print(f\"{row}\\n\")\n",
    "        PDBid = Podborka.iloc[i, 1]#выясняем актуальный PDBid \n",
    "        l = Podborka.iloc[i, 5]#выясняем актуальную длину\n",
    "        chain_tut = Podborka.iloc[i, 2]#выясняем актуальную цепь\n",
    "        start_domain = int(Podborka.iloc[i, 3])#выясняем актуальную координату начала домена/белка\n",
    "        stop_domain = int(Podborka.iloc[i, 4])#выясняем актуальную координату конца домена/белка\n",
    "        print(\"Данные: \", PDBid, l, chain_tut, start_domain, stop_domain, \"g=\", g)\n",
    "        g=g+1\n",
    "        #читаем PDBx из инета\n",
    "        pdbx_file = pdbx.PDBxFile.read(rcsb.fetch(PDBid, \"pdbx\"))\n",
    "        #Получаем данные из файла вообще есть они там или нет\n",
    "        P=pdbx_file [PDBid, \"struct_sheet_range\"]#инфа о листах\n",
    "        #print(pdbx_file[\"struct_sheet_order\"])\n",
    "        #input()\n",
    "        #тут проверяем есть ли вообще данные о листах\n",
    "        if P is not None:\n",
    "            Id_sht=pdbx_file [PDBid, \"struct_sheet_range\"][\"sheet_id\"]#id листа\n",
    "            #print(Id_sht)\n",
    "            Beg_str = pdbx_file [PDBid, \"struct_sheet_range\"][\"beg_label_seq_id\"]#начало листа а.о.\n",
    "            #Beg_str = pdbx_file [PDBid, \"struct_sheet_range\"][\"beg_auth_seq_id\"]#начало листа а.о.\n",
    "            if isinstance(Beg_str, str):\n",
    "                Beg_str=np.array([int(Beg_str)]) \n",
    "            else:\n",
    "                Beg_str = Beg_str.astype(\"int\")\n",
    "            End_str = pdbx_file [PDBid, \"struct_sheet_range\"][\"end_label_seq_id\"]#конец листа а.о.\n",
    "            #End_str = pdbx_file [PDBid, \"struct_sheet_range\"][\"end_auth_seq_id\"]#конец листа а.о.\n",
    "            if isinstance(End_str, str):\n",
    "                End_str=np.array([int(End_str)])\n",
    "            else:\n",
    "                End_str = End_str.astype(\"int\")\n",
    "            Chain_sht = pdbx_file [PDBid, \"struct_sheet_range\"][\"beg_auth_asym_id\"]#цепь https://www.biotite-python.org/examples/gallery/structure/sheet_arrangement.html\n",
    "            #print(\"chain_sht\", Chain_sht)\n",
    "            #input()\n",
    "            #ещё одна проверка если вдруг будет тупняк\n",
    "            if Id_sht is not None:\n",
    "                #сформируем локальный датафрейм альфа-спиралей, если эти альфа-спирали есть\n",
    "                Sheeets = pd.DataFrame({'Id_sht' : Id_sht,'Beg_str' : Beg_str, 'End_str': End_str, 'Chain_sht': Chain_sht})\n",
    "                #print('Sheeets\\n', Sheeets)\n",
    "                #print('type', type(Sheeets))\n",
    "                #Удалим ненужные нам колонки (по названию цепи смотрим)\n",
    "                Sheeets = Sheeets[Sheeets.Chain_sht == chain_tut]#цепь нужная по Podborka\n",
    "                Sheeets = Sheeets[Sheeets.Beg_str >= start_domain] #входит в домен\n",
    "                Sheeets = Sheeets[Sheeets.End_str <= stop_domain] #входит в домен\n",
    "                Sheeets.index = np.arange(len(Sheeets))#обновляем индексы (чтобы стали от 0 до ..., а не как были в Helixes до того как удалим ненужные нам цепи)\n",
    "                #print(\" Sheeets.index\",  Sheeets.index)\n",
    "                #print(\"Sheeets которые подходят нам\\n\", Sheeets)\n",
    "                Podborka.loc[i, \"Count_BetaS\"] = Sheeets.shape[0]\n",
    "                #если пусто по листам (их нет нужных), то тоже будем писать NaN или нули. тут повторная штука такая т.к. листов может не быть изначально (выше) или их не будет лишь в нужных нам цепях белка (тут)\n",
    "                isempty = Sheeets.empty#если нет 310-спиралей, то мы можем выбрать как заполнить данные\n",
    "                if isempty:\n",
    "                    print(\"В белке \", PDBid, \"бета-листов не обнаружено\")\n",
    "                    Res=[0]*100\n",
    "                    vse100 = (\";\".join(map(str,Res)))\n",
    "                    Podborka.loc[i, \"Beta-sheets\"] = vse100\n",
    "                    #print(\"Podborka\", Podborka)\n",
    "                else:\n",
    "                    Res=[]\n",
    "                    Res=list_struc_maker(Sheeets, l, start_domain)#Получаем 100% данные структур\n",
    "                    #print(\"Res\", Res)\n",
    "                    vse100 = (\";\".join(map(str,Res)))\n",
    "                    Podborka.loc[i, \"Beta-sheets\"] = vse100\n",
    "                    #print(\"Podborka\", Podborka)\n",
    "            else:\n",
    "                print(\"Какие-то проблемы с Id_sht\")\n",
    "        else:\n",
    "            print(\"В белке \", PDBid, \"бета-листов не обнаружено\")\n",
    "            Podborka.loc[i, \"Count_BetaS\"] = 0\n",
    "            Res=[0]*100\n",
    "            vse100 = (\";\".join(map(str,Res)))\n",
    "            Podborka.loc[i, \"Beta-sheets\"] = vse100\n",
    "            #print(\"Podborka\", Podborka)\n",
    "    display(Podborka.head(3))\n",
    "    print('--------------------')        \n"
   ]
  },
  {
   "cell_type": "markdown",
   "id": "621959d0-1176-41ac-9e1a-a6545c48d238",
   "metadata": {},
   "source": [
    "## Irregular"
   ]
  },
  {
   "cell_type": "code",
   "execution_count": 8,
   "id": "6fec885f-d6ad-4921-b95d-b0635540b191",
   "metadata": {},
   "outputs": [],
   "source": [
    "def Irregular(Podborka):\n",
    "    print('-----Irregular----')\n",
    "    for i, row in Podborka.iterrows():\n",
    "        PDBid = Podborka.iloc[i, 1]#выясняем актуальный PDBid просто для отслеживания\n",
    "        #l = Podborka.iloc[i, 5]#выясняем актуальную длину\n",
    "        #print(\"l=\", l)\n",
    "        #print(\"Podborka.iloc[i, 6]\", Podborka.iloc[i, 6])\n",
    "        list_alpha = Podborka.iloc[i, 6].split(\";\")#делаем список с данными об альфа\n",
    "        list_beta = Podborka.iloc[i, 7].split(\";\")#делаем список с данными о бета-листах\n",
    "        list_threeten = Podborka.iloc[i, 8].split(\";\")#делаем список с данными о 310-спиралях\n",
    "        print(\"Данные: \", PDBid)\n",
    "        #print(\"list_alpha=\",list_alpha)\n",
    "        proba = [0]*100#пустой для наших нерегулярных структур        \n",
    "        for index in range(len(proba)):\n",
    "            #print(\"index=\", index, \", list_alpha[index]=\", list_alpha[index])\n",
    "            #print(type(l),\"   \", type(float(list_alpha[index])))\n",
    "            proba[index]=1-float(list_alpha[index])-float(list_beta[index])-float(list_threeten[index])\n",
    "            proba[index] = round(proba[index], 2)\n",
    "            if proba[index] < 0:\n",
    "                print(\"значение в нерегулярных стурктурах <0!\")\n",
    "                print(PDBid, \"index=\", index, \"proba=\", proba)\n",
    "                #input()\n",
    "            #print(\"proba=\", proba)\n",
    "            #vse100 = ';'.join(str(proba))\n",
    "            vse100 = (\";\".join(map(str,proba)))\n",
    "            #print(\"vse100=\", vse100)\n",
    "            #vse100 = (\";\", join(map(str, proba)))\n",
    "            Podborka.loc[i, \"Irregular\"] = vse100   \n",
    "    print('--------------------') "
   ]
  },
  {
   "cell_type": "markdown",
   "id": "815341e5-3ee9-4fcf-bcb7-3999ec2f5cbd",
   "metadata": {},
   "source": [
    "## list_struc_maker"
   ]
  },
  {
   "cell_type": "code",
   "execution_count": 9,
   "id": "3e04f597-970d-4c81-803b-5cedd9ab3926",
   "metadata": {},
   "outputs": [],
   "source": [
    "def list_struc_maker(Helixes, l, start_domain):\n",
    "    '''создаёт список длиной скоько а.о. и заполняет 1 там где есть структура \n",
    "    [Вход: датафрейм со спиралями Helixes, длина белка l, начало белка start_domain. \n",
    "    Вызывается в Alpha_helix ThreeTen_helix и Beta_sheets'''\n",
    "    print('-----list_struc_maker----')\n",
    "    #Считываем нужные альфа-спирали в список \n",
    "    list_hel_original=[0] * l#список, где будем выставлять наличие альфа-спиралей\n",
    "    #заполняем его (это тот, что в аминокислотных остатках)\n",
    "    for i in range(0,len(Helixes)):#\n",
    "        start = int(Helixes.iloc[i][\"Beg_str\"])\n",
    "        stop = int(Helixes.iloc[i][\"End_str\"])\n",
    "        #print(\"СТАРТ=\", start, \" СТОП=\", stop)\n",
    "        #ставим относительно начала и конца домена с учётом, что в списке начало с 0, а не 1 и учёт домена\n",
    "        start = start-start_domain\n",
    "        stop = stop - start_domain\n",
    "        #print(\"start=\", start, \" stop=\", stop)\n",
    "        #вносим в нашу цепь данные\n",
    "        for c in range (start, stop+1):\n",
    "            list_hel_original[c]=1\n",
    "            #print(\"list_hel_original\", list_hel_original[c])\n",
    "    #print(\"Итого по цепи\")\n",
    "    #for i in range(0, len(list_hel_original)):\n",
    "        #print(\"list_hel_original[\",i,\"]=\", list_hel_original[i])\n",
    "    Itog = translater(list_hel_original, l)\n",
    "    print(\"itog\",Itog)\n",
    "    return Itog\n",
    "    print('--------------------')"
   ]
  },
  {
   "cell_type": "markdown",
   "id": "81ad92a4-d560-4ec4-9ef5-5b9f25fbd4ab",
   "metadata": {},
   "source": [
    "## translater"
   ]
  },
  {
   "cell_type": "code",
   "execution_count": 10,
   "id": "03743046-dad9-4e56-99a1-507a647eb4c9",
   "metadata": {},
   "outputs": [],
   "source": [
    "def translater(list_hel_original, l):\n",
    "    print('-----translater----')\n",
    "    #делаем список из 100 ячеек (наши координаты, т.е. %)\n",
    "    proba = [0]*100\n",
    "    T=l/100#Сколько приходится аминокислот на 1 ячейку\n",
    "    print(\"T=\", T)\n",
    "    #if T>1:\n",
    "    if T!=1:\n",
    "        k=1\n",
    "        t=T\n",
    "        #print(\"t=\", t)\n",
    "        i=1\n",
    "        j=1\n",
    "        while i<l and j<100:\n",
    "            a=min(k, t)\n",
    "            proba[j]=round(proba[j]+a*list_hel_original[i],2)\n",
    "            k=round(k-a,2)\n",
    "            t=round(t-a,2)\n",
    "            #print(\"a=\",a,\" значение[\",i,\"]=\", list_hel_original[i],\" proba[\", j,\"]=\", proba[j], \" k=\",k,\" t=\",t, \" i=\", i, \" j=\",j)\n",
    "            if k==0:\n",
    "                i=i+1\n",
    "                k=1\n",
    "            if t==0:\n",
    "                j=j+1\n",
    "                t=T\n",
    "            #print(\"k=\",k, \" t=\", t)\n",
    "        proba = [round(x/T, 2) for x in proba]\n",
    "        #print(\"proba\\n\", proba)\n",
    "    if T==1:\n",
    "        proba=list_hel_original#просто копируем\n",
    "    #if T<1:  \n",
    "    #print(\"proba\\n\", proba)\n",
    "    print(\"proba\\n\", proba)\n",
    "    return proba\n",
    "    print('--------------------')\n"
   ]
  },
  {
   "cell_type": "markdown",
   "id": "d72d32e0-b19c-4f40-85ae-d729d491c488",
   "metadata": {},
   "source": [
    "## Main"
   ]
  },
  {
   "cell_type": "code",
   "execution_count": 11,
   "id": "6c15cd7b-f9fc-460a-9151-042cb1aeb7a6",
   "metadata": {},
   "outputs": [
    {
     "name": "stdout",
     "output_type": "stream",
     "text": [
      "Добро пожаловать!\n",
      "-----START----\n",
      "Вы ввели book.xlsx\n"
     ]
    },
    {
     "data": {
      "text/html": [
       "<div>\n",
       "<style scoped>\n",
       "    .dataframe tbody tr th:only-of-type {\n",
       "        vertical-align: middle;\n",
       "    }\n",
       "\n",
       "    .dataframe tbody tr th {\n",
       "        vertical-align: top;\n",
       "    }\n",
       "\n",
       "    .dataframe thead th {\n",
       "        text-align: right;\n",
       "    }\n",
       "</style>\n",
       "<table border=\"1\" class=\"dataframe\">\n",
       "  <thead>\n",
       "    <tr style=\"text-align: right;\">\n",
       "      <th></th>\n",
       "      <th>PDBid</th>\n",
       "      <th>chain</th>\n",
       "      <th>start</th>\n",
       "      <th>end</th>\n",
       "    </tr>\n",
       "  </thead>\n",
       "  <tbody>\n",
       "    <tr>\n",
       "      <th>0</th>\n",
       "      <td>1A3N</td>\n",
       "      <td>A</td>\n",
       "      <td>1</td>\n",
       "      <td>141</td>\n",
       "    </tr>\n",
       "    <tr>\n",
       "      <th>1</th>\n",
       "      <td>1A3N</td>\n",
       "      <td>B</td>\n",
       "      <td>2</td>\n",
       "      <td>146</td>\n",
       "    </tr>\n",
       "    <tr>\n",
       "      <th>2</th>\n",
       "      <td>1A4F</td>\n",
       "      <td>A</td>\n",
       "      <td>1</td>\n",
       "      <td>141</td>\n",
       "    </tr>\n",
       "  </tbody>\n",
       "</table>\n",
       "</div>"
      ],
      "text/plain": [
       "  PDBid chain  start  end\n",
       "0  1A3N     A      1  141\n",
       "1  1A3N     B      2  146\n",
       "2  1A4F     A      1  141"
      ]
     },
     "metadata": {},
     "output_type": "display_data"
    },
    {
     "name": "stdout",
     "output_type": "stream",
     "text": [
      "--------------------\n",
      "-----Change_df----\n",
      "Саммари\n",
      "             start         end      length\n",
      "count    6.000000    6.000000    6.000000\n",
      "mean    34.333333  177.666667  144.333333\n",
      "std     81.652108   82.502525    2.658320\n",
      "min      0.000000  141.000000  141.000000\n",
      "25%      1.000000  142.250000  142.000000\n",
      "50%      1.000000  146.000000  145.500000\n",
      "75%      1.750000  146.000000  146.000000\n",
      "max    201.000000  346.000000  147.000000\n"
     ]
    },
    {
     "data": {
      "text/html": [
       "<div>\n",
       "<style scoped>\n",
       "    .dataframe tbody tr th:only-of-type {\n",
       "        vertical-align: middle;\n",
       "    }\n",
       "\n",
       "    .dataframe tbody tr th {\n",
       "        vertical-align: top;\n",
       "    }\n",
       "\n",
       "    .dataframe thead th {\n",
       "        text-align: right;\n",
       "    }\n",
       "</style>\n",
       "<table border=\"1\" class=\"dataframe\">\n",
       "  <thead>\n",
       "    <tr style=\"text-align: right;\">\n",
       "      <th></th>\n",
       "      <th>PDBid_Chain</th>\n",
       "      <th>PDBid</th>\n",
       "      <th>chain</th>\n",
       "      <th>start</th>\n",
       "      <th>end</th>\n",
       "      <th>length</th>\n",
       "      <th>Alpha-helixes</th>\n",
       "      <th>Beta-sheets</th>\n",
       "      <th>ThreeTen-helixes</th>\n",
       "      <th>Count_AlphaH</th>\n",
       "      <th>Count_BetaS</th>\n",
       "      <th>Count_ThreeTenH</th>\n",
       "    </tr>\n",
       "  </thead>\n",
       "  <tbody>\n",
       "    <tr>\n",
       "      <th>0</th>\n",
       "      <td>1A3N_A</td>\n",
       "      <td>1A3N</td>\n",
       "      <td>A</td>\n",
       "      <td>1</td>\n",
       "      <td>141</td>\n",
       "      <td>141</td>\n",
       "      <td>NaN</td>\n",
       "      <td>NaN</td>\n",
       "      <td>NaN</td>\n",
       "      <td>NaN</td>\n",
       "      <td>NaN</td>\n",
       "      <td>NaN</td>\n",
       "    </tr>\n",
       "    <tr>\n",
       "      <th>1</th>\n",
       "      <td>1A3N_B</td>\n",
       "      <td>1A3N</td>\n",
       "      <td>B</td>\n",
       "      <td>2</td>\n",
       "      <td>146</td>\n",
       "      <td>145</td>\n",
       "      <td>NaN</td>\n",
       "      <td>NaN</td>\n",
       "      <td>NaN</td>\n",
       "      <td>NaN</td>\n",
       "      <td>NaN</td>\n",
       "      <td>NaN</td>\n",
       "    </tr>\n",
       "    <tr>\n",
       "      <th>2</th>\n",
       "      <td>1A4F_A</td>\n",
       "      <td>1A4F</td>\n",
       "      <td>A</td>\n",
       "      <td>1</td>\n",
       "      <td>141</td>\n",
       "      <td>141</td>\n",
       "      <td>NaN</td>\n",
       "      <td>NaN</td>\n",
       "      <td>NaN</td>\n",
       "      <td>NaN</td>\n",
       "      <td>NaN</td>\n",
       "      <td>NaN</td>\n",
       "    </tr>\n",
       "  </tbody>\n",
       "</table>\n",
       "</div>"
      ],
      "text/plain": [
       "  PDBid_Chain PDBid chain  start  end  length  Alpha-helixes  Beta-sheets  \\\n",
       "0      1A3N_A  1A3N     A      1  141     141            NaN          NaN   \n",
       "1      1A3N_B  1A3N     B      2  146     145            NaN          NaN   \n",
       "2      1A4F_A  1A4F     A      1  141     141            NaN          NaN   \n",
       "\n",
       "   ThreeTen-helixes  Count_AlphaH  Count_BetaS  Count_ThreeTenH  \n",
       "0               NaN           NaN          NaN              NaN  \n",
       "1               NaN           NaN          NaN              NaN  \n",
       "2               NaN           NaN          NaN              NaN  "
      ]
     },
     "metadata": {},
     "output_type": "display_data"
    },
    {
     "data": {
      "text/html": [
       "<div>\n",
       "<style scoped>\n",
       "    .dataframe tbody tr th:only-of-type {\n",
       "        vertical-align: middle;\n",
       "    }\n",
       "\n",
       "    .dataframe tbody tr th {\n",
       "        vertical-align: top;\n",
       "    }\n",
       "\n",
       "    .dataframe thead th {\n",
       "        text-align: right;\n",
       "    }\n",
       "</style>\n",
       "<table border=\"1\" class=\"dataframe\">\n",
       "  <thead>\n",
       "    <tr style=\"text-align: right;\">\n",
       "      <th></th>\n",
       "      <th>PDBid_Chain</th>\n",
       "      <th>PDBid</th>\n",
       "      <th>chain</th>\n",
       "      <th>start</th>\n",
       "      <th>end</th>\n",
       "      <th>length</th>\n",
       "      <th>Alpha-helixes</th>\n",
       "      <th>Beta-sheets</th>\n",
       "      <th>ThreeTen-helixes</th>\n",
       "      <th>Count_AlphaH</th>\n",
       "      <th>Count_BetaS</th>\n",
       "      <th>Count_ThreeTenH</th>\n",
       "    </tr>\n",
       "  </thead>\n",
       "  <tbody>\n",
       "    <tr>\n",
       "      <th>0</th>\n",
       "      <td>1A3N_A</td>\n",
       "      <td>1A3N</td>\n",
       "      <td>A</td>\n",
       "      <td>1</td>\n",
       "      <td>141</td>\n",
       "      <td>141</td>\n",
       "      <td>NaN</td>\n",
       "      <td>NaN</td>\n",
       "      <td>NaN</td>\n",
       "      <td>NaN</td>\n",
       "      <td>NaN</td>\n",
       "      <td>NaN</td>\n",
       "    </tr>\n",
       "    <tr>\n",
       "      <th>1</th>\n",
       "      <td>1A3N_B</td>\n",
       "      <td>1A3N</td>\n",
       "      <td>B</td>\n",
       "      <td>2</td>\n",
       "      <td>146</td>\n",
       "      <td>145</td>\n",
       "      <td>NaN</td>\n",
       "      <td>NaN</td>\n",
       "      <td>NaN</td>\n",
       "      <td>NaN</td>\n",
       "      <td>NaN</td>\n",
       "      <td>NaN</td>\n",
       "    </tr>\n",
       "    <tr>\n",
       "      <th>2</th>\n",
       "      <td>1A4F_A</td>\n",
       "      <td>1A4F</td>\n",
       "      <td>A</td>\n",
       "      <td>1</td>\n",
       "      <td>141</td>\n",
       "      <td>141</td>\n",
       "      <td>NaN</td>\n",
       "      <td>NaN</td>\n",
       "      <td>NaN</td>\n",
       "      <td>NaN</td>\n",
       "      <td>NaN</td>\n",
       "      <td>NaN</td>\n",
       "    </tr>\n",
       "    <tr>\n",
       "      <th>3</th>\n",
       "      <td>1A4F_B</td>\n",
       "      <td>1A4F</td>\n",
       "      <td>B</td>\n",
       "      <td>1</td>\n",
       "      <td>146</td>\n",
       "      <td>146</td>\n",
       "      <td>NaN</td>\n",
       "      <td>NaN</td>\n",
       "      <td>NaN</td>\n",
       "      <td>NaN</td>\n",
       "      <td>NaN</td>\n",
       "      <td>NaN</td>\n",
       "    </tr>\n",
       "    <tr>\n",
       "      <th>4</th>\n",
       "      <td>1ASH_A</td>\n",
       "      <td>1ASH</td>\n",
       "      <td>A</td>\n",
       "      <td>0</td>\n",
       "      <td>146</td>\n",
       "      <td>147</td>\n",
       "      <td>NaN</td>\n",
       "      <td>NaN</td>\n",
       "      <td>NaN</td>\n",
       "      <td>NaN</td>\n",
       "      <td>NaN</td>\n",
       "      <td>NaN</td>\n",
       "    </tr>\n",
       "    <tr>\n",
       "      <th>5</th>\n",
       "      <td>1IT2_B</td>\n",
       "      <td>1IT2</td>\n",
       "      <td>B</td>\n",
       "      <td>201</td>\n",
       "      <td>346</td>\n",
       "      <td>146</td>\n",
       "      <td>NaN</td>\n",
       "      <td>NaN</td>\n",
       "      <td>NaN</td>\n",
       "      <td>NaN</td>\n",
       "      <td>NaN</td>\n",
       "      <td>NaN</td>\n",
       "    </tr>\n",
       "  </tbody>\n",
       "</table>\n",
       "</div>"
      ],
      "text/plain": [
       "  PDBid_Chain PDBid chain  start  end  length  Alpha-helixes  Beta-sheets  \\\n",
       "0      1A3N_A  1A3N     A      1  141     141            NaN          NaN   \n",
       "1      1A3N_B  1A3N     B      2  146     145            NaN          NaN   \n",
       "2      1A4F_A  1A4F     A      1  141     141            NaN          NaN   \n",
       "3      1A4F_B  1A4F     B      1  146     146            NaN          NaN   \n",
       "4      1ASH_A  1ASH     A      0  146     147            NaN          NaN   \n",
       "5      1IT2_B  1IT2     B    201  346     146            NaN          NaN   \n",
       "\n",
       "   ThreeTen-helixes  Count_AlphaH  Count_BetaS  Count_ThreeTenH  \n",
       "0               NaN           NaN          NaN              NaN  \n",
       "1               NaN           NaN          NaN              NaN  \n",
       "2               NaN           NaN          NaN              NaN  \n",
       "3               NaN           NaN          NaN              NaN  \n",
       "4               NaN           NaN          NaN              NaN  \n",
       "5               NaN           NaN          NaN              NaN  "
      ]
     },
     "execution_count": 11,
     "metadata": {},
     "output_type": "execute_result"
    }
   ],
   "source": [
    "print('Добро пожаловать!')\n",
    "start_time = time.perf_counter() #счётчик времени выполнения проги\n",
    "        \n",
    "df = Start()\n",
    "Change_df (df)\n",
    "#Hist_maker(df)"
   ]
  },
  {
   "cell_type": "code",
   "execution_count": 12,
   "id": "d6cc7560-8d68-48be-b20a-2a206991de12",
   "metadata": {},
   "outputs": [
    {
     "name": "stdout",
     "output_type": "stream",
     "text": [
      "Выберите какие структуры Вы хотели бы просмотреть: 1-альфа-спирали, 2-спирали 3_10, 3-бета-листы, 0-все приведённые и нерегулярные структуры.\n"
     ]
    },
    {
     "ename": "KeyboardInterrupt",
     "evalue": "Interrupted by user",
     "output_type": "error",
     "traceback": [
      "\u001b[0;31m---------------------------------------------------------------------------\u001b[0m",
      "\u001b[0;31mKeyboardInterrupt\u001b[0m                         Traceback (most recent call last)",
      "Cell \u001b[0;32mIn[12], line 2\u001b[0m\n\u001b[1;32m      1\u001b[0m \u001b[38;5;28mprint\u001b[39m(\u001b[38;5;124m\"\u001b[39m\u001b[38;5;124mВыберите какие структуры Вы хотели бы просмотреть: 1-альфа-спирали, 2-спирали 3_10, 3-бета-листы, 0-все приведённые и нерегулярные структуры.\u001b[39m\u001b[38;5;124m\"\u001b[39m)\n\u001b[0;32m----> 2\u001b[0m v \u001b[38;5;241m=\u001b[39m \u001b[38;5;28;43minput\u001b[39;49m\u001b[43m(\u001b[49m\u001b[43m)\u001b[49m\n\u001b[1;32m      3\u001b[0m \u001b[38;5;28mprint\u001b[39m(\u001b[38;5;124m\"\u001b[39m\u001b[38;5;124mВы ввели: \u001b[39m\u001b[38;5;124m\"\u001b[39m, v)\n\u001b[1;32m      4\u001b[0m \u001b[38;5;28;01mif\u001b[39;00m (v \u001b[38;5;241m==\u001b[39m \u001b[38;5;124m\"\u001b[39m\u001b[38;5;124m1\u001b[39m\u001b[38;5;124m\"\u001b[39m):\n",
      "File \u001b[0;32m~/miniconda3/envs/phd/lib/python3.12/site-packages/ipykernel/kernelbase.py:1282\u001b[0m, in \u001b[0;36mKernel.raw_input\u001b[0;34m(self, prompt)\u001b[0m\n\u001b[1;32m   1280\u001b[0m     msg \u001b[38;5;241m=\u001b[39m \u001b[38;5;124m\"\u001b[39m\u001b[38;5;124mraw_input was called, but this frontend does not support input requests.\u001b[39m\u001b[38;5;124m\"\u001b[39m\n\u001b[1;32m   1281\u001b[0m     \u001b[38;5;28;01mraise\u001b[39;00m StdinNotImplementedError(msg)\n\u001b[0;32m-> 1282\u001b[0m \u001b[38;5;28;01mreturn\u001b[39;00m \u001b[38;5;28;43mself\u001b[39;49m\u001b[38;5;241;43m.\u001b[39;49m\u001b[43m_input_request\u001b[49m\u001b[43m(\u001b[49m\n\u001b[1;32m   1283\u001b[0m \u001b[43m    \u001b[49m\u001b[38;5;28;43mstr\u001b[39;49m\u001b[43m(\u001b[49m\u001b[43mprompt\u001b[49m\u001b[43m)\u001b[49m\u001b[43m,\u001b[49m\n\u001b[1;32m   1284\u001b[0m \u001b[43m    \u001b[49m\u001b[38;5;28;43mself\u001b[39;49m\u001b[38;5;241;43m.\u001b[39;49m\u001b[43m_parent_ident\u001b[49m\u001b[43m[\u001b[49m\u001b[38;5;124;43m\"\u001b[39;49m\u001b[38;5;124;43mshell\u001b[39;49m\u001b[38;5;124;43m\"\u001b[39;49m\u001b[43m]\u001b[49m\u001b[43m,\u001b[49m\n\u001b[1;32m   1285\u001b[0m \u001b[43m    \u001b[49m\u001b[38;5;28;43mself\u001b[39;49m\u001b[38;5;241;43m.\u001b[39;49m\u001b[43mget_parent\u001b[49m\u001b[43m(\u001b[49m\u001b[38;5;124;43m\"\u001b[39;49m\u001b[38;5;124;43mshell\u001b[39;49m\u001b[38;5;124;43m\"\u001b[39;49m\u001b[43m)\u001b[49m\u001b[43m,\u001b[49m\n\u001b[1;32m   1286\u001b[0m \u001b[43m    \u001b[49m\u001b[43mpassword\u001b[49m\u001b[38;5;241;43m=\u001b[39;49m\u001b[38;5;28;43;01mFalse\u001b[39;49;00m\u001b[43m,\u001b[49m\n\u001b[1;32m   1287\u001b[0m \u001b[43m\u001b[49m\u001b[43m)\u001b[49m\n",
      "File \u001b[0;32m~/miniconda3/envs/phd/lib/python3.12/site-packages/ipykernel/kernelbase.py:1325\u001b[0m, in \u001b[0;36mKernel._input_request\u001b[0;34m(self, prompt, ident, parent, password)\u001b[0m\n\u001b[1;32m   1322\u001b[0m \u001b[38;5;28;01mexcept\u001b[39;00m \u001b[38;5;167;01mKeyboardInterrupt\u001b[39;00m:\n\u001b[1;32m   1323\u001b[0m     \u001b[38;5;66;03m# re-raise KeyboardInterrupt, to truncate traceback\u001b[39;00m\n\u001b[1;32m   1324\u001b[0m     msg \u001b[38;5;241m=\u001b[39m \u001b[38;5;124m\"\u001b[39m\u001b[38;5;124mInterrupted by user\u001b[39m\u001b[38;5;124m\"\u001b[39m\n\u001b[0;32m-> 1325\u001b[0m     \u001b[38;5;28;01mraise\u001b[39;00m \u001b[38;5;167;01mKeyboardInterrupt\u001b[39;00m(msg) \u001b[38;5;28;01mfrom\u001b[39;00m \u001b[38;5;28;01mNone\u001b[39;00m\n\u001b[1;32m   1326\u001b[0m \u001b[38;5;28;01mexcept\u001b[39;00m \u001b[38;5;167;01mException\u001b[39;00m:\n\u001b[1;32m   1327\u001b[0m     \u001b[38;5;28mself\u001b[39m\u001b[38;5;241m.\u001b[39mlog\u001b[38;5;241m.\u001b[39mwarning(\u001b[38;5;124m\"\u001b[39m\u001b[38;5;124mInvalid Message:\u001b[39m\u001b[38;5;124m\"\u001b[39m, exc_info\u001b[38;5;241m=\u001b[39m\u001b[38;5;28;01mTrue\u001b[39;00m)\n",
      "\u001b[0;31mKeyboardInterrupt\u001b[0m: Interrupted by user"
     ]
    }
   ],
   "source": [
    "print(\"Выберите какие структуры Вы хотели бы просмотреть: 1-альфа-спирали, 2-спирали 3_10, 3-бета-листы, 0-все приведённые и нерегулярные структуры.\")\n",
    "v = input()\n",
    "print(\"Вы ввели: \", v)\n",
    "if (v == \"1\"):\n",
    "    print(\"Начинаю просматривать альфа-спирали\")\n",
    "    Alpha_helix(df)\n",
    "else:\n",
    "    if (v == \"2\"):\n",
    "        print(\"Начинаю просматривать спирали 3-10\") \n",
    "        ThreeTen_helix(df)\n",
    "    else:\n",
    "        if (v == \"3\"):\n",
    "            print(\"Начинаю просматривать бета-листы\")\n",
    "            Beta_sheet(df)\n",
    "        else: \n",
    "            if (v == \"0\"):\n",
    "                print(\"Начинаю просматривать альфа-спирали\")\n",
    "                Alpha_helix(df)\n",
    "                print(\"Начинаю просматривать спирали 3-10\") \n",
    "                ThreeTen_helix(df)\n",
    "                print(\"Начинаю просматривать бета-листы\")\n",
    "                Beta_sheet(df)\n",
    "                print(\"Начинаю просматривать нерегулярные структуры\")\n",
    "                Irregular(df)\n",
    "            else: print(\"Вы ввели неверное значение v. Попробуйте ещё раз\")\n"
   ]
  },
  {
   "cell_type": "code",
   "execution_count": null,
   "id": "c6844849-21f0-40d8-9e12-ca0226b1a013",
   "metadata": {},
   "outputs": [],
   "source": [
    "\n",
    "\n",
    "#input()\n",
    "#print(df.head)\n",
    "\n",
    "#df.to_excel(\"Result.xlsx\")         \n",
    "                   \n",
    "print('Время работы скрипта: ',time.perf_counter()-start_time, 'сек')\n",
    "#Время работы скрипта:  1739.8240654 сек // ~29минут"
   ]
  },
  {
   "cell_type": "code",
   "execution_count": null,
   "id": "d645596d-99cf-470b-a640-efe0ab7ce0b0",
   "metadata": {},
   "outputs": [],
   "source": [
    "df"
   ]
  },
  {
   "cell_type": "code",
   "execution_count": null,
   "id": "09667aa3-2483-4a72-bac6-27957af5d046",
   "metadata": {},
   "outputs": [],
   "source": []
  },
  {
   "cell_type": "code",
   "execution_count": null,
   "id": "ff81fff9-f365-486c-b53a-a298c51f24ee",
   "metadata": {},
   "outputs": [],
   "source": []
  },
  {
   "cell_type": "code",
   "execution_count": null,
   "id": "cfaec158-93c2-4221-89ab-4acd461e2db4",
   "metadata": {},
   "outputs": [],
   "source": [
    "import numpy as np\n",
    "import pandas as pd\n",
    "import biotite.structure.io.pdbx as pdbx\n",
    "import biotite.database.rcsb as rcsb"
   ]
  },
  {
   "cell_type": "markdown",
   "id": "fc2869ed-2d82-42e0-af41-24553d608ad3",
   "metadata": {
    "jp-MarkdownHeadingCollapsed": true
   },
   "source": [
    "## Start --> read_prot_set --> ∅"
   ]
  },
  {
   "cell_type": "code",
   "execution_count": null,
   "id": "30132ef5-bc72-4ddd-84d2-68b74e3293e1",
   "metadata": {},
   "outputs": [],
   "source": [
    "#TODO: check up the mode asserts?\n",
    "# is exist the path/file\n",
    "\n",
    "#START in previous life\n",
    "\n",
    "def read_prot_set(path: str, mode: str = 'xlsx'):\n",
    "    \"\"\"\n",
    "    Read protein set data from file through the path and return a pandas dataframe. The following data structure is required: PDBid, chain, start, end. Header is needed.\n",
    "    arguments:\n",
    "        - path (str): path to the file for reading\n",
    "        - mode (str): file format to read. Only xlsx, csv and tsv formats are allowed\n",
    "    return:\n",
    "        - prot_set_df (pandas.DataFrame): dataframe of the protein set\n",
    "    \"\"\"\n",
    "    print('----read_prot_set----')\n",
    "\n",
    "    match mode:\n",
    "        case 'xlsx':\n",
    "            prot_set_df = pd.read_excel(path)\n",
    "        case 'csv':\n",
    "            prot_set_df = pd.read_csv(path)\n",
    "        case 'tsv':\n",
    "            prot_set_df = pd.read_csv(path, sep='\\t')\n",
    "\n",
    "    #prot_set_df.insert(0, 'PDBid_Chain', prot_set_df['PDBid']+'_'+prot_set_df['chain'])#add unique identificator for each chain -> PDBid_Chain\n",
    "    prot_set_df['length'] = prot_set_df['end'] - prot_set_df['start'] + 1 #из calculate_length\n",
    "\n",
    "    return prot_set_df"
   ]
  },
  {
   "cell_type": "code",
   "execution_count": null,
   "id": "64347686-ef24-4636-8845-7194451cc300",
   "metadata": {},
   "outputs": [],
   "source": [
    "df = read_prot_set('book.xlsx')\n",
    "df"
   ]
  },
  {
   "cell_type": "code",
   "execution_count": null,
   "id": "c187031c-34f0-4b8d-b44f-04b7b45cde29",
   "metadata": {},
   "outputs": [],
   "source": [
    "read_prot_set('book.csv', mode='csv')"
   ]
  },
  {
   "cell_type": "code",
   "execution_count": null,
   "id": "b5d1d22b-8659-4c3e-8516-ceac25e00f22",
   "metadata": {},
   "outputs": [],
   "source": [
    "read_prot_set('book.tsv', mode='tsv')"
   ]
  },
  {
   "cell_type": "code",
   "execution_count": null,
   "id": "c685c1e6-92de-4ac5-9b2f-13d3cd3dabe1",
   "metadata": {},
   "outputs": [],
   "source": []
  },
  {
   "cell_type": "markdown",
   "id": "43a22f6f-2568-4b88-90a8-e94822faa095",
   "metadata": {
    "jp-MarkdownHeadingCollapsed": true
   },
   "source": [
    "## Change_df --> count_length --> ∅"
   ]
  },
  {
   "cell_type": "code",
   "execution_count": null,
   "id": "ae1d65a8-0e2f-4722-a559-45f5ae844fd1",
   "metadata": {},
   "outputs": [],
   "source": [
    "#TODO: is it necessary to save this step. Or maiby only with special mode\n",
    "\n",
    "#Change_df in previous life\n",
    "\n",
    "\n",
    "def calculate_length_(prot_set_df):\n",
    "    \"\"\"\n",
    "    Calculate lengths for each chain in amino acids. Add an additional column to dataframe of the protein set.\n",
    "    arguments:\n",
    "        - prot_set_df (pandas.DataFrame): dataframe of the protein set\n",
    "    \"\"\"\n",
    "    print('----calculate_length----')\n",
    "\n",
    "    prot_set_df['length'] = prot_set_df['end'] - prot_set_df['start'] + 1\n",
    "\n",
    "    #is it n=necessary?\n",
    "    #print('Саммари\\n', prot_set_df.describe())\n",
    "    #prot_set_df.describe().to_excel(\"Podborka_describe.xlsx\")#запишем себе данные дискрайба\n",
    "    #prot_set_df.to_excel(\"Podborka.xlsx\")\n",
    "\n",
    "    return prot_set_df#это надо?"
   ]
  },
  {
   "cell_type": "code",
   "execution_count": null,
   "id": "eec98e81-9833-46fd-ba88-e4d0a759c8bc",
   "metadata": {
    "jupyter": {
     "source_hidden": true
    }
   },
   "outputs": [],
   "source": [
    "calculate_length(df)"
   ]
  },
  {
   "cell_type": "code",
   "execution_count": null,
   "id": "2f51bb2b-3a54-40dd-a8a7-fc71ef8af1c3",
   "metadata": {},
   "outputs": [],
   "source": []
  },
  {
   "cell_type": "markdown",
   "id": "b3254209-60a8-4948-a8ea-0bd5479f0f49",
   "metadata": {
    "jp-MarkdownHeadingCollapsed": true
   },
   "source": [
    "## Hist_maker --> ∅"
   ]
  },
  {
   "cell_type": "code",
   "execution_count": null,
   "id": "c7f2dabc-6158-4ef0-9088-f14885795c50",
   "metadata": {},
   "outputs": [],
   "source": []
  },
  {
   "cell_type": "code",
   "execution_count": null,
   "id": "6705f99d-7e5e-4d6a-ae28-298f837f2615",
   "metadata": {},
   "outputs": [],
   "source": []
  },
  {
   "cell_type": "code",
   "execution_count": null,
   "id": "1f772855-be9e-41a0-b902-549a38e055ae",
   "metadata": {},
   "outputs": [],
   "source": []
  },
  {
   "cell_type": "markdown",
   "id": "81aabdc0-ff79-42ae-a5d4-eb14a48d561f",
   "metadata": {},
   "source": [
    "## list_struc_maker --> calculate_distribution"
   ]
  },
  {
   "cell_type": "code",
   "execution_count": null,
   "id": "d1a9be39-a2c0-4995-812e-d55a7b7baea0",
   "metadata": {},
   "outputs": [],
   "source": [
    "def calculate_distribution(structures_df, length_dom, start_dom, structure_obj):\n",
    "    '''создаёт список длиной скоkько а.о. и заполняет 1 там где есть структура \n",
    "    [Вход: датафрейм со спиралями structures_df, длина белка l, начало белка start_dom. \n",
    "    Вызывается в Alpha_helix ThreeTen_helix и Beta_sheets'''\n",
    "    print('-----calculate_distribution----')\n",
    "    #print(f'length_dom={length_dom}, start_dom={start_dom}')\n",
    "    \n",
    "    #Считываем нужные альфа-спирали в список \n",
    "    struc_distr = [0] * length_dom#список, где будем выставлять наличие альфа-спиралей\n",
    "    \n",
    "    #заполняем его (это тот, что в аминокислотных остатках)\n",
    "    for i in range(0, len(structures_df)):#\n",
    "        start = int(structures_df.iloc[i][\"start_hel\"])\n",
    "        stop = int(structures_df.iloc[i][\"stop_hel\"])\n",
    "        #print(\"СТАРТ=\", start, \" СТОП=\", stop)\n",
    "        #ставим относительно начала и конца домена с учётом, что в списке начало с 0, а не 1 и учёт домена\n",
    "        start = start - structure_obj.start_dom\n",
    "        stop = stop - structure_obj.start_dom\n",
    "        #print(\"start=\", start, \" stop=\", stop)\n",
    "        \n",
    "        #вносим в нашу цепь данные\n",
    "        for aa in range (start, stop+1):#stop+1):\n",
    "            #print(f'aa={aa}')\n",
    "            struc_distr[aa] = 1\n",
    "            #print(\"struc_distr\", struc_distr[c])\n",
    "    \n",
    "    struc_distr_scaled = scaler(struc_distr, length_dom)\n",
    "    \n",
    "    print(f\"struc_distr = {struc_distr}\")\n",
    "    print()\n",
    "    print(f\"struc_distr_scaled = {struc_distr_scaled}\")\n",
    "    \n",
    "    return struc_distr_scaled"
   ]
  },
  {
   "cell_type": "code",
   "execution_count": null,
   "id": "4ab83d82-f53d-4347-b414-dfbd2aac17a2",
   "metadata": {},
   "outputs": [],
   "source": []
  },
  {
   "cell_type": "code",
   "execution_count": null,
   "id": "750bbbc6-d5d3-485f-9100-6c36d40b4db6",
   "metadata": {},
   "outputs": [],
   "source": []
  },
  {
   "cell_type": "markdown",
   "id": "9088443d-edf5-4615-a438-b44d38ae8e7a",
   "metadata": {},
   "source": [
    "## translater --> scaler"
   ]
  },
  {
   "cell_type": "code",
   "execution_count": null,
   "id": "d7308251-a840-4425-a06a-e8a8d700ced9",
   "metadata": {},
   "outputs": [],
   "source": [
    "def scaler(struc_distr, length_dom):\n",
    "    print('-----scaler----')\n",
    "    \n",
    "    #делаем список из 100 ячеек (наши координаты, т.е. %)\n",
    "    scaled_distr = [0] * 100\n",
    "    weight = length_dom / 100#Сколько приходится аминокислот на 1 ячейку\n",
    "    print(\"T=\", weight)\n",
    "    \n",
    "    if weight != 1:\n",
    "        k, t = 1, weight\n",
    "        #print(\"t=\", t)\n",
    "        i,j  = 1, 1\n",
    "        while i < length_dom and j < 100:\n",
    "            a = min(k, t)\n",
    "            scaled_distr[j] = round(scaled_distr[j] + a * struc_distr[i], 2)\n",
    "            k, t = round(k - a, 2), round(t - a, 2)\n",
    "            #print(\"a=\",a,\" значение[\",i,\"]=\", struc_distr[i],\" scaled_distr[\", j,\"]=\", scaled_distr[j], \" k=\",k,\" t=\",t, \" i=\", i, \" j=\",j)\n",
    "            if k == 0:\n",
    "                i += 1\n",
    "                k = 1\n",
    "            if t == 0:\n",
    "                j = j + 1\n",
    "                t = weight\n",
    "            #print(\"k=\",k, \" t=\", t)\n",
    "        scaled_distr = [round(x / weight, 2) for x in scaled_distr]\n",
    "    \n",
    "    else:#if weight == 1:\n",
    "        scaled_distr = struc_distr#просто копируем\n",
    "    #print(\"scaled_distr\\n\", scaled_distr)\n",
    "    return scaled_distr\n"
   ]
  },
  {
   "cell_type": "code",
   "execution_count": null,
   "id": "468f898f-f085-458a-9dc3-5c85700cdccb",
   "metadata": {},
   "outputs": [],
   "source": []
  },
  {
   "cell_type": "code",
   "execution_count": null,
   "id": "f3f7ee51-6b7d-49e3-858b-2643d8be7f49",
   "metadata": {},
   "outputs": [],
   "source": []
  },
  {
   "cell_type": "markdown",
   "id": "28afacdc-1bec-4b9e-85ee-e46a1f0962fa",
   "metadata": {},
   "source": [
    "## Alpha_helix | ThreeTen_helix | Beta_sheet | Irregular --> OOP"
   ]
  },
  {
   "cell_type": "markdown",
   "id": "a919d2d2-3a42-4421-b5bd-e0e5da5ca794",
   "metadata": {},
   "source": [
    "## Alpha-helix"
   ]
  },
  {
   "cell_type": "code",
   "execution_count": null,
   "id": "c6297f48-3de2-4637-96da-251efac54097",
   "metadata": {},
   "outputs": [],
   "source": [
    "#dataclass SecondaryStructure\n",
    "#Helix(SecondaryStructure)\n",
    "#AlphaHelix(Helix)\n",
    "#ThreeTenHelix(Helix)\n",
    "#BetaSheet(SecondaryStructure)\n",
    "#Irregular(SecondaryStructure)\n",
    "\n",
    "#let it be node for which structure schould be processed \n",
    "#let it be mode for separate or full result for each type of secondary structure (but if full then join it on the last step)\n",
    "\n",
    "#TO DO: загрузочная линия\n",
    "#TO DO: проблемные структуры в отдельный файл и выводить сколько структур было отработано чисто"
   ]
  },
  {
   "cell_type": "code",
   "execution_count": null,
   "id": "0594a315-0f71-4543-9ffb-3ec3e11fd79b",
   "metadata": {},
   "outputs": [],
   "source": []
  },
  {
   "cell_type": "code",
   "execution_count": null,
   "id": "9e107362-f133-496e-94dc-9a24ccddd8a2",
   "metadata": {},
   "outputs": [],
   "source": [
    "class Proteins:\n",
    "    def __init__(self, structures_df = pd.DataFrame()):\n",
    "        print('-----Proteins-----')\n",
    "        self.prot_set_df = None\n",
    "        self.structures_df = structures_df#pd.DataFrame()\n",
    "\n",
    "    def read_prot_set(self, path, mode = 'xlsx'):\n",
    "        \"\"\"\n",
    "        Read protein set data from file through the path and return a pandas dataframe. The following data structure is required: PDBid, chain, start, end. Header is needed.\n",
    "        arguments:\n",
    "            - path (str): path to the file for reading\n",
    "            - mode (str): file format to read. Only xlsx, csv and tsv formats are allowed\n",
    "        return:\n",
    "            - prot_set_df (pandas.DataFrame): dataframe of the protein set\n",
    "        \"\"\"\n",
    "        print('----Proteins.read_prot_set()----')\n",
    "        #print(f'path={path}, mode={mode}')\n",
    "        match mode:\n",
    "            case 'xlsx':\n",
    "                #print('XLSX')\n",
    "                self.prot_set_df = pd.read_excel(path)\n",
    "            case 'csv':\n",
    "                #print('CSV')\n",
    "                self.prot_set_df = pd.read_csv(path)\n",
    "            case 'tsv':\n",
    "                #print('TSV')\n",
    "                self.prot_set_df = pd.read_csv(path, sep='\\t')\n",
    "        #display(self.prot_set_df.head(3))\n",
    "    \n",
    "        self.prot_set_df['length'] = self.prot_set_df['end'] - self.prot_set_df['start'] + 1 #из calculate_length\n",
    "    \n",
    "        return self.prot_set_df\n",
    "\n",
    "    def save_strutures_df_(self, path='result.xlsx', mode='xlsx'):\n",
    "        match mode:\n",
    "            case 'xlsx':\n",
    "                self.structures_df.to_excel(path)\n",
    "            case 'csv':\n",
    "                self.structures_df.to_csv(path)\n",
    "            case 'tsv':\n",
    "                self.structures_df.to_csv(path, sep='\\t')\n",
    "    "
   ]
  },
  {
   "cell_type": "code",
   "execution_count": null,
   "id": "134a4912-2977-4196-91ad-9e68928d3e55",
   "metadata": {},
   "outputs": [],
   "source": []
  },
  {
   "cell_type": "code",
   "execution_count": null,
   "id": "2aa43f34-4616-4d2b-97ac-d4c591551a1e",
   "metadata": {},
   "outputs": [],
   "source": [
    "pr = Proteins()\n",
    "#df = read_prot_set('book.xlsx')\n",
    "\n",
    "df = pr.read_prot_set('book.xlsx')\n",
    "df"
   ]
  },
  {
   "cell_type": "code",
   "execution_count": null,
   "id": "0656929a-58d1-4672-aa61-8839eaf724d6",
   "metadata": {},
   "outputs": [],
   "source": [
    "pr.structures_df"
   ]
  },
  {
   "cell_type": "code",
   "execution_count": null,
   "id": "7fec0a93-c704-4fab-b795-f4e8fbb9a6cf",
   "metadata": {},
   "outputs": [],
   "source": []
  },
  {
   "cell_type": "code",
   "execution_count": null,
   "id": "bde07a7c-c656-4eae-a7d9-1f5ce029409c",
   "metadata": {},
   "outputs": [],
   "source": [
    "class Domain(Proteins):#вообше это не домен, если мы пихаем фулл инфу о подборке\n",
    "    '''Class for storing information about whole protein'''\n",
    "    def __init__(self, PDBid, length_dom, chain_dom, start_dom, stop_dom):# НАКИНУТЬ self.prot_set_df self.structures_df\n",
    "        print('------Domain------')\n",
    "        #self.c = prot_set_df#Убрать это от сюда в какой-нибудь фор \n",
    "        self.PDBid = PDBid\n",
    "        self.length_dom = length_dom\n",
    "        self.chain_dom = chain_dom\n",
    "        self.start_dom = start_dom\n",
    "        self.stop_dom = stop_dom\n",
    "        super().__init__()\n",
    "        \n",
    "        \n",
    "        #ПЕРЕПИСАТЬ ЧТОБЫ ИНСЁРТ БЫЛ НОВЫХ ЦЕПЕЙ\n",
    "        self.structures_df = pd.concat([self.structures_df, pd.DataFrame({'PDBid': [self.PDBid], 'chain': [self.chain_dom], \n",
    "                                                                          'start': [start_dom], 'end': [self.stop_dom], \n",
    "                                                                          'length': [self.length_dom]})])#потом мб изменить как-то типо структуры\n",
    "        #print('!!!!! structures_df')\n",
    "        #display(self.structures_df)\n",
    "        #self.structures_df = pd.DataFrame({'PDBid': [self.PDBid], 'chain': [self.chain_dom], 'start': [start_dom], \n",
    "                                           #'end': [self.stop_dom], 'length': [self.length_dom]})#потом мб изменить как-то типо структуры\n",
    "\n",
    "\n",
    "\n",
    "        \n",
    "        self.pdbx_file = None\n",
    "        #print(\"Данные: \", PDBid, length_dom, chain_dom, start_dom, stop_dom)\n",
    "        \n",
    "\n",
    "    def read_pdbxPfile(self):\n",
    "        '''Read pdbx file for current domain (PDBid, chain)'''\n",
    "        print('------Domain.read_pdbxPfile()------')\n",
    "        self.pdbx_file = pdbx.PDBxFile.read(rcsb.fetch(self.PDBid, \"pdbx\"))\n",
    "        #print(self.pdbx_file)  \n",
    "\n",
    "    def save_strutures_df_(self, path='result.xlsx', mode='xlsx'):#УДАЛИТЬ ПОТОМ !\n",
    "        match mode:\n",
    "            case 'xlsx':\n",
    "                self.structures_df.to_excel(path)\n",
    "            case 'csv':\n",
    "                self.structures_df.to_csv(path)\n",
    "            case 'tsv':\n",
    "                self.structures_df.to_csv(path, sep='\\t')\n",
    "    "
   ]
  },
  {
   "cell_type": "code",
   "execution_count": null,
   "id": "7d08befe-e0a9-4b60-a949-a12f7c705d0b",
   "metadata": {},
   "outputs": [],
   "source": []
  },
  {
   "cell_type": "code",
   "execution_count": null,
   "id": "f16c06ac-1f20-4bc9-ae1e-c4ffb4da4dc2",
   "metadata": {
    "scrolled": true
   },
   "outputs": [],
   "source": [
    "d = Domain(PDBid='1A3N', length_dom=141, chain_dom='A', start_dom=1, stop_dom=131)\n",
    "print(f'pdbx befor is not exist: {d.pdbx_file}')\n",
    "d.read_pdbxPfile()\n",
    "d.pdbx_file"
   ]
  },
  {
   "cell_type": "code",
   "execution_count": null,
   "id": "899a39c9-5e3c-456c-a929-b5d5235f0e01",
   "metadata": {},
   "outputs": [],
   "source": [
    "d.structures_df"
   ]
  },
  {
   "cell_type": "code",
   "execution_count": null,
   "id": "e233af4f-6778-4bc7-b66e-539d96ffaaff",
   "metadata": {},
   "outputs": [],
   "source": []
  },
  {
   "cell_type": "code",
   "execution_count": null,
   "id": "ebb702d0-4190-468a-8707-f9a6d827d028",
   "metadata": {},
   "outputs": [],
   "source": [
    "class Helix(Domain):\n",
    "    '''Class for storage helices' information'''\n",
    "    def __init__(self, PDBid, length_dom, chain_dom, start_dom, stop_dom):\n",
    "        print('------Helix------')\n",
    "        super().__init__(PDBid=PDBid, length_dom=length_dom, chain_dom=chain_dom, start_dom=start_dom, stop_dom=stop_dom)\n",
    "        self.id_hel = None\n",
    "        self.start_hel = None\n",
    "        self.stop_hel = None\n",
    "        self.class_hel = None\n",
    "        self.length_hel = None\n",
    "        self.chain_hel = None\n",
    "        self.helices_df = None\n",
    "        #мб датакласс выше?\n",
    "\n",
    "\n",
    "    def get_helices(self):\n",
    "        print('------Helix.get_helices------')\n",
    "        self.id_hel = self.pdbx_file [self.PDBid, \"struct_conf\"][\"pdbx_PDB_helix_id\"]\n",
    "        self.start_hel = self.pdbx_file[self.PDBid, \"struct_conf\"][\"beg_label_seq_id\"]\n",
    "        self.stop_hel = self.pdbx_file [self.PDBid, \"struct_conf\"][\"end_label_seq_id\"]#концы спиралей а.о.\n",
    "        self.class_hel = self.pdbx_file [self.PDBid, \"struct_conf\"][\"pdbx_PDB_helix_class\"]#классы спирали\n",
    "        self.length_hel = self.pdbx_file [self.PDBid, \"struct_conf\"][\"pdbx_PDB_helix_length\"]#длины спирали\n",
    "        self.chain_hel = self.pdbx_file [self.PDBid, \"struct_conf\"][\"beg_auth_asym_id\"]#цепи белка по буквам, каким принадлежат эти спирали\n",
    "\n",
    "        self.start_hel = np.array([int(self.start_hel)] if isinstance(self.start_hel, str) else [int(t) for t in self.start_hel])\n",
    "        self.stop_hel = np.array([int(self.stop_hel)] if isinstance(self.stop_hel, str) else [int(t) for t in self.stop_hel])\n",
    "\n",
    "        #print(f'id_hel = {self.id_hel}')\n",
    "        #print(f'start_hel = {self.start_hel} {type(self.start_hel)}')\n",
    "        #print(f'stop_hel = {self.stop_hel} {type(self.stop_hel)}')\n",
    "        #print(f'class_hel = {self.class_hel}')\n",
    "        #print(f'length_hel = {self.length_hel}')\n",
    "        #print(f'chain_hel = {self.chain_hel}')\n",
    "\n",
    "        self.helices_df = pd.DataFrame({'id_hel' : self.id_hel,'start_hel' : self.start_hel, 'stop_hel': self.stop_hel, 'class_hel': self.class_hel, \n",
    "                                     'length_hel': self.length_hel, 'chain_hel': self.chain_hel})\n",
    "        print('helices_df\\n')\n",
    "        display(self.helices_df)\n",
    "\n",
    "\n",
    "    def count_helices(self):\n",
    "        print('------Helix.count_helices------')\n",
    "        self.structures_df.loc[len(structures_df) - 1, \"Count_AlphaH\"] = helices_df.shape[0]#кол-во альфа-спиралей\n",
    "        #ПЕРЕПИСАТЬ: ЧТО-ТО С ДАТАФРЕЙМАМИ СДЕЛАТЬ\n",
    "        \n",
    "        "
   ]
  },
  {
   "cell_type": "code",
   "execution_count": null,
   "id": "6c439d64-6b1a-47c8-854f-ff8fdfa50f22",
   "metadata": {},
   "outputs": [],
   "source": []
  },
  {
   "cell_type": "code",
   "execution_count": null,
   "id": "8b656579-d115-4c9d-8088-c4f0b67ee4de",
   "metadata": {},
   "outputs": [],
   "source": [
    "h = Helix(PDBid='1A3N', length_dom=141, chain_dom='A', start_dom=1, stop_dom=131)\n",
    "#print(h.pdbx_file)\n",
    "h.read_pdbxPfile()\n",
    "#print(h.pdbx_file)\n",
    "h.get_helices()"
   ]
  },
  {
   "cell_type": "code",
   "execution_count": null,
   "id": "c6916614-f0d0-49bc-8de4-0778be9476cf",
   "metadata": {},
   "outputs": [],
   "source": []
  },
  {
   "cell_type": "code",
   "execution_count": null,
   "id": "671cf9ca-0303-48e2-8262-a785700d7be6",
   "metadata": {},
   "outputs": [],
   "source": [
    "class AlphaHelix(Helix):\n",
    "    def __init__(self, PDBid, length_dom, chain_dom, start_dom, stop_dom):\n",
    "        super().__init__(PDBid=PDBid, length_dom=length_dom, chain_dom=chain_dom, start_dom=start_dom, stop_dom=stop_dom)\n",
    "        \n",
    "    #НУЖНО ЭТО ВСУНУТЬ В ПРОСТО ХЕЛИКС, А ПОДАВАТЬ КЛАСС СООТВЕТСТВУЮЩИЙ И ФИЛЬТРОВАТЬ ЧЕРЕЗ НЕГО\n",
    "    def get_alpha_helices(self):\n",
    "        print('--------AlphaHelix.get_alpha_helices()--------')\n",
    "        self.helices_df = self.helices_df[self.helices_df.class_hel == \"1\"]#тип спирали == альфа\n",
    "        self.helices_df = self.helices_df[self.helices_df.chain_hel == self.chain_dom]#цепь нужная по Podborka\n",
    "        self.helices_df = self.helices_df[self.helices_df.start_hel >= self.start_dom] #входит в домен\n",
    "        self.helices_df = self.helices_df[self.helices_df.stop_hel <= self.stop_dom] #входит в домен\n",
    "        self.helices_df.index = np.arange(len(self.helices_df))#обновляем индексы (чтобы стали от 0 до ..., а не как были в helices_df до того как удалим ненужные нам цепи)\n",
    "        print('self.helices_df')\n",
    "        display(self.helices_df)\n",
    "\n",
    "    def calculate_distr(self):\n",
    "        print('--------AlphaHelix.calculate_distr()--------')\n",
    "        if self.helices_df.empty:\n",
    "            print(\"В белке \", self.PDBid, \"альфа-спиралей не обнаружено\")\n",
    "            Res=[0]*100\n",
    "            vse100 = (\";\".join(map(str,Res)))\n",
    "            self.structures_df.loc[len(self.structures_df) - 1, \"Alpha-helixes\"] = vse100\n",
    "            #print(\"self.structures_df\", self.structures_df)\n",
    "        else:\n",
    "            #тут основной расчёт\n",
    "            Res=[]\n",
    "            #print(f'Before calculate_distribution: {self.length_dom} {self.start_dom}')\n",
    "            display(self.helices_df)\n",
    "            Res=calculate_distribution(self.helices_df, self.length_dom, self.start_dom, self)#Получаем 100% данные структур\n",
    "            #print(\"Res\", Res)\n",
    "            vse100 = (\";\".join(map(str,Res)))\n",
    "            self.structures_df.loc[len(self.structures_df) - 1, \"Alpha-helixes\"] = vse100\n",
    "        #print(\"self.structures_df\", self.structures_df)\n",
    "    #else:\n",
    "        #print(\"Какие-то проблемы с id_hel\")\n",
    "    #else:\n",
    "        #print(\"В белке \", PDBid, \"альфа-спиралей не обнаружено\")\n",
    "    #self.structures_df.loc[i, \"Count_AlphaH\"] = 0\n",
    "    #Res=[0]*100\n",
    "    #vse100 = (\";\".join(map(str,Res)))\n",
    "    #self.structures_df.loc[i, \"Alpha-helixes\"] = vse100\n",
    "        print('self.structures_df.head(3)')\n",
    "        display(self.structures_df.head(3))\n",
    "        return self.structures_df\n",
    "\n",
    "    "
   ]
  },
  {
   "cell_type": "code",
   "execution_count": null,
   "id": "09c11d2a-ded1-4ad7-939c-4824e92467fd",
   "metadata": {},
   "outputs": [],
   "source": [
    "ah = AlphaHelix(PDBid='1A3N', length_dom=141, chain_dom='A', start_dom=1, stop_dom=131)"
   ]
  },
  {
   "cell_type": "code",
   "execution_count": null,
   "id": "dbf2f1ba-e417-440e-853a-4262b77a50a1",
   "metadata": {},
   "outputs": [],
   "source": [
    "ah.read_pdbxPfile()"
   ]
  },
  {
   "cell_type": "code",
   "execution_count": null,
   "id": "d635015b-d284-4a66-a95b-0ea701fa888e",
   "metadata": {},
   "outputs": [],
   "source": [
    "ah.get_helices()"
   ]
  },
  {
   "cell_type": "code",
   "execution_count": null,
   "id": "a73f28f5-17e2-497b-a52e-4cd1cf3b03e0",
   "metadata": {},
   "outputs": [],
   "source": [
    "ah.get_alpha_helices()"
   ]
  },
  {
   "cell_type": "code",
   "execution_count": null,
   "id": "30633ccc-53fb-4ea4-8691-21920af67c73",
   "metadata": {
    "scrolled": true
   },
   "outputs": [],
   "source": [
    "ah.calculate_distr()"
   ]
  },
  {
   "cell_type": "code",
   "execution_count": null,
   "id": "a0c987af-edfb-4a70-93b6-2ddadfc5b773",
   "metadata": {},
   "outputs": [],
   "source": [
    "ah.structures_df"
   ]
  },
  {
   "cell_type": "code",
   "execution_count": null,
   "id": "b64db7c6-2698-4b1b-a166-bde4857ab37f",
   "metadata": {},
   "outputs": [],
   "source": [
    "ah.save_strutures_df('res.xlsx')"
   ]
  },
  {
   "cell_type": "code",
   "execution_count": null,
   "id": "da0f1dd9-ea91-4db5-9d23-054acb55ed3e",
   "metadata": {},
   "outputs": [],
   "source": []
  },
  {
   "cell_type": "code",
   "execution_count": null,
   "id": "fffb9744-1632-41db-9f1b-851df080aa58",
   "metadata": {},
   "outputs": [],
   "source": [
    "pr = Proteins()\n",
    "df_set = pr.read_prot_set('book.xlsx')#изменить на функцию!\n",
    "df_set"
   ]
  },
  {
   "cell_type": "code",
   "execution_count": null,
   "id": "afa1f0aa-037a-4880-b042-67c0b1ce77b2",
   "metadata": {},
   "outputs": [],
   "source": [
    "dir(ah)"
   ]
  },
  {
   "cell_type": "code",
   "execution_count": null,
   "id": "c169806e-7e55-4a22-a023-c14d0988952f",
   "metadata": {},
   "outputs": [],
   "source": []
  },
  {
   "cell_type": "code",
   "execution_count": null,
   "id": "59666db3-4ac5-4698-bbad-10f864206ede",
   "metadata": {
    "scrolled": true
   },
   "outputs": [],
   "source": [
    "for i, row in df.iterrows():\n",
    "    print(f'{row['PDBid']} {row['chain']}')\n",
    "    ah = AlphaHelix(PDBid=row['PDBid'], length_dom=row['length'], chain_dom=row['chain'], start_dom=row['start'], stop_dom=row['end'])\n",
    "    #print(row)\n",
    "    ah.read_pdbxPfile()\n",
    "    ah.get_helices()\n",
    "    ah.get_alpha_helices()\n",
    "    ah.calculate_distr()\n",
    "    df_res = ah.structures_df if i == 0 else pd.concat([df_res, ah.structures_df])"
   ]
  },
  {
   "cell_type": "code",
   "execution_count": null,
   "id": "4f07b955-5d9b-434f-808d-a19bbd1273e7",
   "metadata": {},
   "outputs": [],
   "source": [
    "df_res"
   ]
  },
  {
   "cell_type": "code",
   "execution_count": null,
   "id": "829eea78-01af-4333-93e1-2d9bd9c82c23",
   "metadata": {},
   "outputs": [],
   "source": [
    "df_res['Alpha-helixes']"
   ]
  },
  {
   "cell_type": "code",
   "execution_count": null,
   "id": "1c9fc514-dc77-446d-9e34-aa19633143dd",
   "metadata": {},
   "outputs": [],
   "source": [
    "df_res.to_excel(\"Result_new.xlsx\") "
   ]
  },
  {
   "cell_type": "code",
   "execution_count": null,
   "id": "d18478ce-18ac-494a-8da7-3ac7c191cf42",
   "metadata": {},
   "outputs": [],
   "source": []
  },
  {
   "cell_type": "code",
   "execution_count": null,
   "id": "27d3ae97-2c3c-413d-b9ee-3334c7e4f9ad",
   "metadata": {},
   "outputs": [],
   "source": []
  },
  {
   "cell_type": "code",
   "execution_count": null,
   "id": "b16b5b71-4ff8-490d-a1a8-58ba60a85220",
   "metadata": {},
   "outputs": [],
   "source": []
  },
  {
   "cell_type": "code",
   "execution_count": null,
   "id": "b681b0d6-bdaf-4964-b45f-a5af5ca426dc",
   "metadata": {},
   "outputs": [],
   "source": []
  },
  {
   "cell_type": "code",
   "execution_count": null,
   "id": "05860410-5e2a-4744-9118-4c218a8f6507",
   "metadata": {},
   "outputs": [],
   "source": [
    "import numpy as np\n",
    "import pandas as pd\n",
    "import biotite.structure.io.pdbx as pdbx\n",
    "import biotite.database.rcsb as rcsb"
   ]
  },
  {
   "cell_type": "code",
   "execution_count": null,
   "id": "b797b619-fc8c-4b4f-9ec4-20eb1aa570eb",
   "metadata": {},
   "outputs": [],
   "source": [
    "#TODO: check up the mode asserts?\n",
    "# is exist the path/file\n",
    "\n",
    "#START in previous life\n",
    "\n",
    "def read_prot_set(path: str, mode: str = 'xlsx'):\n",
    "    \"\"\"\n",
    "    Read protein set data from file through the path and return a pandas dataframe. The following data structure is required: PDBid, chain, start, end. Header is needed.\n",
    "    arguments:\n",
    "        - path (str): path to the file for reading\n",
    "        - mode (str): file format to read. Only xlsx, csv and tsv formats are allowed\n",
    "    return:\n",
    "        - prot_set_df (pandas.DataFrame): dataframe of the protein set\n",
    "    \"\"\"\n",
    "    print('----read_prot_set----')\n",
    "\n",
    "    match mode:\n",
    "        case 'xlsx':\n",
    "            prot_set_df = pd.read_excel(path)\n",
    "        case 'csv':\n",
    "            prot_set_df = pd.read_csv(path)\n",
    "        case 'tsv':\n",
    "            prot_set_df = pd.read_csv(path, sep='\\t')\n",
    "\n",
    "    #prot_set_df.insert(0, 'PDBid_Chain', prot_set_df['PDBid']+'_'+prot_set_df['chain'])#add unique identificator for each chain -> PDBid_Chain\n",
    "    prot_set_df['length'] = prot_set_df['end'] - prot_set_df['start'] + 1 #из calculate_length\n",
    "\n",
    "    return prot_set_df"
   ]
  },
  {
   "cell_type": "code",
   "execution_count": null,
   "id": "4b1258d1-e2a9-4162-a9b8-fe862af8d962",
   "metadata": {},
   "outputs": [],
   "source": [
    "df = read_prot_set('book.xlsx')\n",
    "df"
   ]
  },
  {
   "cell_type": "code",
   "execution_count": null,
   "id": "ca189c28-6764-4aeb-8297-c7d2a4f3438e",
   "metadata": {},
   "outputs": [],
   "source": [
    "read_prot_set('book.csv', mode='csv')"
   ]
  },
  {
   "cell_type": "code",
   "execution_count": null,
   "id": "b7956ec7-1704-43eb-a86f-913de7931a45",
   "metadata": {},
   "outputs": [],
   "source": [
    "read_prot_set('book.tsv', mode='tsv')"
   ]
  },
  {
   "cell_type": "code",
   "execution_count": null,
   "id": "731f77aa-0eb7-43d8-a4fd-2a70f0910b55",
   "metadata": {},
   "outputs": [],
   "source": []
  },
  {
   "cell_type": "code",
   "execution_count": null,
   "id": "1e189e30-ce7f-4e6c-99d6-7f1721ef6ec4",
   "metadata": {},
   "outputs": [],
   "source": [
    "#TODO: is it necessary to save this step. Or maiby only with special mode\n",
    "\n",
    "#Change_df in previous life\n",
    "\n",
    "\n",
    "def calculate_length_(prot_set_df):\n",
    "    \"\"\"\n",
    "    Calculate lengths for each chain in amino acids. Add an additional column to dataframe of the protein set.\n",
    "    arguments:\n",
    "        - prot_set_df (pandas.DataFrame): dataframe of the protein set\n",
    "    \"\"\"\n",
    "    print('----calculate_length----')\n",
    "\n",
    "    prot_set_df['length'] = prot_set_df['end'] - prot_set_df['start'] + 1\n",
    "\n",
    "    #is it n=necessary?\n",
    "    #print('Саммари\\n', prot_set_df.describe())\n",
    "    #prot_set_df.describe().to_excel(\"Podborka_describe.xlsx\")#запишем себе данные дискрайба\n",
    "    #prot_set_df.to_excel(\"Podborka.xlsx\")\n",
    "\n",
    "    return prot_set_df#это надо?"
   ]
  },
  {
   "cell_type": "code",
   "execution_count": null,
   "id": "e4ba88ac-4e77-43c4-bb2b-a2b06eef033b",
   "metadata": {
    "jupyter": {
     "source_hidden": true
    }
   },
   "outputs": [],
   "source": [
    "calculate_length(df)"
   ]
  },
  {
   "cell_type": "code",
   "execution_count": null,
   "id": "655edbd6-9df7-4fa8-b390-4d7bab9eb7ff",
   "metadata": {},
   "outputs": [],
   "source": []
  },
  {
   "cell_type": "code",
   "execution_count": null,
   "id": "9572c360-797a-4cda-aea5-08e750c10d71",
   "metadata": {},
   "outputs": [],
   "source": []
  },
  {
   "cell_type": "code",
   "execution_count": null,
   "id": "d7878d26-2b06-4436-ae56-ee6c2433e564",
   "metadata": {},
   "outputs": [],
   "source": []
  },
  {
   "cell_type": "code",
   "execution_count": null,
   "id": "668dad6b-cce9-495e-80c7-5026eae3d49d",
   "metadata": {},
   "outputs": [],
   "source": []
  },
  {
   "cell_type": "markdown",
   "id": "7a2b27dd-474a-43f5-bd9a-756a089862a1",
   "metadata": {},
   "source": [
    "## calculate_distribution"
   ]
  },
  {
   "cell_type": "code",
   "execution_count": null,
   "id": "cc1f5c59-d91b-4ed0-a1fc-6d730a72804b",
   "metadata": {},
   "outputs": [],
   "source": [
    "def calculate_distribution(structures_df, length_dom, start_dom, structure_obj):\n",
    "    '''создаёт список длиной скоkько а.о. и заполняет 1 там где есть структура \n",
    "    [Вход: датафрейм со спиралями structures_df, длина белка l, начало белка start_dom. \n",
    "    Вызывается в Alpha_helix ThreeTen_helix и Beta_sheets'''\n",
    "    print('-----calculate_distribution----')\n",
    "    #print(f'length_dom={length_dom}, start_dom={start_dom}')\n",
    "    \n",
    "    #Считываем нужные альфа-спирали в список \n",
    "    struc_distr = [0] * length_dom#список, где будем выставлять наличие альфа-спиралей\n",
    "    \n",
    "    #заполняем его (это тот, что в аминокислотных остатках)\n",
    "    for i in range(0, len(structures_df)):#\n",
    "        start = int(structures_df.iloc[i][\"start_sht\"])#[\"start_hel\"])\n",
    "        stop = int(structures_df.iloc[i][\"stop_sht\"])#[\"stop_hel\"])\n",
    "        #print(\"СТАРТ=\", start, \" СТОП=\", stop)\n",
    "        #ставим относительно начала и конца домена с учётом, что в списке начало с 0, а не 1 и учёт домена\n",
    "        start = start - structure_obj.start_dom\n",
    "        stop = stop - structure_obj.start_dom\n",
    "        #print(\"start=\", start, \" stop=\", stop)\n",
    "        \n",
    "        #вносим в нашу цепь данные\n",
    "        for aa in range (start, stop+1):#stop+1):\n",
    "            #print(f'aa={aa}')\n",
    "            struc_distr[aa] = 1\n",
    "            #print(\"struc_distr\", struc_distr[c])\n",
    "    \n",
    "    struc_distr_scaled = scaler(struc_distr, length_dom)\n",
    "    \n",
    "    print(f\"struc_distr = {struc_distr}\")\n",
    "    print()\n",
    "    print(f\"struc_distr_scaled = {struc_distr_scaled}\")\n",
    "    \n",
    "    return struc_distr_scaled"
   ]
  },
  {
   "cell_type": "code",
   "execution_count": null,
   "id": "bc514163-f8a1-46a1-98e4-6eaa6433e604",
   "metadata": {},
   "outputs": [],
   "source": []
  },
  {
   "cell_type": "markdown",
   "id": "47d1be67-8c0d-40ab-8b3d-4959ce097564",
   "metadata": {},
   "source": [
    "## scaler"
   ]
  },
  {
   "cell_type": "code",
   "execution_count": null,
   "id": "40fe1870-1e98-4cc1-a114-f854a3fdb86a",
   "metadata": {},
   "outputs": [],
   "source": [
    "def scaler(struc_distr, length_dom):\n",
    "    print('-----scaler----')\n",
    "    \n",
    "    #делаем список из 100 ячеек (наши координаты, т.е. %)\n",
    "    scaled_distr = [0] * 100\n",
    "    weight = length_dom / 100#Сколько приходится аминокислот на 1 ячейку\n",
    "    print(\"T=\", weight)\n",
    "    \n",
    "    if weight != 1:\n",
    "        k, t = 1, weight\n",
    "        #print(\"t=\", t)\n",
    "        i,j  = 1, 1\n",
    "        while i < length_dom and j < 100:\n",
    "            a = min(k, t)\n",
    "            scaled_distr[j] = round(scaled_distr[j] + a * struc_distr[i], 2)\n",
    "            k, t = round(k - a, 2), round(t - a, 2)\n",
    "            #print(\"a=\",a,\" значение[\",i,\"]=\", struc_distr[i],\" scaled_distr[\", j,\"]=\", scaled_distr[j], \" k=\",k,\" t=\",t, \" i=\", i, \" j=\",j)\n",
    "            if k == 0:\n",
    "                i += 1\n",
    "                k = 1\n",
    "            if t == 0:\n",
    "                j = j + 1\n",
    "                t = weight\n",
    "            #print(\"k=\",k, \" t=\", t)\n",
    "        scaled_distr = [round(x / weight, 2) for x in scaled_distr]\n",
    "    \n",
    "    else:#if weight == 1:\n",
    "        scaled_distr = struc_distr#просто копируем\n",
    "    #print(\"scaled_distr\\n\", scaled_distr)\n",
    "    return scaled_distr\n"
   ]
  },
  {
   "cell_type": "code",
   "execution_count": null,
   "id": "569f17d1-acdb-411e-9f3c-4098a79f6ef4",
   "metadata": {},
   "outputs": [],
   "source": []
  },
  {
   "cell_type": "code",
   "execution_count": null,
   "id": "ac7b29d0-5cc5-4098-8e5d-92c5c5ec5cbc",
   "metadata": {},
   "outputs": [],
   "source": []
  },
  {
   "cell_type": "markdown",
   "id": "11c92d25-3171-4981-803a-158b85f4e964",
   "metadata": {},
   "source": [
    "## Alpha_helix | ThreeTen_helix | \n",
    "Beta_sheet | Irregular --> OOP"
   ]
  },
  {
   "cell_type": "code",
   "execution_count": null,
   "id": "f30a314c-9a06-4f37-8b53-69cce7ba97f8",
   "metadata": {},
   "outputs": [],
   "source": [
    "#BetaSheet(SecondaryStructure)\n",
    "#Irregular(SecondaryStructure)\n",
    "\n",
    "#let it be node for which structure schould be processed \n",
    "#let it be mode for separate or full result for each type of secondary structure (but if full then join it on the last step)\n",
    "\n",
    "#TO DO: загрузочная линия\n",
    "#TO DO: проблемные структуры в отдельный файл и выводить сколько структур было отработано чисто"
   ]
  },
  {
   "cell_type": "markdown",
   "id": "19bdef3f-162b-473a-a57a-5b4d064da231",
   "metadata": {},
   "source": [
    "## Proteins"
   ]
  },
  {
   "cell_type": "code",
   "execution_count": null,
   "id": "2f58532f-b49b-4a4b-90fe-417d010b87da",
   "metadata": {},
   "outputs": [],
   "source": [
    "class Proteins:\n",
    "    def __init__(self, structures_df = pd.DataFrame()):\n",
    "        print('-----Proteins-----')\n",
    "        self.prot_set_df = None\n",
    "        self.structures_df = structures_df#pd.DataFrame()#\n",
    "\n",
    "    def read_prot_set(self, path, mode = 'xlsx'):\n",
    "        \"\"\"\n",
    "        Read protein set data from file through the path and return a pandas dataframe. The following data structure is required: PDBid, chain, start, end. Header is needed.\n",
    "        arguments:\n",
    "            - path (str): path to the file for reading\n",
    "            - mode (str): file format to read. Only xlsx, csv and tsv formats are allowed\n",
    "        return:\n",
    "            - prot_set_df (pandas.DataFrame): dataframe of the protein set\n",
    "        \"\"\"\n",
    "        print('----Proteins.read_prot_set()----')\n",
    "        #print(f'path={path}, mode={mode}')\n",
    "        match mode:\n",
    "            case 'xlsx':\n",
    "                #print('XLSX')\n",
    "                self.prot_set_df = pd.read_excel(path)\n",
    "            case 'csv':\n",
    "                #print('CSV')\n",
    "                self.prot_set_df = pd.read_csv(path)\n",
    "            case 'tsv':\n",
    "                #print('TSV')\n",
    "                self.prot_set_df = pd.read_csv(path, sep='\\t')\n",
    "        #display(self.prot_set_df.head(3))\n",
    "    \n",
    "        self.prot_set_df['length'] = self.prot_set_df['end'] - self.prot_set_df['start'] + 1 #из calculate_length\n",
    "    \n",
    "        return self.prot_set_df\n",
    "\n",
    "    def save_strutures_df_(self, path='result.xlsx', mode='xlsx'):\n",
    "        match mode:\n",
    "            case 'xlsx':\n",
    "                self.structures_df.to_excel(path)\n",
    "            case 'csv':\n",
    "                self.structures_df.to_csv(path)\n",
    "            case 'tsv':\n",
    "                self.structures_df.to_csv(path, sep='\\t')\n",
    "    "
   ]
  },
  {
   "cell_type": "code",
   "execution_count": null,
   "id": "882036b9-20c5-4257-b810-1a6c188c96e8",
   "metadata": {},
   "outputs": [],
   "source": []
  },
  {
   "cell_type": "markdown",
   "id": "372623e9-25ec-4e4b-a4e9-6bcbedc8f061",
   "metadata": {},
   "source": [
    "## Domain"
   ]
  },
  {
   "cell_type": "code",
   "execution_count": null,
   "id": "4d1857fc-5e72-4956-9158-7e6e8fb2b03f",
   "metadata": {},
   "outputs": [],
   "source": [
    "class Domain(Proteins):#вообше это не домен, если мы пихаем фулл инфу о подборке\n",
    "    '''Class for storing information about whole protein'''\n",
    "    def __init__(self, PDBid, length_dom, chain_dom, start_dom, stop_dom):# НАКИНУТЬ self.prot_set_df self.structures_df\n",
    "        print('------Domain------')\n",
    "        #self.c = prot_set_df#Убрать это от сюда в какой-нибудь фор \n",
    "        self.PDBid = PDBid\n",
    "        self.length_dom = length_dom\n",
    "        self.chain_dom = chain_dom\n",
    "        self.start_dom = start_dom\n",
    "        self.stop_dom = stop_dom\n",
    "        super().__init__()\n",
    "        \n",
    "        \n",
    "        #ПЕРЕПИСАТЬ ЧТОБЫ ИНСЁРТ БЫЛ НОВЫХ ЦЕПЕЙ\n",
    "        self.structures_df = pd.concat([self.structures_df, pd.DataFrame({'PDBid': [self.PDBid], 'chain': [self.chain_dom], \n",
    "                                                                          'start': [start_dom], 'end': [self.stop_dom], \n",
    "                                                                          'length': [self.length_dom]})])#потом мб изменить как-то типо структуры\n",
    "        #print('!!!!! structures_df')\n",
    "        #display(self.structures_df)\n",
    "        #self.structures_df = pd.DataFrame({'PDBid': [self.PDBid], 'chain': [self.chain_dom], 'start': [start_dom], \n",
    "                                           #'end': [self.stop_dom], 'length': [self.length_dom]})#потом мб изменить как-то типо структуры\n",
    "\n",
    "\n",
    "        \n",
    "        self.pdbx_file = None\n",
    "        #print(\"Данные: \", PDBid, length_dom, chain_dom, start_dom, stop_dom)\n",
    "        \n",
    "\n",
    "    def read_pdbxPfile(self):\n",
    "        '''Read pdbx file for current domain (PDBid, chain)'''\n",
    "        print('------Domain.read_pdbxPfile()------')\n",
    "        self.pdbx_file = pdbx.PDBxFile.read(rcsb.fetch(self.PDBid, \"pdbx\"))\n",
    "        print(self.pdbx_file)  \n",
    "\n",
    "    def save_strutures_df_(self, path='result.xlsx', mode='xlsx'):#УДАЛИТЬ ПОТОМ !\n",
    "        match mode:\n",
    "            case 'xlsx':\n",
    "                self.structures_df.to_excel(path)\n",
    "            case 'csv':\n",
    "                self.structures_df.to_csv(path)\n",
    "            case 'tsv':\n",
    "                self.structures_df.to_csv(path, sep='\\t')\n",
    "    "
   ]
  },
  {
   "cell_type": "code",
   "execution_count": null,
   "id": "2808436c-b9ac-4547-848d-5e6cbffbe058",
   "metadata": {},
   "outputs": [],
   "source": []
  },
  {
   "cell_type": "markdown",
   "id": "c87feb35-b28f-450d-a80e-ca9ef8ee3ec8",
   "metadata": {},
   "source": [
    "## Helix"
   ]
  },
  {
   "cell_type": "code",
   "execution_count": null,
   "id": "2cccf5df-fbc0-4c5a-9ecc-369aa17ad8a8",
   "metadata": {},
   "outputs": [],
   "source": [
    "class Helix(Domain):\n",
    "    '''Class for storage helices' information'''\n",
    "    def __init__(self, PDBid, length_dom, chain_dom, start_dom, stop_dom):\n",
    "        print('------Helix------')\n",
    "        super().__init__(PDBid=PDBid, length_dom=length_dom, chain_dom=chain_dom, start_dom=start_dom, stop_dom=stop_dom)\n",
    "        self.id_hel = None\n",
    "        self.start_hel = None\n",
    "        self.stop_hel = None\n",
    "        self.class_hel = None\n",
    "        self.length_hel = None\n",
    "        self.chain_hel = None\n",
    "        self.helices_df = None\n",
    "        #мб датакласс выше?\n",
    "\n",
    "\n",
    "    def get_helices(self):\n",
    "        print('------Helix.get_helices------')\n",
    "        self.id_hel = self.pdbx_file [self.PDBid, \"struct_conf\"][\"pdbx_PDB_helix_id\"]\n",
    "        self.start_hel = self.pdbx_file[self.PDBid, \"struct_conf\"][\"beg_label_seq_id\"]\n",
    "        self.stop_hel = self.pdbx_file [self.PDBid, \"struct_conf\"][\"end_label_seq_id\"]#концы спиралей а.о.\n",
    "        self.class_hel = self.pdbx_file [self.PDBid, \"struct_conf\"][\"pdbx_PDB_helix_class\"]#классы спирали\n",
    "        self.length_hel = self.pdbx_file [self.PDBid, \"struct_conf\"][\"pdbx_PDB_helix_length\"]#длины спирали\n",
    "        self.chain_hel = self.pdbx_file [self.PDBid, \"struct_conf\"][\"beg_auth_asym_id\"]#цепи белка по буквам, каким принадлежат эти спирали\n",
    "\n",
    "        self.start_hel = np.array([int(self.start_hel)] if isinstance(self.start_hel, str) else [int(t) for t in self.start_hel])\n",
    "        self.stop_hel = np.array([int(self.stop_hel)] if isinstance(self.stop_hel, str) else [int(t) for t in self.stop_hel])\n",
    "\n",
    "        #print(f'id_hel = {self.id_hel}')\n",
    "        #print(f'start_hel = {self.start_hel} {type(self.start_hel)}')\n",
    "        #print(f'stop_hel = {self.stop_hel} {type(self.stop_hel)}')\n",
    "        #print(f'class_hel = {self.class_hel}')\n",
    "        #print(f'length_hel = {self.length_hel}')\n",
    "        #print(f'chain_hel = {self.chain_hel}')\n",
    "\n",
    "        self.helices_df = pd.DataFrame({'id_hel' : self.id_hel,'start_hel' : self.start_hel, 'stop_hel': self.stop_hel, 'class_hel': self.class_hel, \n",
    "                                     'length_hel': self.length_hel, 'chain_hel': self.chain_hel})\n",
    "        print('helices_df\\n')\n",
    "        display(self.helices_df)\n",
    "\n",
    "    def get_suitable_helices(self, class_hel = '1'):\n",
    "        print('--------Helix.get_suitable_helices()--------')\n",
    "        self.helices_df = self.helices_df[self.helices_df.class_hel == str(class_hel)]#тип спирали == альфа 1 310 5\n",
    "        self.helices_df = self.helices_df[self.helices_df.chain_hel == self.chain_dom]#цепь нужная по Podborka\n",
    "        self.helices_df = self.helices_df[self.helices_df.start_hel >= self.start_dom] #входит в домен\n",
    "        self.helices_df = self.helices_df[self.helices_df.stop_hel <= self.stop_dom] #входит в домен\n",
    "        self.helices_df.index = np.arange(len(self.helices_df))#обновляем индексы (чтобы стали от 0 до ..., а не как были в helices_df до того как удалим ненужные нам цепи)\n",
    "        print('self.helices_df')\n",
    "        display(self.helices_df)\n",
    "\n",
    "\n",
    "    def count_helices(self):\n",
    "        print('------Helix.count_helices------')\n",
    "        self.structures_df.loc[len(structures_df) - 1, \"Count_AlphaH\"] = helices_df.shape[0]#кол-во альфа-спиралей\n",
    "        #ПЕРЕПИСАТЬ: ЧТО-ТО С ДАТАФРЕЙМАМИ СДЕЛАТЬ\n",
    "        \n",
    "        "
   ]
  },
  {
   "cell_type": "code",
   "execution_count": null,
   "id": "70dad2d5-1598-44c6-95a4-dc0c9c5d0edc",
   "metadata": {},
   "outputs": [],
   "source": []
  },
  {
   "cell_type": "markdown",
   "id": "f86d0164-2d77-43b0-867b-ae6d3833bca2",
   "metadata": {},
   "source": [
    "## Alpha-helix"
   ]
  },
  {
   "cell_type": "code",
   "execution_count": null,
   "id": "81cf222b-868b-4d48-9e89-6e330adf8247",
   "metadata": {},
   "outputs": [],
   "source": [
    "class AlphaHelix(Helix):\n",
    "    def __init__(self, PDBid, length_dom, chain_dom, start_dom, stop_dom):\n",
    "        super().__init__(PDBid=PDBid, length_dom=length_dom, chain_dom=chain_dom, start_dom=start_dom, stop_dom=stop_dom)\n",
    "        \n",
    "    #НУЖНО ЭТО ВСУНУТЬ В ПРОСТО ХЕЛИКС, А ПОДАВАТЬ КЛАСС СООТВЕТСТВУЮЩИЙ И ФИЛЬТРОВАТЬ ЧЕРЕЗ НЕГО\n",
    "    def get_alpha_helices(self):\n",
    "        print('--------AlphaHelix.get_alpha_helices()--------')\n",
    "        self.get_suitable_helices(\"1\")\n",
    "        #self.helices_df = self.helices_df[self.helices_df.class_hel == \"1\"]#тип спирали == альфа\n",
    "        #self.helices_df = self.helices_df[self.helices_df.chain_hel == self.chain_dom]#цепь нужная по Podborka\n",
    "        #self.helices_df = self.helices_df[self.helices_df.start_hel >= self.start_dom] #входит в домен\n",
    "        #self.helices_df = self.helices_df[self.helices_df.stop_hel <= self.stop_dom] #входит в домен\n",
    "        #self.helices_df.index = np.arange(len(self.helices_df))#обновляем индексы (чтобы стали от 0 до ..., а не как были в helices_df до того как удалим ненужные нам цепи)\n",
    "        print('self.helices_df')\n",
    "        display(self.helices_df)\n",
    "\n",
    "    def calculate_distr(self):\n",
    "        print('--------AlphaHelix.calculate_distr()--------')\n",
    "        if self.helices_df.empty:\n",
    "            print(\"В белке \", self.PDBid, \"альфа-спиралей не обнаружено\")\n",
    "            Res=[0]*100\n",
    "            vse100 = (\";\".join(map(str,Res)))\n",
    "            self.structures_df.loc[len(self.structures_df) - 1, \"Alpha_helix_distr\"] = vse100\n",
    "            #print(\"self.structures_df\", self.structures_df)\n",
    "        else:\n",
    "            #тут основной расчёт\n",
    "            Res=[]\n",
    "            #print(f'Before calculate_distribution: {self.length_dom} {self.start_dom}')\n",
    "            display(self.helices_df)\n",
    "            Res=calculate_distribution(self.helices_df, self.length_dom, self.start_dom, self)#Получаем 100% данные структур\n",
    "            #print(\"Res\", Res)\n",
    "            vse100 = (\";\".join(map(str,Res)))\n",
    "            self.structures_df.loc[len(self.structures_df) - 1, \"Alpha_helix_distr\"] = vse100\n",
    "        #print(\"self.structures_df\", self.structures_df)\n",
    "    #else:\n",
    "        #print(\"Какие-то проблемы с id_hel\")\n",
    "    #else:\n",
    "        #print(\"В белке \", PDBid, \"альфа-спиралей не обнаружено\")\n",
    "    #self.structures_df.loc[i, \"Count_AlphaH\"] = 0\n",
    "    #Res=[0]*100\n",
    "    #vse100 = (\";\".join(map(str,Res)))\n",
    "    #self.structures_df.loc[i, \"Alpha_helix_distr\"] = vse100\n",
    "        print('self.structures_df.head(3)')\n",
    "        display(self.structures_df.head(3))\n",
    "        return self.structures_df\n",
    "\n",
    "    "
   ]
  },
  {
   "cell_type": "code",
   "execution_count": null,
   "id": "ba1e19f3-fbaf-479e-9cfe-6d340f1e481e",
   "metadata": {},
   "outputs": [],
   "source": []
  },
  {
   "cell_type": "markdown",
   "id": "36a24e4a-a51b-4334-b22f-c42549dd965b",
   "metadata": {},
   "source": [
    "## 310-helix"
   ]
  },
  {
   "cell_type": "code",
   "execution_count": null,
   "id": "5c04db33-db8b-4775-b11c-469833f462c8",
   "metadata": {},
   "outputs": [],
   "source": [
    "class ThreeTenHelix(Helix):\n",
    "    def __init__(self, PDBid, length_dom, chain_dom, start_dom, stop_dom):\n",
    "        super().__init__(PDBid=PDBid, length_dom=length_dom, chain_dom=chain_dom, start_dom=start_dom, stop_dom=stop_dom)\n",
    "        \n",
    "    #НУЖНО ЭТО ВСУНУТЬ В ПРОСТО ХЕЛИКС, А ПОДАВАТЬ КЛАСС СООТВЕТСТВУЮЩИЙ И ФИЛЬТРОВАТЬ ЧЕРЕЗ НЕГО\n",
    "    def get_threeten_helices(self):# ПЕРЕИМЕНОВАТЬ!!!!\n",
    "        print('--------ThreeTenHelix.get_threeten_helices()--------')\n",
    "        self.get_suitable_helices(\"5\")\n",
    "        #self.helices_df = self.helices_df[self.helices_df.class_hel == \"1\"]#тип спирали == альфа\n",
    "        #self.helices_df = self.helices_df[self.helices_df.chain_hel == self.chain_dom]#цепь нужная по Podborka\n",
    "        #self.helices_df = self.helices_df[self.helices_df.start_hel >= self.start_dom] #входит в домен\n",
    "        #self.helices_df = self.helices_df[self.helices_df.stop_hel <= self.stop_dom] #входит в домен\n",
    "        #self.helices_df.index = np.arange(len(self.helices_df))#обновляем индексы (чтобы стали от 0 до ..., а не как были в helices_df до того как удалим ненужные нам цепи)\n",
    "        print('self.helices_df')\n",
    "        display(self.helices_df)\n",
    "\n",
    "    def calculate_distr(self):\n",
    "        print('--------ThreeTenHelix.calculate_distr()--------')\n",
    "        if self.helices_df.empty:\n",
    "            print(\"В белке \", self.PDBid, \"310-спиралей не обнаружено\")\n",
    "            Res=[0]*100\n",
    "            vse100 = (\";\".join(map(str,Res)))\n",
    "            self.structures_df.loc[len(self.structures_df) - 1, \"ThreeTen_helix_distr\"] = vse100\n",
    "            #print(\"self.structures_df\", self.structures_df)\n",
    "        else:\n",
    "            #тут основной расчёт\n",
    "            Res=[]\n",
    "            #print(f'Before calculate_distribution: {self.length_dom} {self.start_dom}')\n",
    "            display(self.helices_df)\n",
    "            Res=calculate_distribution(self.helices_df, self.length_dom, self.start_dom, self)#Получаем 100% данные структур\n",
    "            #print(\"Res\", Res)\n",
    "            vse100 = (\";\".join(map(str,Res)))\n",
    "            self.structures_df.loc[len(self.structures_df) - 1, \"ThreeTen_helix_distr\"] = vse100\n",
    "        #print(\"self.structures_df\", self.structures_df)\n",
    "    #else:\n",
    "        #print(\"Какие-то проблемы с id_hel\")\n",
    "    #else:\n",
    "        #print(\"В белке \", PDBid, \"альфа-спиралей не обнаружено\")\n",
    "    #self.structures_df.loc[i, \"Count_ThreeTenH\"] = 0\n",
    "    #Res=[0]*100\n",
    "    #vse100 = (\";\".join(map(str,Res)))\n",
    "    #self.structures_df.loc[i, \"ThreeTen_helix_distr\"] = vse100\n",
    "        print('self.structures_df.head(3)')\n",
    "        display(self.structures_df.head(3))\n",
    "        return self.structures_df\n",
    "\n",
    "    "
   ]
  },
  {
   "cell_type": "code",
   "execution_count": null,
   "id": "f4a26204-464b-41c7-8aeb-5b37af60e44c",
   "metadata": {},
   "outputs": [],
   "source": []
  },
  {
   "cell_type": "code",
   "execution_count": null,
   "id": "d410ce13-4e23-4f43-91ed-5140a0ee379f",
   "metadata": {},
   "outputs": [],
   "source": []
  },
  {
   "cell_type": "code",
   "execution_count": null,
   "id": "61288da6-3d50-4aa8-a600-08bbced09f38",
   "metadata": {},
   "outputs": [],
   "source": []
  },
  {
   "cell_type": "code",
   "execution_count": null,
   "id": "febc292a-e45b-4a12-8580-180bb5424eb3",
   "metadata": {},
   "outputs": [],
   "source": []
  },
  {
   "cell_type": "code",
   "execution_count": null,
   "id": "5dab651a-1433-47c7-8136-2c820e3f6a65",
   "metadata": {},
   "outputs": [],
   "source": []
  },
  {
   "cell_type": "markdown",
   "id": "126e96c8-65e7-4a53-9542-bcebf7cfd931",
   "metadata": {},
   "source": [
    "## BetaSheet"
   ]
  },
  {
   "cell_type": "code",
   "execution_count": null,
   "id": "7b30eef7-3809-444f-9309-e1ad6aa6a3f1",
   "metadata": {},
   "outputs": [],
   "source": [
    "class BetaSheet(Domain):\n",
    "    '''Class for storage beta sheets' information'''\n",
    "    def __init__(self, PDBid, length_dom, chain_dom, start_dom, stop_dom):\n",
    "        print('------BetaSheet------')\n",
    "        super().__init__(PDBid=PDBid, length_dom=length_dom, chain_dom=chain_dom, start_dom=start_dom, stop_dom=stop_dom)\n",
    "        self.id_sht = None\n",
    "        self.start_sht = None\n",
    "        self.stop_sht = None\n",
    "        self.class_sht = None\n",
    "        self.length_sht = None\n",
    "        self.chain_sht = None\n",
    "        self.sheets_df = None\n",
    "        #мб датакласс выше?\n",
    "\n",
    "\n",
    "    def get_sheets(self):# ПЕРЕИМЕНОВАТЬ\n",
    "        print('------BetaSheet.get_sheets------')\n",
    "        #pdbx_file [PDBid, \"struct_sheet_range\"]\n",
    "        #print(f'!!!! {self.pdbx_file[self.PDBid, \"struct_sheet_range\"]}')\n",
    "        #if (self.pdbx_file[self.PDBid, \"struct_sheet_range\"]) is None:\n",
    "            #return None\n",
    "        self.id_sht = self.pdbx_file[self.PDBid, \"struct_sheet_range\"][\"sheet_id\"]#id листа\n",
    "        self.start_sht = self.pdbx_file[self.PDBid, \"struct_sheet_range\"][\"beg_label_seq_id\"]#начало листа а.о.\n",
    "        self.stop_sht = self.pdbx_file [self.PDBid, \"struct_sheet_range\"][\"end_label_seq_id\"]#конец листа а.о.\n",
    "        self.chain_sht = self.pdbx_file [self.PDBid, \"struct_sheet_range\"][\"beg_auth_asym_id\"]#цепь https://www.biotite-python.org/examples/gallery/structure/sheet_arrangement.html\n",
    "        #self.class_sht = self.pdbx_file [self.PDBid, \"struct_conf\"][\"pdbx_PDB_sheet_class\"]#классы спирали\n",
    "        #self.length_sht = self.pdbx_file [self.PDBid, \"struct_conf\"][\"pdbx_PDB_sheet_length\"]#длины спирали\n",
    "        \n",
    "        self.start_sht = np.array([int(self.start_sht)] if isinstance(self.start_sht, str) else [int(t) for t in self.start_sht])\n",
    "        self.stop_sht = np.array([int(self.stop_sht)] if isinstance(self.stop_sht, str) else [int(t) for t in self.stop_sht])\n",
    "\n",
    "        #print(f'id_sht = {self.id_sht}')\n",
    "        #print(f'start_sht = {self.start_sht} {type(self.start_sht)}')\n",
    "        #print(f'stop_sht = {self.stop_sht} {type(self.stop_sht)}')\n",
    "        #print(f'class_sht = {self.class_sht}')\n",
    "        #print(f'length_sht = {self.length_sht}')\n",
    "        #print(f'chain_sht = {self.chain_sht}')\n",
    "\n",
    "        #self.sheets_df = pd.DataFrame({'id_sht' : self.id_sht,'start_sht' : self.start_sht, 'stop_sht': self.stop_sht, 'class_sht': self.class_sht, \n",
    "                                     #'length_sht': self.length_sht, 'chain_sht': self.chain_sht})\n",
    "        self.sheets_df = pd.DataFrame({'id_sht' : self.id_sht,'start_sht' : self.start_sht, 'stop_sht': self.stop_sht, 'chain_sht': self.chain_sht})\n",
    "        \n",
    "        print('sheets_df\\n')\n",
    "        display(self.sheets_df)\n",
    "\n",
    "    def get_suitable_sheets(self):\n",
    "        print('--------BetaSheet.get_suitable_sheets()--------')\n",
    "        self.sheets_df = self.sheets_df[self.sheets_df.chain_sht == self.chain_dom]#цепь нужная по Podborka\n",
    "        self.sheets_df = self.sheets_df[self.sheets_df.start_sht >= self.start_dom] #входит в домен\n",
    "        self.sheets_df = self.sheets_df[self.sheets_df.stop_sht <= self.stop_dom] #входит в домен\n",
    "        self.sheets_df.index = np.arange(len(self.sheets_df))#обновляем индексы (чтобы стали от 0 до ..., а не как были в sheets_df до того как удалим ненужные нам цепи)        \n",
    "        print('self.sheets_df')\n",
    "        display(self.sheets_df)\n",
    "\n",
    "\n",
    "    def count_sheets(self):\n",
    "        print('------BetaSheet.count_sheets------')\n",
    "        self.structures_df.loc[len(structures_df) - 1, \"Count_AlphaH\"] = sheets_df.shape[0]#кол-во альфа-спиралей\n",
    "        #ПЕРЕПИСАТЬ: ЧТО-ТО С ДАТАФРЕЙМАМИ СДЕЛАТЬ\n",
    "\n",
    "\n",
    "    def get_alpha_sheets_(self):\n",
    "        print('--------BetaSheet.get_alpha_sheets()--------')\n",
    "        self.get_suitable_sheets_(\"1\")\n",
    "        #self.sheets_df = self.sheets_df[self.sheets_df.class_sht == \"1\"]#тип спирали == альфа\n",
    "        #self.sheets_df = self.sheets_df[self.sheets_df.chain_sht == self.chain_dom]#цепь нужная по Podborka\n",
    "        #self.sheets_df = self.sheets_df[self.sheets_df.start_sht >= self.start_dom] #входит в домен\n",
    "        #self.sheets_df = self.sheets_df[self.sheets_df.stop_sht <= self.stop_dom] #входит в домен\n",
    "        #self.sheets_df.index = np.arange(len(self.sheets_df))#обновляем индексы (чтобы стали от 0 до ..., а не как были в sheets_df до того как удалим ненужные нам цепи)\n",
    "        print('self.sheets_df')\n",
    "        display(self.sheets_df)\n",
    "\n",
    "    def calculate_distr(self):\n",
    "        print('--------BetaSheet.calculate_distr()--------')\n",
    "        if self.sheets_df.empty:\n",
    "            print(\"В белке \", self.PDBid, \"альфа-спиралей не обнаружено\")\n",
    "            Res=[0]*100\n",
    "            vse100 = (\";\".join(map(str,Res)))\n",
    "            self.structures_df.loc[len(self.structures_df) - 1, \"Alpha_helix_distr\"] = vse100\n",
    "            #print(\"self.structures_df\", self.structures_df)\n",
    "        else:\n",
    "            #тут основной расчёт\n",
    "            Res=[]\n",
    "            #print(f'Before calculate_distribution: {self.length_dom} {self.start_dom}')\n",
    "            display(self.sheets_df)\n",
    "            Res=calculate_distribution(self.sheets_df, self.length_dom, self.start_dom, self)#Получаем 100% данные структур\n",
    "            #print(\"Res\", Res)\n",
    "            vse100 = (\";\".join(map(str,Res)))\n",
    "            self.structures_df.loc[len(self.structures_df) - 1, \"Beta_sheet_distr\"] = vse100\n",
    "        #print(\"self.structures_df\", self.structures_df)\n",
    "    #else:\n",
    "        #print(\"Какие-то проблемы с id_sht\")\n",
    "    #else:\n",
    "        #print(\"В белке \", PDBid, \"альфа-спиралей не обнаружено\")\n",
    "    #self.structures_df.loc[i, \"Count_AlphaH\"] = 0\n",
    "    #Res=[0]*100\n",
    "    #vse100 = (\";\".join(map(str,Res)))\n",
    "    #self.structures_df.loc[i, \"Alpha_helix_distr\"] = vse100\n",
    "        print('self.structures_df.head(3)')\n",
    "        display(self.structures_df.head(3))\n",
    "        return self.structures_df\n",
    "        \n"
   ]
  },
  {
   "cell_type": "code",
   "execution_count": null,
   "id": "4d567940-1fe7-4ffd-9777-044abd3a9b00",
   "metadata": {},
   "outputs": [],
   "source": []
  },
  {
   "cell_type": "code",
   "execution_count": null,
   "id": "b91e8883-92a2-4702-a38a-4039b9acf587",
   "metadata": {},
   "outputs": [],
   "source": []
  },
  {
   "cell_type": "code",
   "execution_count": null,
   "id": "bb259945-2e67-4320-ab49-e1f5d6676f30",
   "metadata": {},
   "outputs": [],
   "source": []
  },
  {
   "cell_type": "code",
   "execution_count": null,
   "id": "194110b1-03d5-4fdb-9a73-629ccdc512bc",
   "metadata": {},
   "outputs": [],
   "source": []
  },
  {
   "cell_type": "code",
   "execution_count": null,
   "id": "4a5f0755-761c-4962-9350-72b74b3cd406",
   "metadata": {},
   "outputs": [],
   "source": []
  },
  {
   "cell_type": "code",
   "execution_count": null,
   "id": "95071b23-2be7-4c2c-aea9-59532c685ab0",
   "metadata": {},
   "outputs": [],
   "source": []
  },
  {
   "cell_type": "code",
   "execution_count": null,
   "id": "06c5ce02-186e-4b3d-8a70-8f89a54c3591",
   "metadata": {},
   "outputs": [],
   "source": []
  },
  {
   "cell_type": "code",
   "execution_count": null,
   "id": "c097c4ad-ed73-48ac-a8aa-e008f433ee70",
   "metadata": {},
   "outputs": [],
   "source": []
  },
  {
   "cell_type": "code",
   "execution_count": null,
   "id": "60eb4add-0f0a-4526-97e4-f2f62adcfd11",
   "metadata": {},
   "outputs": [],
   "source": [
    "#read protein set\n",
    "pr = Proteins()\n",
    "df_set = pr.read_prot_set('book.xlsx')#изменить на функцию!\n",
    "df_set = pr.read_prot_set('example.xlsx')#изменить на функцию!\n",
    "df_set"
   ]
  },
  {
   "cell_type": "code",
   "execution_count": null,
   "id": "726ea327-b4f3-4563-9922-95b07e307f1a",
   "metadata": {},
   "outputs": [],
   "source": []
  },
  {
   "cell_type": "code",
   "execution_count": null,
   "id": "9d56c0ca-eb03-4263-b964-d979a8b846cb",
   "metadata": {
    "scrolled": true
   },
   "outputs": [],
   "source": [
    "#alpha-helix processed\n",
    "for i, row in df_set.iterrows():\n",
    "    print(f'{row['PDBid']} {row['chain']}')\n",
    "    ah = AlphaHelix(PDBid=row['PDBid'], length_dom=row['length'], chain_dom=row['chain'], start_dom=row['start'], stop_dom=row['end'])\n",
    "    #print(row)\n",
    "    ah.read_pdbxPfile()\n",
    "    ah.get_helices()\n",
    "    ah.get_alpha_helices()\n",
    "    ah.calculate_distr()\n",
    "    df_res = ah.structures_df if i == 0 else pd.concat([df_res, ah.structures_df])"
   ]
  },
  {
   "cell_type": "code",
   "execution_count": null,
   "id": "478097da-3c8c-4e2c-b9dd-a6299946d721",
   "metadata": {
    "scrolled": true
   },
   "outputs": [],
   "source": [
    "df_res"
   ]
  },
  {
   "cell_type": "code",
   "execution_count": null,
   "id": "42f2acfd-9eaf-48cc-96be-99c0914df4d8",
   "metadata": {},
   "outputs": [],
   "source": [
    "df_res.to_excel(\"Result_new_ah.xlsx\") "
   ]
  },
  {
   "cell_type": "code",
   "execution_count": null,
   "id": "cbd7060f-8845-4747-80a2-0d8d52a45b38",
   "metadata": {},
   "outputs": [],
   "source": []
  },
  {
   "cell_type": "code",
   "execution_count": null,
   "id": "6529acc0-a303-4f89-914a-afc0fdc2a5cf",
   "metadata": {
    "scrolled": true
   },
   "outputs": [],
   "source": [
    "#310-helix processed\n",
    "for i, row in df_set.iterrows():\n",
    "    print(f'{row['PDBid']} {row['chain']}')\n",
    "    tth = ThreeTenHelix(PDBid=row['PDBid'], length_dom=row['length'], chain_dom=row['chain'], start_dom=row['start'], stop_dom=row['end'])\n",
    "    #print(row)\n",
    "    tth.read_pdbxPfile()\n",
    "    tth.get_helices()\n",
    "    tth.get_threeten_helices()\n",
    "    tth.calculate_distr()\n",
    "    df_res = tth.structures_df if i == 0 else pd.concat([df_res, tth.structures_df])"
   ]
  },
  {
   "cell_type": "code",
   "execution_count": null,
   "id": "e630f23e-a963-4080-a7a4-c42c9a878311",
   "metadata": {
    "scrolled": true
   },
   "outputs": [],
   "source": [
    "df_res"
   ]
  },
  {
   "cell_type": "code",
   "execution_count": null,
   "id": "dcb1e668-d552-4d6f-b6ad-e7f46e58e1aa",
   "metadata": {},
   "outputs": [],
   "source": [
    "df_res.to_excel(\"Result_new_tth.xlsx\") "
   ]
  },
  {
   "cell_type": "code",
   "execution_count": null,
   "id": "0b7b4d83-25eb-4167-9019-6dc001c4e532",
   "metadata": {},
   "outputs": [],
   "source": []
  },
  {
   "cell_type": "code",
   "execution_count": null,
   "id": "1d110c6c-a893-466f-bc65-f1f614312ec9",
   "metadata": {
    "scrolled": true
   },
   "outputs": [],
   "source": [
    "#beta-sheet processed\n",
    "for i, row in df_set.iterrows():\n",
    "    print(f'{row['PDBid']} {row['chain']}')\n",
    "    bs = BetaSheet(PDBid=row['PDBid'], length_dom=row['length'], chain_dom=row['chain'], start_dom=row['start'], stop_dom=row['end'])\n",
    "    #print(row)\n",
    "    bs.read_pdbxPfile()\n",
    "    bs.get_sheets()\n",
    "    bs.get_suitable_sheets()\n",
    "    bs.calculate_distr()\n",
    "    df_res = bs.structures_df if i == 0 else pd.concat([df_res, bs.structures_df])"
   ]
  },
  {
   "cell_type": "code",
   "execution_count": null,
   "id": "91f35b76-9ff2-4e9e-8ebd-56d173d0501a",
   "metadata": {
    "scrolled": true
   },
   "outputs": [],
   "source": [
    "df_res"
   ]
  },
  {
   "cell_type": "code",
   "execution_count": null,
   "id": "9a9ece89-3b40-49fe-ba7a-2948012acc21",
   "metadata": {},
   "outputs": [],
   "source": [
    "df_res.to_excel(\"Result_new_ah.xlsx\") "
   ]
  },
  {
   "cell_type": "code",
   "execution_count": null,
   "id": "9a051ff0-db43-4de0-8dc5-7527ac99fe58",
   "metadata": {},
   "outputs": [],
   "source": []
  },
  {
   "cell_type": "code",
   "execution_count": null,
   "id": "e1d19543-460f-4aef-af8a-6ca8efc1d1e3",
   "metadata": {},
   "outputs": [],
   "source": []
  },
  {
   "cell_type": "code",
   "execution_count": null,
   "id": "eb28a871-99d3-43f8-8421-6621d0fce7d5",
   "metadata": {},
   "outputs": [],
   "source": []
  },
  {
   "cell_type": "code",
   "execution_count": null,
   "id": "0d6871c4-b742-4be1-90ef-7ed22cc77818",
   "metadata": {},
   "outputs": [],
   "source": [
    "class BetaSheet():\n",
    "    pass"
   ]
  },
  {
   "cell_type": "code",
   "execution_count": null,
   "id": "fefccc3a-5b1e-4b28-b218-2d2e3d66fe18",
   "metadata": {},
   "outputs": [],
   "source": []
  },
  {
   "cell_type": "code",
   "execution_count": null,
   "id": "f524f24c-874f-4169-ac8a-7d3fbc455c74",
   "metadata": {},
   "outputs": [],
   "source": []
  },
  {
   "cell_type": "code",
   "execution_count": null,
   "id": "5231c9ac-2f32-4d34-939d-d730b0ef7377",
   "metadata": {},
   "outputs": [],
   "source": [
    "import numpy as np\n",
    "import pandas as pd\n",
    "import biotite.structure.io.pdbx as pdbx\n",
    "import biotite.database.rcsb as rcsb"
   ]
  },
  {
   "cell_type": "code",
   "execution_count": null,
   "id": "df39d48b-1941-4f10-bc0a-76fd41ea8791",
   "metadata": {},
   "outputs": [],
   "source": [
    "#TODO: check up the mode asserts?\n",
    "# is exist the path/file\n",
    "\n",
    "\n",
    "def read_prot_set(path: str, mode: str = 'xlsx'):\n",
    "    \"\"\"\n",
    "    Read protein set data from file through the path and return a pandas dataframe. The following data structure is required: PDBid, chain, start, end. Header is needed.\n",
    "    arguments:\n",
    "        - path (str): path to the file for reading\n",
    "        - mode (str): file format to read. Only xlsx, csv and tsv formats are allowed\n",
    "    return:\n",
    "        - prot_set_df (pandas.DataFrame): dataframe of the protein set\n",
    "    \"\"\"\n",
    "    print('----read_prot_set----')\n",
    "\n",
    "    match mode:\n",
    "        case 'xlsx':\n",
    "            prot_set_df = pd.read_excel(path)\n",
    "        case 'csv':\n",
    "            prot_set_df = pd.read_csv(path)\n",
    "        case 'tsv':\n",
    "            prot_set_df = pd.read_csv(path, sep='\\t')\n",
    "\n",
    "    prot_set_df['length'] = prot_set_df['end'] - prot_set_df['start'] + 1 #из calculate_length\n",
    "\n",
    "    return prot_set_df"
   ]
  },
  {
   "cell_type": "code",
   "execution_count": null,
   "id": "8f001601-ac8a-434d-9b4a-f530e7dc535a",
   "metadata": {},
   "outputs": [],
   "source": [
    "df = read_prot_set('book.xlsx')\n",
    "df"
   ]
  },
  {
   "cell_type": "code",
   "execution_count": null,
   "id": "dd9ac8e3-9ae8-4d01-b257-862f36400347",
   "metadata": {
    "jupyter": {
     "source_hidden": true
    }
   },
   "outputs": [],
   "source": [
    "read_prot_set('book.csv', mode='csv')"
   ]
  },
  {
   "cell_type": "code",
   "execution_count": null,
   "id": "be768984-48f8-4cbf-bff0-4f6a4d5bd052",
   "metadata": {
    "jupyter": {
     "source_hidden": true
    }
   },
   "outputs": [],
   "source": [
    "read_prot_set('book.tsv', mode='tsv')"
   ]
  },
  {
   "cell_type": "code",
   "execution_count": null,
   "id": "37432eaa-eabb-4a47-a616-7b8e2642bfa8",
   "metadata": {},
   "outputs": [],
   "source": []
  },
  {
   "cell_type": "markdown",
   "id": "0ef8731d-c009-4862-b760-55a098d176c0",
   "metadata": {},
   "source": [
    "## calculate_distribution"
   ]
  },
  {
   "cell_type": "code",
   "execution_count": null,
   "id": "63d879f6-eaa3-48d7-b458-e5f4272f136d",
   "metadata": {},
   "outputs": [],
   "source": [
    "def calculate_distribution(structures_df, length_dom, start_dom, structure_obj):\n",
    "    '''создаёт список длиной скоkько а.о. и заполняет 1 там где есть структура \n",
    "    [Вход: датафрейм со спиралями structures_df, длина белка l, начало белка start_dom. \n",
    "    Вызывается в Alpha_helix ThreeTen_helix и Beta_sheets'''\n",
    "    print('-----calculate_distribution----')\n",
    "    #print(f'length_dom={length_dom}, start_dom={start_dom}')\n",
    "    \n",
    "    #Считываем нужные альфа-спирали в список \n",
    "    struc_distr = [0] * length_dom#список, где будем выставлять наличие альфа-спиралей\n",
    "    \n",
    "    #заполняем его (это тот, что в аминокислотных остатках)\n",
    "    for i in range(0, len(structures_df)):#\n",
    "        start = int(structures_df.iloc[i][\"start_str\"])#[\"start_hel\"])\n",
    "        stop = int(structures_df.iloc[i][\"stop_str\"])#[\"stop_hel\"])\n",
    "        #print(\"СТАРТ=\", start, \" СТОП=\", stop)\n",
    "        #ставим относительно начала и конца домена с учётом, что в списке начало с 0, а не 1 и учёт домена\n",
    "        start = start - structure_obj.start_dom\n",
    "        stop = stop - structure_obj.start_dom\n",
    "        #print(\"start=\", start, \" stop=\", stop)\n",
    "        \n",
    "        #вносим в нашу цепь данные\n",
    "        for aa in range (start, stop+1):\n",
    "            #print(f'aa={aa}')\n",
    "            struc_distr[aa] = 1\n",
    "            #print(\"struc_distr\", struc_distr[c])\n",
    "    \n",
    "    struc_distr_scaled = scaler(struc_distr, length_dom)\n",
    "    \n",
    "    print(f\"struc_distr = {struc_distr}\")\n",
    "    print()\n",
    "    print(f\"struc_distr_scaled = {struc_distr_scaled}\")\n",
    "    \n",
    "    return struc_distr_scaled"
   ]
  },
  {
   "cell_type": "code",
   "execution_count": null,
   "id": "d441b2cb-abf4-46a8-8278-694527493f40",
   "metadata": {},
   "outputs": [],
   "source": []
  },
  {
   "cell_type": "markdown",
   "id": "bbeeaf12-980e-4dab-ab29-0426408b5038",
   "metadata": {},
   "source": [
    "## scaler"
   ]
  },
  {
   "cell_type": "code",
   "execution_count": null,
   "id": "55b68739-5908-4d80-b0f4-f966ddedff96",
   "metadata": {},
   "outputs": [],
   "source": [
    "def scaler(struc_distr, length_dom):\n",
    "    print('-----scaler----')\n",
    "    \n",
    "    #делаем список из 100 ячеек (наши координаты, т.е. %)\n",
    "    scaled_distr = [0] * 100\n",
    "    weight = length_dom / 100#Сколько приходится аминокислот на 1 ячейку\n",
    "    print(\"T=\", weight)\n",
    "    \n",
    "    if weight != 1:\n",
    "        k, t = 1, weight\n",
    "        #print(\"t=\", t)\n",
    "        i,j  = 1, 1\n",
    "        while i < length_dom and j < 100:\n",
    "            a = min(k, t)\n",
    "            scaled_distr[j] = round(scaled_distr[j] + a * struc_distr[i], 2)\n",
    "            k, t = round(k - a, 2), round(t - a, 2)\n",
    "            #print(\"a=\",a,\" значение[\",i,\"]=\", struc_distr[i],\" scaled_distr[\", j,\"]=\", scaled_distr[j], \" k=\",k,\" t=\",t, \" i=\", i, \" j=\",j)\n",
    "            if k == 0:\n",
    "                i += 1\n",
    "                k = 1\n",
    "            if t == 0:\n",
    "                j += 1\n",
    "                t = weight\n",
    "            #print(\"k=\",k, \" t=\", t)\n",
    "        scaled_distr = [round(x / weight, 2) for x in scaled_distr]\n",
    "    \n",
    "    else:#if weight == 1:\n",
    "        scaled_distr = struc_distr#просто копируем\n",
    "    #print(\"scaled_distr\\n\", scaled_distr)\n",
    "    return scaled_distr\n"
   ]
  },
  {
   "cell_type": "code",
   "execution_count": null,
   "id": "a27e26ea-0cd6-43b1-a527-d7ff5e93ba03",
   "metadata": {},
   "outputs": [],
   "source": []
  },
  {
   "cell_type": "code",
   "execution_count": null,
   "id": "96f32a76-91d8-4b54-ae53-f83aac2c6412",
   "metadata": {},
   "outputs": [],
   "source": []
  },
  {
   "cell_type": "markdown",
   "id": "16b9ebad-8f19-42cf-ae7e-6c9f91f88310",
   "metadata": {},
   "source": [
    "## Alpha_helix | ThreeTen_helix | \n",
    "Beta_sheet | Irregular --> OOP"
   ]
  },
  {
   "cell_type": "code",
   "execution_count": null,
   "id": "86eaecd2-4c29-4881-a992-5e6ad3301924",
   "metadata": {},
   "outputs": [],
   "source": [
    "#BetaSheet(SecondaryStructure)\n",
    "#Irregular(SecondaryStructure)\n",
    "\n",
    "#let it be node for which structure schould be processed \n",
    "#let it be mode for separate or full result for each type of secondary structure (but if full then join it on the last step)\n",
    "\n",
    "#TO DO: загрузочная линия\n",
    "#TO DO: проблемные структуры в отдельный файл и выводить сколько структур было отработано чисто"
   ]
  },
  {
   "cell_type": "code",
   "execution_count": null,
   "id": "b7501aec-5276-4a04-a4e4-25d5fde7636e",
   "metadata": {},
   "outputs": [],
   "source": []
  },
  {
   "cell_type": "markdown",
   "id": "dbd4ee18-55a3-4668-aab4-4f60457d6b41",
   "metadata": {},
   "source": [
    "## Domain"
   ]
  },
  {
   "cell_type": "code",
   "execution_count": null,
   "id": "f923fb7f-be79-4d83-9c45-a865d707cc18",
   "metadata": {},
   "outputs": [],
   "source": [
    "class Domain():#вообше это не домен, если мы пихаем фулл инфу о подборке\n",
    "    '''Class for storing information about whole protein'''\n",
    "    def __init__(self, PDBid, length_dom, chain_dom, start_dom, stop_dom, struc_distr_df=pd.DataFrame()):# НАКИНУТЬ self.prot_set_df self.structures_df\n",
    "        print('------Domain------')\n",
    "        \n",
    "        self.PDBid = PDBid\n",
    "        self.length_dom = length_dom\n",
    "        self.chain_dom = chain_dom\n",
    "        self.start_dom = start_dom\n",
    "        self.stop_dom = stop_dom\n",
    "        \n",
    "        #self.struc_distr_df = pd.concat([self.structures_df, pd.DataFrame({'PDBid': [self.PDBid], 'chain': [self.chain_dom], \n",
    "                                                                          #'start': [start_dom], 'end': [self.stop_dom], \n",
    "                                                                          #'length': [self.length_dom]})])\n",
    "        self.structures_df = pd.DataFrame({'PDBid': [self.PDBid], 'chain': [self.chain_dom], \n",
    "                                                                          'start': [start_dom], 'end': [self.stop_dom], \n",
    "                                                                          'length': [self.length_dom]})\n",
    "        #print('!!!!! structures_df')\n",
    "        #display(self.structures_df)\n",
    "\n",
    "        self.pdbx_file = pdbx.PDBxFile.read(rcsb.fetch(self.PDBid, \"pdbx\"))\n",
    "        #print(\"Данные: \", PDBid, length_dom, chain_dom, start_dom, stop_dom)  "
   ]
  },
  {
   "cell_type": "code",
   "execution_count": null,
   "id": "602475a7-fd5c-4c6e-9246-458932997012",
   "metadata": {},
   "outputs": [],
   "source": []
  },
  {
   "cell_type": "markdown",
   "id": "52146d23-2f2d-47e2-9ed7-cc7fe5355538",
   "metadata": {},
   "source": [
    "## SecondaryStructure (dataclass)"
   ]
  },
  {
   "cell_type": "code",
   "execution_count": null,
   "id": "c3d0df25-b579-435e-99fa-211a7a56340c",
   "metadata": {},
   "outputs": [],
   "source": [
    "from dataclasses import dataclass"
   ]
  },
  {
   "cell_type": "code",
   "execution_count": null,
   "id": "a737cdb0-f1cc-4566-aef6-234f74258233",
   "metadata": {},
   "outputs": [],
   "source": [
    "@dataclass\n",
    "class SecondaryStructure():\n",
    "    print('-----SecondaryStructure-----')\n",
    "    id_str: list\n",
    "    start_str: list\n",
    "    stop_str: list\n",
    "    class_str: list\n",
    "    length_str: list\n",
    "    chain_str: list\n",
    "    #secondary_structure_obj: pd.DataFrame = None\n",
    "    #secondary_structure_df: pd.DataFrame = None\n",
    "    #quantity_on_hand: int = 0\n",
    "    \n",
    "    def get_suitable_structures_(self, class_hel = '1'):\n",
    "        print('--------Helix.get_suitable_helices()--------')\n",
    "        self.helices_df = self.helices_df[self.helices_df.class_hel == str(class_hel)]#тип спирали == альфа 1 310 5\n",
    "        self.helices_df = self.helices_df[self.helices_df.chain_hel == self.chain_dom]#цепь нужная по Podborka\n",
    "        self.helices_df = self.helices_df[self.helices_df.start_hel >= self.start_dom] #входит в домен\n",
    "        self.helices_df = self.helices_df[self.helices_df.stop_hel <= self.stop_dom] #входит в домен\n",
    "        self.helices_df.index = np.arange(len(self.helices_df))#обновляем индексы (чтобы стали от 0 до ..., а не как были в helices_df до того как удалим ненужные нам цепи)\n",
    "        print('self.helices_df')"
   ]
  },
  {
   "cell_type": "code",
   "execution_count": null,
   "id": "6c39da99-8cae-4b62-a6c4-4511c2653d78",
   "metadata": {},
   "outputs": [],
   "source": []
  },
  {
   "cell_type": "code",
   "execution_count": null,
   "id": "24857145-8a10-4334-b3b6-346309f47137",
   "metadata": {},
   "outputs": [],
   "source": []
  },
  {
   "cell_type": "code",
   "execution_count": null,
   "id": "fe11ef4c-89f1-483b-b907-04f61966800a",
   "metadata": {},
   "outputs": [],
   "source": []
  },
  {
   "cell_type": "code",
   "execution_count": null,
   "id": "67420892-4784-409b-b8e3-d1116b6b9ed2",
   "metadata": {},
   "outputs": [],
   "source": []
  },
  {
   "cell_type": "code",
   "execution_count": null,
   "id": "18fdf82d-2440-479f-abea-30e32f4da353",
   "metadata": {},
   "outputs": [],
   "source": []
  },
  {
   "cell_type": "code",
   "execution_count": null,
   "id": "22189bfe-ab18-4bad-8ce8-64720c3f6241",
   "metadata": {},
   "outputs": [],
   "source": []
  },
  {
   "cell_type": "code",
   "execution_count": null,
   "id": "a87083af-83aa-45e2-8438-6c8534e0cc17",
   "metadata": {},
   "outputs": [],
   "source": []
  },
  {
   "cell_type": "markdown",
   "id": "2c28ce25-0fea-4fb2-a066-f56c1680fa8d",
   "metadata": {},
   "source": [
    "## Helix"
   ]
  },
  {
   "cell_type": "code",
   "execution_count": null,
   "id": "b574312b-dd32-400b-83e1-f3805821b1c9",
   "metadata": {},
   "outputs": [],
   "source": []
  },
  {
   "cell_type": "code",
   "execution_count": null,
   "id": "6bc3ebb7-1def-4a91-b989-c04ff4b730dc",
   "metadata": {},
   "outputs": [],
   "source": [
    "class Helix(Domain):\n",
    "    '''Class for storage helices' information'''\n",
    "    def __init__(self, PDBid, length_dom, chain_dom, start_dom, stop_dom):\n",
    "        print('------Helix------')\n",
    "        super().__init__(PDBid=PDBid, length_dom=length_dom, chain_dom=chain_dom, start_dom=start_dom, stop_dom=stop_dom)\n",
    "        self.helices_obj = None\n",
    "        self.helices_df = None\n",
    "\n",
    "\n",
    "    def get_helices(self):\n",
    "        print('------Helix.get_helices------')\n",
    "        \n",
    "        self.helices_obj = SecondaryStructure(id_str=self.pdbx_file [self.PDBid, \"struct_conf\"][\"pdbx_PDB_helix_id\"], \n",
    "                                                       start_str=self.pdbx_file[self.PDBid, \"struct_conf\"][\"beg_label_seq_id\"], \n",
    "                                                       stop_str=self.pdbx_file [self.PDBid, \"struct_conf\"][\"end_label_seq_id\"],#концы спиралей а.о., \n",
    "                                                       class_str=self.pdbx_file [self.PDBid, \"struct_conf\"][\"pdbx_PDB_helix_class\"],#классы спирали, \n",
    "                                                       length_str=self.pdbx_file [self.PDBid, \"struct_conf\"][\"pdbx_PDB_helix_length\"],#длины спирали, \n",
    "                                                       chain_str=self.pdbx_file [self.PDBid, \"struct_conf\"][\"beg_auth_asym_id\"],#цепи белка по буквам, каким принадлежат эти спирали\n",
    "                                                       #helices_df=pd.DataFrame({'id_hel' : self.id_str,'start_hel' : self.start_hel, 'stop_hel': self.stop_hel, 'class_hel': self.class_hel, \n",
    "                                                                                       #'length_hel': self.length_hel, 'chain_hel': self.chain_hel})\n",
    "                                                      )\n",
    "        self.helices_df=pd.DataFrame({'id_str' : self.helices_obj.id_str,\n",
    "                                                  'start_str' : self.helices_obj.start_str, \n",
    "                                                  'stop_str': self.helices_obj.stop_str, \n",
    "                                                  'class_str': self.helices_obj.class_str,\n",
    "                                                  'length_str': self.helices_obj.length_str, \n",
    "                                                  'chain_str': self.helices_obj.chain_str}\n",
    "                                                )\n",
    "        print('Helices (self.helices_df)\\n')\n",
    "        display(self.helices_df)\n",
    "\n",
    "    def get_suitable_helices(self, class_hel = '1'):\n",
    "        print('--------Helix.get_suitable_helices()--------')\n",
    "        print(f'!!!! {type(self.helices_df.start_str)} {type(self.start_dom)}')\n",
    "        \n",
    "        self.helices_df = self.helices_df[self.helices_df.class_str == str(class_hel)]#тип спирали == альфа 1 310 5\n",
    "        self.helices_df = self.helices_df[self.helices_df.chain_str == self.chain_dom]#цепь нужная по Podborka\n",
    "        self.helices_df = self.helices_df[self.helices_df.start_str >= self.start_dom] #входит в домен\n",
    "        self.helices_df = self.helices_df[self.helices_df.stop_str <= self.stop_dom] #входит в домен\n",
    "        self.helices_df.index = np.arange(len(self.helices_df))#обновляем индексы (чтобы стали от 0 до ..., а не как были в helices_df до того как удалим ненужные нам цепи)\n",
    "        \n",
    "        print('self.helices_df')\n",
    "        display(self.helices_df)\n",
    "\n",
    "\n",
    "    def count_helices(self):\n",
    "        print('------Helix.count_helices------')\n",
    "        self.structures_df.loc[len(structures_df) - 1, \"Count_AlphaH\"] = helices_df.shape[0]#кол-во альфа-спиралей\n",
    "        #ПЕРЕПИСАТЬ: ЧТО-ТО С ДАТАФРЕЙМАМИ СДЕЛАТЬ\n",
    "        \n",
    "        "
   ]
  },
  {
   "cell_type": "code",
   "execution_count": null,
   "id": "db31baa8-7893-41af-b187-0f53e44e8623",
   "metadata": {},
   "outputs": [],
   "source": [
    "\n",
    "h = Helix(PDBid='1A3N', length_dom=141, chain_dom='A', start_dom=1, stop_dom=131)\n",
    "h.read_pdbxPfile()\n",
    "\n",
    "#h.get_helices()"
   ]
  },
  {
   "cell_type": "code",
   "execution_count": null,
   "id": "9a4ac355-234d-43a8-803e-5b5213b33bb2",
   "metadata": {},
   "outputs": [],
   "source": [
    "h.get_helices()"
   ]
  },
  {
   "cell_type": "code",
   "execution_count": null,
   "id": "46521fa7-eab0-4c20-b976-37b6293fdb2a",
   "metadata": {},
   "outputs": [],
   "source": [
    "h.helices_obj"
   ]
  },
  {
   "cell_type": "code",
   "execution_count": null,
   "id": "ba9f08ac-d0ed-4a1d-8a7d-38cf857307f8",
   "metadata": {},
   "outputs": [],
   "source": [
    "dir(h)"
   ]
  },
  {
   "cell_type": "code",
   "execution_count": null,
   "id": "07b23a40-6a2b-4bf9-a16a-58e720cfd2c8",
   "metadata": {},
   "outputs": [],
   "source": []
  },
  {
   "cell_type": "code",
   "execution_count": null,
   "id": "8052d887-6cb5-4787-88bf-d5fc775da84d",
   "metadata": {},
   "outputs": [],
   "source": []
  },
  {
   "cell_type": "code",
   "execution_count": null,
   "id": "adafaab0-1741-459e-9dd8-b687ebad95d5",
   "metadata": {},
   "outputs": [],
   "source": []
  },
  {
   "cell_type": "markdown",
   "id": "266ccd46-d646-49cf-96f4-e96b6011392a",
   "metadata": {},
   "source": [
    "## Alpha-helix"
   ]
  },
  {
   "cell_type": "code",
   "execution_count": null,
   "id": "52052c33-7ff1-43c3-b096-028270003b93",
   "metadata": {},
   "outputs": [],
   "source": [
    "class AlphaHelix(Helix):\n",
    "    def __init__(self, PDBid, length_dom, chain_dom, start_dom, stop_dom):\n",
    "        super().__init__(PDBid=PDBid, length_dom=length_dom, chain_dom=chain_dom, start_dom=start_dom, stop_dom=stop_dom)\n",
    "        \n",
    "    def get_alpha_helices(self):\n",
    "        print('--------AlphaHelix.get_alpha_helices()--------')\n",
    "        self.get_suitable_helices(\"1\")\n",
    "        \n",
    "        print('self.helices_df')\n",
    "        display(self.helices_df)\n",
    "\n",
    "    def calculate_distr(self):\n",
    "        print('--------AlphaHelix.calculate_distr()--------')\n",
    "        if self.helices_df.empty:\n",
    "            print(\"В белке \", self.PDBid, \"альфа-спиралей не обнаружено\")\n",
    "            Res=[0]*100\n",
    "            vse100 = (\";\".join(map(str,Res)))\n",
    "            self.structures_df.loc[len(self.structures_df) - 1, \"Alpha_helix_distr\"] = vse100\n",
    "            #print(\"self.structures_df\", self.structures_df)\n",
    "        else:\n",
    "            #тут основной расчёт\n",
    "            Res=[]\n",
    "            #print(f'Before calculate_distribution: {self.length_dom} {self.start_dom}')\n",
    "            display(self.helices_df)\n",
    "            Res=calculate_distribution(self.helices_df, self.length_dom, self.start_dom, self)#Получаем 100% данные структур\n",
    "            #print(\"Res\", Res)\n",
    "            vse100 = (\";\".join(map(str,Res)))\n",
    "            self.structures_df.loc[len(self.structures_df) - 1, \"Alpha_helix_distr\"] = vse100\n",
    "            \n",
    "        print('self.structures_df.head(3)')\n",
    "        display(self.structures_df.head(3))\n",
    "        return self.structures_df\n",
    "\n",
    "    "
   ]
  },
  {
   "cell_type": "code",
   "execution_count": null,
   "id": "fad3ee65-a80d-40c1-bbce-7092c470ae27",
   "metadata": {},
   "outputs": [],
   "source": []
  },
  {
   "cell_type": "markdown",
   "id": "7adc981b-2650-4a36-a5c0-5e6b80e50763",
   "metadata": {},
   "source": [
    "## 310-helix"
   ]
  },
  {
   "cell_type": "code",
   "execution_count": null,
   "id": "d19ea9e0-46d0-4196-8d84-8e19148cb06c",
   "metadata": {
    "jupyter": {
     "source_hidden": true
    }
   },
   "outputs": [],
   "source": [
    "class ThreeTenHelix(Helix):\n",
    "    def __init__(self, PDBid, length_dom, chain_dom, start_dom, stop_dom):\n",
    "        super().__init__(PDBid=PDBid, length_dom=length_dom, chain_dom=chain_dom, start_dom=start_dom, stop_dom=stop_dom)\n",
    "        \n",
    "    #НУЖНО ЭТО ВСУНУТЬ В ПРОСТО ХЕЛИКС, А ПОДАВАТЬ КЛАСС СООТВЕТСТВУЮЩИЙ И ФИЛЬТРОВАТЬ ЧЕРЕЗ НЕГО\n",
    "    def get_threeten_helices(self):# ПЕРЕИМЕНОВАТЬ!!!!\n",
    "        print('--------ThreeTenHelix.get_threeten_helices()--------')\n",
    "        self.get_suitable_helices(\"5\")\n",
    "        #self.helices_df = self.helices_df[self.helices_df.class_hel == \"1\"]#тип спирали == альфа\n",
    "        #self.helices_df = self.helices_df[self.helices_df.chain_hel == self.chain_dom]#цепь нужная по Podborka\n",
    "        #self.helices_df = self.helices_df[self.helices_df.start_hel >= self.start_dom] #входит в домен\n",
    "        #self.helices_df = self.helices_df[self.helices_df.stop_hel <= self.stop_dom] #входит в домен\n",
    "        #self.helices_df.index = np.arange(len(self.helices_df))#обновляем индексы (чтобы стали от 0 до ..., а не как были в helices_df до того как удалим ненужные нам цепи)\n",
    "        print('self.helices_df')\n",
    "        display(self.helices_df)\n",
    "\n",
    "    def calculate_distr(self):\n",
    "        print('--------ThreeTenHelix.calculate_distr()--------')\n",
    "        if self.helices_df.empty:\n",
    "            print(\"В белке \", self.PDBid, \"310-спиралей не обнаружено\")\n",
    "            Res=[0]*100\n",
    "            vse100 = (\";\".join(map(str,Res)))\n",
    "            self.structures_df.loc[len(self.structures_df) - 1, \"ThreeTen_helix_distr\"] = vse100\n",
    "            #print(\"self.structures_df\", self.structures_df)\n",
    "        else:\n",
    "            #тут основной расчёт\n",
    "            Res=[]\n",
    "            #print(f'Before calculate_distribution: {self.length_dom} {self.start_dom}')\n",
    "            display(self.helices_df)\n",
    "            Res=calculate_distribution(self.helices_df, self.length_dom, self.start_dom, self)#Получаем 100% данные структур\n",
    "            #print(\"Res\", Res)\n",
    "            vse100 = (\";\".join(map(str,Res)))\n",
    "            self.structures_df.loc[len(self.structures_df) - 1, \"ThreeTen_helix_distr\"] = vse100\n",
    "        #print(\"self.structures_df\", self.structures_df)\n",
    "    #else:\n",
    "        #print(\"Какие-то проблемы с id_hel\")\n",
    "    #else:\n",
    "        #print(\"В белке \", PDBid, \"альфа-спиралей не обнаружено\")\n",
    "    #self.structures_df.loc[i, \"Count_ThreeTenH\"] = 0\n",
    "    #Res=[0]*100\n",
    "    #vse100 = (\";\".join(map(str,Res)))\n",
    "    #self.structures_df.loc[i, \"ThreeTen_helix_distr\"] = vse100\n",
    "        print('self.structures_df.head(3)')\n",
    "        display(self.structures_df.head(3))\n",
    "        return self.structures_df\n",
    "\n",
    "    "
   ]
  },
  {
   "cell_type": "code",
   "execution_count": null,
   "id": "8a3d3726-1b15-4819-9d79-40b4401e62a3",
   "metadata": {},
   "outputs": [],
   "source": []
  },
  {
   "cell_type": "code",
   "execution_count": null,
   "id": "6d972506-efe8-424c-8df7-6413a49e4033",
   "metadata": {},
   "outputs": [],
   "source": []
  },
  {
   "cell_type": "code",
   "execution_count": null,
   "id": "17d1a0f1-b297-4895-a6c6-e5816d5206aa",
   "metadata": {},
   "outputs": [],
   "source": []
  },
  {
   "cell_type": "code",
   "execution_count": null,
   "id": "17471b37-75a2-4eff-ba7d-5d0e3fd494c5",
   "metadata": {},
   "outputs": [],
   "source": []
  },
  {
   "cell_type": "code",
   "execution_count": null,
   "id": "75eecbf9-c3ff-4d6b-95e1-a33aaee0f990",
   "metadata": {},
   "outputs": [],
   "source": []
  },
  {
   "cell_type": "markdown",
   "id": "cfb66706-5fb7-44a7-8847-9373bae2c0f8",
   "metadata": {},
   "source": [
    "## BetaSheet"
   ]
  },
  {
   "cell_type": "code",
   "execution_count": null,
   "id": "45fcb10a-1336-4286-a7b5-d7f1fcf5fc1f",
   "metadata": {
    "jupyter": {
     "source_hidden": true
    }
   },
   "outputs": [],
   "source": [
    "class BetaSheet(Domain):\n",
    "    '''Class for storage beta sheets' information'''\n",
    "    def __init__(self, PDBid, length_dom, chain_dom, start_dom, stop_dom):\n",
    "        print('------BetaSheet------')\n",
    "        super().__init__(PDBid=PDBid, length_dom=length_dom, chain_dom=chain_dom, start_dom=start_dom, stop_dom=stop_dom)\n",
    "        self.id_sht = None\n",
    "        self.start_sht = None\n",
    "        self.stop_sht = None\n",
    "        self.class_sht = None\n",
    "        self.length_sht = None\n",
    "        self.chain_sht = None\n",
    "        self.sheets_df = None\n",
    "        #мб датакласс выше?\n",
    "\n",
    "\n",
    "    def get_sheets(self):# ПЕРЕИМЕНОВАТЬ\n",
    "        print('------BetaSheet.get_sheets------')\n",
    "        #pdbx_file [PDBid, \"struct_sheet_range\"]\n",
    "        #print(f'!!!! {self.pdbx_file[self.PDBid, \"struct_sheet_range\"]}')\n",
    "        #if (self.pdbx_file[self.PDBid, \"struct_sheet_range\"]) is None:\n",
    "            #return None\n",
    "        self.id_sht = self.pdbx_file[self.PDBid, \"struct_sheet_range\"][\"sheet_id\"]#id листа\n",
    "        self.start_sht = self.pdbx_file[self.PDBid, \"struct_sheet_range\"][\"beg_label_seq_id\"]#начало листа а.о.\n",
    "        self.stop_sht = self.pdbx_file [self.PDBid, \"struct_sheet_range\"][\"end_label_seq_id\"]#конец листа а.о.\n",
    "        self.chain_sht = self.pdbx_file [self.PDBid, \"struct_sheet_range\"][\"beg_auth_asym_id\"]#цепь https://www.biotite-python.org/examples/gallery/structure/sheet_arrangement.html\n",
    "        #self.class_sht = self.pdbx_file [self.PDBid, \"struct_conf\"][\"pdbx_PDB_sheet_class\"]#классы спирали\n",
    "        #self.length_sht = self.pdbx_file [self.PDBid, \"struct_conf\"][\"pdbx_PDB_sheet_length\"]#длины спирали\n",
    "        \n",
    "        self.start_sht = np.array([int(self.start_sht)] if isinstance(self.start_sht, str) else [int(t) for t in self.start_sht])\n",
    "        self.stop_sht = np.array([int(self.stop_sht)] if isinstance(self.stop_sht, str) else [int(t) for t in self.stop_sht])\n",
    "\n",
    "        #print(f'id_sht = {self.id_sht}')\n",
    "        #print(f'start_sht = {self.start_sht} {type(self.start_sht)}')\n",
    "        #print(f'stop_sht = {self.stop_sht} {type(self.stop_sht)}')\n",
    "        #print(f'class_sht = {self.class_sht}')\n",
    "        #print(f'length_sht = {self.length_sht}')\n",
    "        #print(f'chain_sht = {self.chain_sht}')\n",
    "\n",
    "        #self.sheets_df = pd.DataFrame({'id_sht' : self.id_sht,'start_sht' : self.start_sht, 'stop_sht': self.stop_sht, 'class_sht': self.class_sht, \n",
    "                                     #'length_sht': self.length_sht, 'chain_sht': self.chain_sht})\n",
    "        self.sheets_df = pd.DataFrame({'id_sht' : self.id_sht,'start_sht' : self.start_sht, 'stop_sht': self.stop_sht, 'chain_sht': self.chain_sht})\n",
    "        \n",
    "        print('sheets_df\\n')\n",
    "        display(self.sheets_df)\n",
    "\n",
    "    def get_suitable_sheets(self):\n",
    "        print('--------BetaSheet.get_suitable_sheets()--------')\n",
    "        self.sheets_df = self.sheets_df[self.sheets_df.chain_sht == self.chain_dom]#цепь нужная по Podborka\n",
    "        self.sheets_df = self.sheets_df[self.sheets_df.start_sht >= self.start_dom] #входит в домен\n",
    "        self.sheets_df = self.sheets_df[self.sheets_df.stop_sht <= self.stop_dom] #входит в домен\n",
    "        self.sheets_df.index = np.arange(len(self.sheets_df))#обновляем индексы (чтобы стали от 0 до ..., а не как были в sheets_df до того как удалим ненужные нам цепи)        \n",
    "        print('self.sheets_df')\n",
    "        display(self.sheets_df)\n",
    "\n",
    "\n",
    "    def count_sheets(self):\n",
    "        print('------BetaSheet.count_sheets------')\n",
    "        self.structures_df.loc[len(structures_df) - 1, \"Count_AlphaH\"] = sheets_df.shape[0]#кол-во альфа-спиралей\n",
    "        #ПЕРЕПИСАТЬ: ЧТО-ТО С ДАТАФРЕЙМАМИ СДЕЛАТЬ\n",
    "\n",
    "\n",
    "    def get_alpha_sheets_(self):\n",
    "        print('--------BetaSheet.get_alpha_sheets()--------')\n",
    "        self.get_suitable_sheets_(\"1\")\n",
    "        #self.sheets_df = self.sheets_df[self.sheets_df.class_sht == \"1\"]#тип спирали == альфа\n",
    "        #self.sheets_df = self.sheets_df[self.sheets_df.chain_sht == self.chain_dom]#цепь нужная по Podborka\n",
    "        #self.sheets_df = self.sheets_df[self.sheets_df.start_sht >= self.start_dom] #входит в домен\n",
    "        #self.sheets_df = self.sheets_df[self.sheets_df.stop_sht <= self.stop_dom] #входит в домен\n",
    "        #self.sheets_df.index = np.arange(len(self.sheets_df))#обновляем индексы (чтобы стали от 0 до ..., а не как были в sheets_df до того как удалим ненужные нам цепи)\n",
    "        print('self.sheets_df')\n",
    "        display(self.sheets_df)\n",
    "\n",
    "    def calculate_distr(self):\n",
    "        print('--------BetaSheet.calculate_distr()--------')\n",
    "        if self.sheets_df.empty:\n",
    "            print(\"В белке \", self.PDBid, \"альфа-спиралей не обнаружено\")\n",
    "            Res=[0]*100\n",
    "            vse100 = (\";\".join(map(str,Res)))\n",
    "            self.structures_df.loc[len(self.structures_df) - 1, \"Alpha_helix_distr\"] = vse100\n",
    "            #print(\"self.structures_df\", self.structures_df)\n",
    "        else:\n",
    "            #тут основной расчёт\n",
    "            Res=[]\n",
    "            #print(f'Before calculate_distribution: {self.length_dom} {self.start_dom}')\n",
    "            display(self.sheets_df)\n",
    "            Res=calculate_distribution(self.sheets_df, self.length_dom, self.start_dom, self)#Получаем 100% данные структур\n",
    "            #print(\"Res\", Res)\n",
    "            vse100 = (\";\".join(map(str,Res)))\n",
    "            self.structures_df.loc[len(self.structures_df) - 1, \"Beta_sheet_distr\"] = vse100\n",
    "        #print(\"self.structures_df\", self.structures_df)\n",
    "    #else:\n",
    "        #print(\"Какие-то проблемы с id_sht\")\n",
    "    #else:\n",
    "        #print(\"В белке \", PDBid, \"альфа-спиралей не обнаружено\")\n",
    "    #self.structures_df.loc[i, \"Count_AlphaH\"] = 0\n",
    "    #Res=[0]*100\n",
    "    #vse100 = (\";\".join(map(str,Res)))\n",
    "    #self.structures_df.loc[i, \"Alpha_helix_distr\"] = vse100\n",
    "        print('self.structures_df.head(3)')\n",
    "        display(self.structures_df.head(3))\n",
    "        return self.structures_df\n",
    "        \n"
   ]
  },
  {
   "cell_type": "code",
   "execution_count": null,
   "id": "748d7fb6-e8a2-4a50-a31b-a1a014ddb4f7",
   "metadata": {},
   "outputs": [],
   "source": []
  },
  {
   "cell_type": "code",
   "execution_count": null,
   "id": "f1906dba-7189-487a-a1ad-879dc7b3a685",
   "metadata": {},
   "outputs": [],
   "source": []
  },
  {
   "cell_type": "code",
   "execution_count": null,
   "id": "e6c5a64a-ef3f-4b93-a20d-8cf0bb5aafba",
   "metadata": {},
   "outputs": [],
   "source": []
  },
  {
   "cell_type": "code",
   "execution_count": null,
   "id": "8bf2226b-8c38-4a85-9b82-df2dbbc2bb2d",
   "metadata": {},
   "outputs": [],
   "source": []
  },
  {
   "cell_type": "code",
   "execution_count": null,
   "id": "f9b0e850-dbe1-4545-9c16-9dcd8eedf6dd",
   "metadata": {},
   "outputs": [],
   "source": []
  },
  {
   "cell_type": "code",
   "execution_count": null,
   "id": "7ca89e0e-857b-429e-bfb3-f4f50a0bd8e9",
   "metadata": {},
   "outputs": [],
   "source": []
  },
  {
   "cell_type": "code",
   "execution_count": null,
   "id": "200fecd0-74b9-43f7-b133-8b2a9d364546",
   "metadata": {},
   "outputs": [],
   "source": []
  },
  {
   "cell_type": "code",
   "execution_count": null,
   "id": "cba5fc28-267c-49be-9491-c424f11ff239",
   "metadata": {},
   "outputs": [],
   "source": []
  },
  {
   "cell_type": "code",
   "execution_count": null,
   "id": "a862c766-341c-4931-9a27-e95c91b19dae",
   "metadata": {},
   "outputs": [],
   "source": [
    "#0. rEAD THE PROTEIN SET TO DF\n",
    "df_set = read_prot_set('example.xlsx')\n",
    "df_set"
   ]
  },
  {
   "cell_type": "code",
   "execution_count": null,
   "id": "defee7ba-67fb-4394-b13c-9329ef03f8e5",
   "metadata": {},
   "outputs": [],
   "source": [
    "#1. Itter and read pdbx file in Domain\n"
   ]
  },
  {
   "cell_type": "code",
   "execution_count": null,
   "id": "a06696ae-18f0-48a0-b80d-0160c5dd5f86",
   "metadata": {},
   "outputs": [],
   "source": []
  },
  {
   "cell_type": "code",
   "execution_count": null,
   "id": "f97a2bd2-0ef2-4470-a694-43109f51ac30",
   "metadata": {},
   "outputs": [],
   "source": []
  },
  {
   "cell_type": "code",
   "execution_count": null,
   "id": "1ff3b2ac-5048-4d05-88fe-4f4ee735131c",
   "metadata": {},
   "outputs": [],
   "source": []
  },
  {
   "cell_type": "code",
   "execution_count": null,
   "id": "b58f5ea7-da6b-46ba-b8d8-8305c0497132",
   "metadata": {},
   "outputs": [],
   "source": []
  },
  {
   "cell_type": "code",
   "execution_count": null,
   "id": "124aeaf9-b5d0-4c3d-861a-2911f7feb906",
   "metadata": {
    "scrolled": true
   },
   "outputs": [],
   "source": [
    "#alpha-helix processed\n",
    "for i, row in df_set.iterrows():\n",
    "    print(f'{row['PDBid']} {row['chain']}')\n",
    "    ah = AlphaHelix(PDBid=row['PDBid'], length_dom=row['length'], chain_dom=row['chain'], start_dom=row['start'], stop_dom=row['end'])\n",
    "    #print(row)\n",
    "    ah.read_pdbxPfile()\n",
    "    ah.get_helices()\n",
    "    ah.get_alpha_helices()\n",
    "    ah.calculate_distr()\n",
    "    df_res = ah.structures_df if i == 0 else pd.concat([df_res, ah.structures_df])"
   ]
  },
  {
   "cell_type": "code",
   "execution_count": null,
   "id": "461b2fcf-306f-4420-98cf-ae2c44b2d668",
   "metadata": {
    "scrolled": true
   },
   "outputs": [],
   "source": [
    "df_res"
   ]
  },
  {
   "cell_type": "code",
   "execution_count": null,
   "id": "6d2a6924-088d-484b-a777-d28f3bda2fa0",
   "metadata": {},
   "outputs": [],
   "source": [
    "df_res.to_excel(\"Result_new_ah.xlsx\") "
   ]
  },
  {
   "cell_type": "code",
   "execution_count": null,
   "id": "6ac0f265-6530-4d34-9a7d-e9b30cc1fc01",
   "metadata": {},
   "outputs": [],
   "source": []
  },
  {
   "cell_type": "code",
   "execution_count": null,
   "id": "eb85053b-e48e-43f3-90be-3baa6f54f50c",
   "metadata": {
    "scrolled": true
   },
   "outputs": [],
   "source": [
    "#310-helix processed\n",
    "for i, row in df_set.iterrows():\n",
    "    print(f'{row['PDBid']} {row['chain']}')\n",
    "    tth = ThreeTenHelix(PDBid=row['PDBid'], length_dom=row['length'], chain_dom=row['chain'], start_dom=row['start'], stop_dom=row['end'])\n",
    "    #print(row)\n",
    "    tth.read_pdbxPfile()\n",
    "    tth.get_helices()\n",
    "    tth.get_threeten_helices()\n",
    "    tth.calculate_distr()\n",
    "    df_res = tth.structures_df if i == 0 else pd.concat([df_res, tth.structures_df])"
   ]
  },
  {
   "cell_type": "code",
   "execution_count": null,
   "id": "aa76115d-4c0c-451f-a4fe-92046f7e25b3",
   "metadata": {
    "scrolled": true
   },
   "outputs": [],
   "source": [
    "df_res"
   ]
  },
  {
   "cell_type": "code",
   "execution_count": null,
   "id": "8abe06cb-46f4-4246-a4bc-a78cbf4eb42a",
   "metadata": {},
   "outputs": [],
   "source": [
    "df_res.to_excel(\"Result_new_tth.xlsx\") "
   ]
  },
  {
   "cell_type": "code",
   "execution_count": null,
   "id": "dfc1827c-ff69-4f6e-a5de-fbdc75fe3c66",
   "metadata": {},
   "outputs": [],
   "source": []
  },
  {
   "cell_type": "code",
   "execution_count": null,
   "id": "896e8566-6ec9-47c9-8dd9-a849f0210e8c",
   "metadata": {
    "scrolled": true
   },
   "outputs": [],
   "source": [
    "#beta-sheet processed\n",
    "for i, row in df_set.iterrows():\n",
    "    print(f'{row['PDBid']} {row['chain']}')\n",
    "    bs = BetaSheet(PDBid=row['PDBid'], length_dom=row['length'], chain_dom=row['chain'], start_dom=row['start'], stop_dom=row['end'])\n",
    "    #print(row)\n",
    "    bs.read_pdbxPfile()\n",
    "    bs.get_sheets()\n",
    "    bs.get_suitable_sheets()\n",
    "    bs.calculate_distr()\n",
    "    df_res = bs.structures_df if i == 0 else pd.concat([df_res, bs.structures_df])"
   ]
  },
  {
   "cell_type": "code",
   "execution_count": null,
   "id": "f9efc221-e3ce-4b80-8b1d-912f2755c149",
   "metadata": {
    "scrolled": true
   },
   "outputs": [],
   "source": [
    "df_res"
   ]
  },
  {
   "cell_type": "code",
   "execution_count": null,
   "id": "7f15bc33-96ab-44f6-a340-d2a7833e3a97",
   "metadata": {},
   "outputs": [],
   "source": [
    "df_res.to_excel(\"Result_new_ah.xlsx\") "
   ]
  },
  {
   "cell_type": "code",
   "execution_count": null,
   "id": "59f7ccba-43f0-487c-bf7e-23614ee671c7",
   "metadata": {},
   "outputs": [],
   "source": []
  },
  {
   "cell_type": "code",
   "execution_count": null,
   "id": "b2e7b898-a7c0-40e3-aefe-7f77dd55af86",
   "metadata": {},
   "outputs": [],
   "source": []
  },
  {
   "cell_type": "code",
   "execution_count": null,
   "id": "01ce0fd2-0b58-455f-ba51-9494d701d2dc",
   "metadata": {},
   "outputs": [],
   "source": []
  },
  {
   "cell_type": "code",
   "execution_count": null,
   "id": "b68779de-de3c-4c63-97a4-ad4f754f9024",
   "metadata": {},
   "outputs": [],
   "source": []
  },
  {
   "cell_type": "code",
   "execution_count": null,
   "id": "db3d1477-8b63-4ec4-b9a3-cc8a961bde18",
   "metadata": {},
   "outputs": [],
   "source": [
    "import numpy as np\n",
    "import pandas as pd\n",
    "import biotite.structure.io.pdbx as pdbx\n",
    "import biotite.database.rcsb as rcsb"
   ]
  },
  {
   "cell_type": "code",
   "execution_count": null,
   "id": "8117f32f-698a-453a-9404-3d1974420c71",
   "metadata": {},
   "outputs": [],
   "source": [
    "#TODO: check up the mode asserts?\n",
    "# is exist the path/file\n",
    "\n",
    "def read_prot_set(path: str, mode: str = 'xlsx'):\n",
    "    \"\"\"\n",
    "    Read protein set data from file through the path and return a pandas dataframe. The following data structure is required: PDBid, chain, start, end. Header is needed.\n",
    "    arguments:\n",
    "        - path (str): path to the file for reading\n",
    "        - mode (str): file format to read. Only xlsx, csv and tsv formats are allowed\n",
    "    return:\n",
    "        - prot_set_df (pandas.DataFrame): dataframe of the protein set\n",
    "    \"\"\"\n",
    "    print('----read_prot_set----')\n",
    "\n",
    "    match mode:\n",
    "        case 'xlsx':\n",
    "            prot_set_df = pd.read_excel(path)\n",
    "        case 'csv':\n",
    "            prot_set_df = pd.read_csv(path)\n",
    "        case 'tsv':\n",
    "            prot_set_df = pd.read_csv(path, sep='\\t')\n",
    "\n",
    "    prot_set_df['length'] = prot_set_df['end'] - prot_set_df['start'] + 1 #из calculate_length\n",
    "\n",
    "    return prot_set_df"
   ]
  },
  {
   "cell_type": "code",
   "execution_count": null,
   "id": "0054b9b3-0fe8-4359-8a40-4aef2477918a",
   "metadata": {},
   "outputs": [],
   "source": []
  },
  {
   "cell_type": "markdown",
   "id": "07dce843-1b75-4a5e-8e38-26edd50e6aae",
   "metadata": {},
   "source": [
    "## calculate_distribution"
   ]
  },
  {
   "cell_type": "code",
   "execution_count": null,
   "id": "e828644d-e104-4e36-8f16-bf7736fcf386",
   "metadata": {},
   "outputs": [],
   "source": [
    "def calculate_distribution(structures_df, length_dom, start_dom, structure_obj):\n",
    "    '''создаёт список длиной скоkько а.о. и заполняет 1 там где есть структура \n",
    "    [Вход: датафрейм со спиралями structures_df, длина белка l, начало белка start_dom. \n",
    "    Вызывается в Alpha_helix ThreeTen_helix и Beta_sheets'''\n",
    "    print('-----calculate_distribution----')\n",
    "    \n",
    "    #Считываем нужные альфа-спирали в список \n",
    "    struc_distr = [0] * length_dom#список, где будем выставлять наличие альфа-спиралей\n",
    "    \n",
    "    #заполняем его (это тот, что в аминокислотных остатках)\n",
    "    for i in range(0, len(structures_df)):#\n",
    "        start = int(structures_df.iloc[i][\"start_str\"])\n",
    "        stop = int(structures_df.iloc[i][\"stop_str\"])\n",
    "        \n",
    "        #ставим относительно начала и конца домена с учётом, что в списке начало с 0, а не 1 и учёт домена\n",
    "        start = start - structure_obj.start_dom\n",
    "        stop = stop - structure_obj.start_dom\n",
    "        \n",
    "        #вносим в нашу цепь данные\n",
    "        for aa in range (start, stop+1):\n",
    "            struc_distr[aa] = 1\n",
    "    \n",
    "    struc_distr_scaled = scaler(struc_distr, length_dom)\n",
    "    \n",
    "    print(f\"struc_distr = {struc_distr}\")\n",
    "    print()\n",
    "    print(f\"struc_distr_scaled = {struc_distr_scaled}\")\n",
    "    \n",
    "    return struc_distr_scaled"
   ]
  },
  {
   "cell_type": "code",
   "execution_count": null,
   "id": "43e7e052-41b0-421f-a042-65671634449d",
   "metadata": {},
   "outputs": [],
   "source": []
  },
  {
   "cell_type": "markdown",
   "id": "24956dde-132f-43fa-8eb4-196a6ee60af7",
   "metadata": {},
   "source": [
    "## scaler"
   ]
  },
  {
   "cell_type": "code",
   "execution_count": null,
   "id": "02ba4e46-eba9-4461-85c0-89aaf5c1458d",
   "metadata": {},
   "outputs": [],
   "source": [
    "def scaler(struc_distr, length_dom):\n",
    "    print('-----scaler----')\n",
    "    \n",
    "    #делаем список из 100 ячеек (наши координаты, т.е. %)\n",
    "    scaled_distr = [0] * 100\n",
    "    weight = length_dom / 100#Сколько приходится аминокислот на 1 ячейку\n",
    "    print(\"T=\", weight)\n",
    "    \n",
    "    if weight != 1:\n",
    "        k, t = 1, weight\n",
    "        i,j  = 1, 1\n",
    "        while i < length_dom and j < 100:\n",
    "            a = min(k, t)\n",
    "            scaled_distr[j] = round(scaled_distr[j] + a * struc_distr[i], 2)\n",
    "            k, t = round(k - a, 2), round(t - a, 2)\n",
    "            #print(\"a=\",a,\" значение[\",i,\"]=\", struc_distr[i],\" scaled_distr[\", j,\"]=\", scaled_distr[j], \" k=\",k,\" t=\",t, \" i=\", i, \" j=\",j)\n",
    "            \n",
    "            if k == 0:\n",
    "                i += 1\n",
    "                k = 1\n",
    "            if t == 0:\n",
    "                j = j + 1\n",
    "                t = weight\n",
    "            #print(\"k=\",k, \" t=\", t)\n",
    "        scaled_distr = [round(x / weight, 2) for x in scaled_distr]\n",
    "    \n",
    "    else:#if weight == 1:\n",
    "        scaled_distr = struc_distr#просто копируем\n",
    "\n",
    "    return scaled_distr\n"
   ]
  },
  {
   "cell_type": "code",
   "execution_count": null,
   "id": "9d4a2346-2649-4198-8edf-d828f2bce17b",
   "metadata": {},
   "outputs": [],
   "source": []
  },
  {
   "cell_type": "code",
   "execution_count": null,
   "id": "65af14c5-b2da-43dd-a6b1-10dc8a5ebc43",
   "metadata": {},
   "outputs": [],
   "source": []
  },
  {
   "cell_type": "markdown",
   "id": "a21ea431-54d9-40f7-8d0f-2374bb605dcb",
   "metadata": {},
   "source": [
    "## Alpha_helix | ThreeTen_helix | Beta_sheet | \n",
    "Irregular --> OOP"
   ]
  },
  {
   "cell_type": "code",
   "execution_count": null,
   "id": "11f1ce9a-d1ba-432d-ab99-96f279bdeb4e",
   "metadata": {},
   "outputs": [],
   "source": [
    "#let it be node for which structure schould be processed \n",
    "#let it be mode for separate or full result for each type of secondary structure (but if full then join it on the last step)\n",
    "\n",
    "#TO DO: загрузочная линия\n",
    "#TO DO: проблемные структуры в отдельный файл и выводить сколько структур было отработано чисто"
   ]
  },
  {
   "cell_type": "code",
   "execution_count": null,
   "id": "312a25b3-1701-4e1f-ac72-f6a1801ed067",
   "metadata": {},
   "outputs": [],
   "source": []
  },
  {
   "cell_type": "markdown",
   "id": "8de3bc4d-e332-4ada-9fde-b170c8d08e6d",
   "metadata": {},
   "source": [
    "## Domain"
   ]
  },
  {
   "cell_type": "code",
   "execution_count": null,
   "id": "8d908ffa-47d2-4c90-887b-465cc34709c2",
   "metadata": {},
   "outputs": [],
   "source": [
    "class Domain():#вообше это не домен, если мы пихаем фулл инфу о подборке\n",
    "    '''Class for storing information about whole protein'''\n",
    "    def __init__(self, PDBid, length_dom, chain_dom, start_dom, stop_dom):# НАКИНУТЬ self.prot_set_df self.struc_distr_df\n",
    "        print('------Domain------')\n",
    "        #print(\"Данные: \", PDBid, length_dom, chain_dom, start_dom, stop_dom)\n",
    "        \n",
    "        self.PDBid = PDBid\n",
    "        self.length_dom = length_dom\n",
    "        self.chain_dom = chain_dom\n",
    "        self.start_dom = start_dom\n",
    "        self.stop_dom = stop_dom\n",
    "        \n",
    "        self.struc_distr_df = pd.DataFrame({'PDBid': [self.PDBid], 'chain': [self.chain_dom], \n",
    "                                                                          'start': [start_dom], 'end': [self.stop_dom], \n",
    "                                                                          'length': [self.length_dom]})\n",
    "\n",
    "        #display(self.struc_distr_df)\n",
    "        \n",
    "        self.pdbx_file = pdbx.PDBxFile.read(rcsb.fetch(self.PDBid, \"pdbx\"))\n",
    "\n",
    "    def get_suitable_structures(self):\n",
    "        print('--------Domain.get_suitable_structures()--------')\n",
    "        self.structures_df = self.structures_df[self.structures_df.chain_str == self.chain_dom]#цепь нужная по Podborka\n",
    "        self.structures_df = self.structures_df[self.structures_df.start_str >= self.start_dom] #входит в домен\n",
    "        self.structures_df = self.structures_df[self.structures_df.stop_str <= self.stop_dom] #входит в домен\n",
    "        self.structures_df.index = np.arange(len(self.structures_df))#обновляем индексы (чтобы стали от 0 до ..., а не как были в structures_df до того как удалим ненужные нам цепи)\n",
    "        print('self.structures_df')\n",
    "        display(self.structures_df)\n",
    "\n",
    "    def calculate_distr(self, column_name):\n",
    "        print('--------.calculate_distr()--------')\n",
    "        if self.structures_df.empty:\n",
    "            print(\"В белке \", self.PDBid, \"альфа-спиралей не обнаружено\")\n",
    "            Res=[0]*100\n",
    "            vse100 = (\";\".join(map(str,Res)))\n",
    "            self.struc_distr_df.loc[len(self.struc_distr_df) - 1, column_name] = vse100\n",
    "            #print(\"self.struc_distr_df\", self.struc_distr_df)\n",
    "        else:\n",
    "            #тут основной расчёт\n",
    "            Res=[]\n",
    "            #print(f'Before calculate_distribution: {self.length_dom} {self.start_dom}')\n",
    "            display(self.structures_df)\n",
    "            Res=calculate_distribution(self.structures_df, self.length_dom, self.start_dom, self)#Получаем 100% данные структур\n",
    "            #print(\"Res\", Res)\n",
    "            vse100 = (\";\".join(map(str,Res)))\n",
    "            self.struc_distr_df.loc[len(self.struc_distr_df) - 1, column_name] = vse100\n",
    "        #print(\"self.struc_distr_df\", self.struc_distr_df)\n",
    "    #else:\n",
    "        #print(\"Какие-то проблемы с id_str\")\n",
    "    #else:\n",
    "        #print(\"В белке \", PDBid, \"альфа-спиралей не обнаружено\")\n",
    "    #self.struc_distr_df.loc[i, \"Count_AlphaH\"] = 0\n",
    "    #Res=[0]*100\n",
    "    #vse100 = (\";\".join(map(str,Res)))\n",
    "    #self.struc_distr_df.loc[i, \"Alpha_helix_distr\"] = vse100\n",
    "        print('self.struc_distr_df.head(3)')\n",
    "        display(self.struc_distr_df.head(3))\n",
    "        return self.struc_distr_df"
   ]
  },
  {
   "cell_type": "code",
   "execution_count": null,
   "id": "ed591c6a-28cb-4f55-a4d3-a8ec3604313e",
   "metadata": {},
   "outputs": [],
   "source": []
  },
  {
   "cell_type": "code",
   "execution_count": null,
   "id": "5a02ce59-ea0c-4348-8bf0-7bd3716489eb",
   "metadata": {},
   "outputs": [],
   "source": []
  },
  {
   "cell_type": "markdown",
   "id": "c4426d00-fb19-4bf5-bc22-632e71576988",
   "metadata": {},
   "source": [
    "## Helix"
   ]
  },
  {
   "cell_type": "code",
   "execution_count": null,
   "id": "6b68f698-9ee2-417e-82bb-fb4f1b9e17a0",
   "metadata": {},
   "outputs": [],
   "source": [
    "class Helix(Domain):\n",
    "    '''Class for storage helices' information'''\n",
    "    def __init__(self, PDBid, length_dom, chain_dom, start_dom, stop_dom):\n",
    "        print('------Helix------')\n",
    "        super().__init__(PDBid=PDBid, length_dom=length_dom, chain_dom=chain_dom, start_dom=start_dom, stop_dom=stop_dom)\n",
    "        self.id_str = None\n",
    "        self.start_str = None\n",
    "        self.stop_str = None\n",
    "        self.class_str = None\n",
    "        self.length_str = None\n",
    "        self.chain_str = None\n",
    "        self.structures_df = None\n",
    "        #мб датакласс выше?\n",
    "\n",
    "\n",
    "    def get_helices(self):\n",
    "        print('------Helix.get_helices------')\n",
    "        self.id_str = self.pdbx_file [self.PDBid, \"struct_conf\"][\"pdbx_PDB_helix_id\"]\n",
    "        self.start_str = self.pdbx_file[self.PDBid, \"struct_conf\"][\"beg_label_seq_id\"]\n",
    "        self.stop_str = self.pdbx_file [self.PDBid, \"struct_conf\"][\"end_label_seq_id\"]#концы спиралей а.о.\n",
    "        self.class_str = self.pdbx_file [self.PDBid, \"struct_conf\"][\"pdbx_PDB_helix_class\"]#классы спирали\n",
    "        self.length_str = self.pdbx_file [self.PDBid, \"struct_conf\"][\"pdbx_PDB_helix_length\"]#длины спирали\n",
    "        self.chain_str = self.pdbx_file [self.PDBid, \"struct_conf\"][\"beg_auth_asym_id\"]#цепи белка по буквам, каким принадлежат эти спирали\n",
    "\n",
    "        self.start_str = np.array([int(self.start_str)] if isinstance(self.start_str, str) else [int(t) for t in self.start_str])\n",
    "        self.stop_str = np.array([int(self.stop_str)] if isinstance(self.stop_str, str) else [int(t) for t in self.stop_str])\n",
    "\n",
    "        #print(f'id_str = {self.id_str}')\n",
    "        #print(f'start_str = {self.start_str} {type(self.start_str)}')\n",
    "        #print(f'stop_str = {self.stop_str} {type(self.stop_str)}')\n",
    "        #print(f'class_str = {self.class_str}')\n",
    "        #print(f'length_str = {self.length_str}')\n",
    "        #print(f'chain_str = {self.chain_str}')\n",
    "\n",
    "        self.structures_df = pd.DataFrame({'id_str' : self.id_str,'start_str' : self.start_str, 'stop_str': self.stop_str, 'class_str': self.class_str, \n",
    "                                     'length_str': self.length_str, 'chain_str': self.chain_str})\n",
    "        print('structures_df\\n')\n",
    "        display(self.structures_df)\n",
    "\n",
    "    def get_suitable_helices(self, class_str = '1'):\n",
    "        print('--------Helix.get_suitable_helices()--------')\n",
    "        self.get_suitable_structures()\n",
    "        self.structures_df = self.structures_df[self.structures_df.class_str == str(class_str)]#тип спирали == альфа 1 310 5\n",
    "        print('self.structures_df')\n",
    "        display(self.structures_df)"
   ]
  },
  {
   "cell_type": "code",
   "execution_count": null,
   "id": "2947506b-d0ce-48d0-82e8-9efb28bb2f23",
   "metadata": {},
   "outputs": [],
   "source": []
  },
  {
   "cell_type": "markdown",
   "id": "8b893a78-1cd8-4e5c-b1d5-4d38e3c8c1d9",
   "metadata": {},
   "source": [
    "## Alpha-helix"
   ]
  },
  {
   "cell_type": "code",
   "execution_count": null,
   "id": "409f02b0-2487-4d3a-8f01-cc3e832ff5b8",
   "metadata": {},
   "outputs": [],
   "source": [
    "class AlphaHelix(Helix):\n",
    "    def __init__(self, PDBid, length_dom, chain_dom, start_dom, stop_dom):\n",
    "        super().__init__(PDBid=PDBid, length_dom=length_dom, chain_dom=chain_dom, start_dom=start_dom, stop_dom=stop_dom)\n",
    "        \n",
    "    #НУЖНО ЭТО ВСУНУТЬ В ПРОСТО ХЕЛИКС, А ПОДАВАТЬ КЛАСС СООТВЕТСТВУЮЩИЙ И ФИЛЬТРОВАТЬ ЧЕРЕЗ НЕГО\n",
    "    def get_alpha_helices(self):\n",
    "        print('--------AlphaHelix.get_alpha_helices()--------')\n",
    "        self.get_suitable_helices(\"1\")\n",
    "        \n",
    "        print('self.structures_df')\n",
    "        display(self.structures_df)"
   ]
  },
  {
   "cell_type": "code",
   "execution_count": null,
   "id": "a36baf17-0809-4901-a0b2-df8498e2d44c",
   "metadata": {},
   "outputs": [],
   "source": []
  },
  {
   "cell_type": "markdown",
   "id": "e1cd2dd1-c0f4-4b9e-954c-a4b6d4ea37d8",
   "metadata": {},
   "source": [
    "## 310-helix"
   ]
  },
  {
   "cell_type": "code",
   "execution_count": null,
   "id": "5cccde81-c43d-4876-8df0-aeff83ce724a",
   "metadata": {},
   "outputs": [],
   "source": [
    "class ThreeTenHelix(Helix):\n",
    "    def __init__(self, PDBid, length_dom, chain_dom, start_dom, stop_dom):\n",
    "        super().__init__(PDBid=PDBid, length_dom=length_dom, chain_dom=chain_dom, start_dom=start_dom, stop_dom=stop_dom)\n",
    "        \n",
    "    #НУЖНО ЭТО ВСУНУТЬ В ПРОСТО ХЕЛИКС, А ПОДАВАТЬ КЛАСС СООТВЕТСТВУЮЩИЙ И ФИЛЬТРОВАТЬ ЧЕРЕЗ НЕГО\n",
    "    def get_threeten_helices(self):# ПЕРЕИМЕНОВАТЬ!!!!\n",
    "        print('--------ThreeTenHelix.get_threeten_helices()--------')\n",
    "        self.get_suitable_helices(\"5\")\n",
    "        \n",
    "        print('self.structures_df')\n",
    "        display(self.structures_df)"
   ]
  },
  {
   "cell_type": "code",
   "execution_count": null,
   "id": "66ee7739-d82f-4d50-84d2-3e4d076c4e67",
   "metadata": {},
   "outputs": [],
   "source": []
  },
  {
   "cell_type": "code",
   "execution_count": null,
   "id": "459bb14c-043a-43a0-bab5-95922d05d4fc",
   "metadata": {},
   "outputs": [],
   "source": []
  },
  {
   "cell_type": "markdown",
   "id": "8379e921-8152-4622-a766-d42e841d202a",
   "metadata": {},
   "source": [
    "## Sheets"
   ]
  },
  {
   "cell_type": "code",
   "execution_count": null,
   "id": "f9c5e3de-c80b-496e-a1b3-8ead08ee74e3",
   "metadata": {},
   "outputs": [],
   "source": [
    "class Sheet(Domain):\n",
    "    '''Class for storage helices' information'''\n",
    "    def __init__(self, PDBid, length_dom, chain_dom, start_dom, stop_dom):\n",
    "        print('------Helix------')\n",
    "        super().__init__(PDBid=PDBid, length_dom=length_dom, chain_dom=chain_dom, start_dom=start_dom, stop_dom=stop_dom)\n",
    "        self.id_str = None\n",
    "        self.start_str = None\n",
    "        self.stop_str = None\n",
    "        self.class_str = None\n",
    "        self.length_str = None\n",
    "        self.chain_str = None\n",
    "        self.structures_df = None\n",
    "        #мб датакласс выше?\n",
    "\n",
    "\n",
    "    def get_sheets(self):\n",
    "        print('------Helix.get_helices------')\n",
    "        self.id_str = self.pdbx_file[self.PDBid, \"struct_sheet_range\"][\"sheet_id\"]#id листа\n",
    "        self.start_str = self.pdbx_file[self.PDBid, \"struct_sheet_range\"][\"beg_label_seq_id\"]#начало листа а.о.\n",
    "        self.stop_str = self.pdbx_file [self.PDBid, \"struct_sheet_range\"][\"end_label_seq_id\"]#конец листа а.о.        \n",
    "        self.chain_str = self.pdbx_file [self.PDBid, \"struct_sheet_range\"][\"beg_auth_asym_id\"]\n",
    "\n",
    "        self.start_str = np.array([int(self.start_str)] if isinstance(self.start_str, str) else [int(t) for t in self.start_str])\n",
    "        self.stop_str = np.array([int(self.stop_str)] if isinstance(self.stop_str, str) else [int(t) for t in self.stop_str])\n",
    "\n",
    "        self.structures_df = pd.DataFrame({'id_str' : self.id_str,'start_str' : self.start_str, 'stop_str': self.stop_str,\n",
    "                                     'chain_str': self.chain_str})\n",
    "        print('structures_df\\n')\n",
    "        display(self.structures_df)\n",
    "\n",
    "    def get_suitable_sheets(self):\n",
    "        print('--------Helix.get_suitable_helices()--------')\n",
    "        self.get_suitable_structures()\n",
    "        print('self.structures_df')\n",
    "        display(self.structures_df)"
   ]
  },
  {
   "cell_type": "code",
   "execution_count": null,
   "id": "87649a15-7d34-42c1-98a7-ba71a8701425",
   "metadata": {},
   "outputs": [],
   "source": []
  },
  {
   "cell_type": "markdown",
   "id": "572e46b4-7c7f-4a79-a6c1-f748f13d3c53",
   "metadata": {},
   "source": [
    "## BetaSheet"
   ]
  },
  {
   "cell_type": "code",
   "execution_count": null,
   "id": "94fb1526-c9fc-4e0b-8345-94520fa24e27",
   "metadata": {},
   "outputs": [],
   "source": [
    "class BetaSheet(Sheet):\n",
    "    '''Class for storage beta sheets' information'''\n",
    "    def __init__(self, PDBid, length_dom, chain_dom, start_dom, stop_dom):\n",
    "        print('------BetaSheet------')\n",
    "        super().__init__(PDBid=PDBid, length_dom=length_dom, chain_dom=chain_dom, start_dom=start_dom, stop_dom=stop_dom)"
   ]
  },
  {
   "cell_type": "code",
   "execution_count": null,
   "id": "7c87b712-ec61-4b5f-b28b-17665ff66c1a",
   "metadata": {},
   "outputs": [],
   "source": []
  },
  {
   "cell_type": "code",
   "execution_count": null,
   "id": "641060f1-4f6a-45d2-b325-22fce243811f",
   "metadata": {},
   "outputs": [],
   "source": []
  },
  {
   "cell_type": "code",
   "execution_count": null,
   "id": "d83d0acf-9ff5-4890-bd94-99207c9a5081",
   "metadata": {},
   "outputs": [],
   "source": []
  },
  {
   "cell_type": "code",
   "execution_count": null,
   "id": "6bad15e1-f057-4fa0-9ee0-f9b3217ccf01",
   "metadata": {},
   "outputs": [],
   "source": []
  },
  {
   "cell_type": "code",
   "execution_count": null,
   "id": "f32c9022-f0df-43a3-840b-1728b7ee10a2",
   "metadata": {},
   "outputs": [],
   "source": [
    "#read protein set\n",
    "df_set = read_prot_set('example.xlsx')#изменить на функцию!\n",
    "df_set"
   ]
  },
  {
   "cell_type": "code",
   "execution_count": null,
   "id": "3abcbcee-a616-4e8c-b84d-5045b0a385be",
   "metadata": {},
   "outputs": [],
   "source": []
  },
  {
   "cell_type": "code",
   "execution_count": null,
   "id": "fa4e69f1-5d8c-43be-a9b4-4d6224f97725",
   "metadata": {
    "scrolled": true
   },
   "outputs": [],
   "source": [
    "#alpha-helix processed\n",
    "for i, row in df_set.iterrows():\n",
    "    print(f'{row['PDBid']} {row['chain']}')\n",
    "    ah = AlphaHelix(PDBid=row['PDBid'], length_dom=row['length'], chain_dom=row['chain'], start_dom=row['start'], stop_dom=row['end'])\n",
    "    #print(row)\n",
    "    ah.get_helices()\n",
    "    ah.get_alpha_helices()\n",
    "    ah.calculate_distr(column_name=\"Alpha_helix_distr\")\n",
    "    df_res = ah.struc_distr_df if i == 0 else pd.concat([df_res, ah.struc_distr_df])"
   ]
  },
  {
   "cell_type": "code",
   "execution_count": null,
   "id": "cdc36086-33fd-4d7f-9f07-22fa619e00bf",
   "metadata": {
    "scrolled": true
   },
   "outputs": [],
   "source": [
    "df_res"
   ]
  },
  {
   "cell_type": "code",
   "execution_count": null,
   "id": "abdc5e2c-e897-4e59-9c7e-30f32df36936",
   "metadata": {},
   "outputs": [],
   "source": [
    "df_res.to_excel(\"Result_new_ah.xlsx\") "
   ]
  },
  {
   "cell_type": "code",
   "execution_count": null,
   "id": "adad36bd-0753-46e5-a802-6b0264a1e864",
   "metadata": {},
   "outputs": [],
   "source": []
  },
  {
   "cell_type": "code",
   "execution_count": null,
   "id": "bee09694-8c07-4bd4-bcda-c7e535ac9d84",
   "metadata": {
    "scrolled": true
   },
   "outputs": [],
   "source": [
    "#310-helix processed\n",
    "for i, row in df_set.iterrows():\n",
    "    print(f'{row['PDBid']} {row['chain']}')\n",
    "    tth = ThreeTenHelix(PDBid=row['PDBid'], length_dom=row['length'], chain_dom=row['chain'], start_dom=row['start'], stop_dom=row['end'])\n",
    "    #print(row)\n",
    "    tth.get_helices()\n",
    "    tth.get_threeten_helices()\n",
    "    tth.calculate_distr(column_name=\"Three_ten_helix_distr\")\n",
    "    df_res = tth.struc_distr_df if i == 0 else pd.concat([df_res, tth.struc_distr_df])"
   ]
  },
  {
   "cell_type": "code",
   "execution_count": null,
   "id": "a4321152-30ff-448a-9ab0-c32cb2e5cd57",
   "metadata": {
    "scrolled": true
   },
   "outputs": [],
   "source": [
    "df_res"
   ]
  },
  {
   "cell_type": "code",
   "execution_count": null,
   "id": "97fe12e3-e2a2-4f06-98ce-367d2827d534",
   "metadata": {},
   "outputs": [],
   "source": [
    "df_res.to_excel(\"Result_new_tth.xlsx\") "
   ]
  },
  {
   "cell_type": "code",
   "execution_count": null,
   "id": "05a3ce8a-b9fd-4dd5-9f7f-fd5472e19b6c",
   "metadata": {},
   "outputs": [],
   "source": []
  },
  {
   "cell_type": "code",
   "execution_count": null,
   "id": "9d785824-db7e-4073-9495-f1e0ddf633ec",
   "metadata": {
    "scrolled": true
   },
   "outputs": [],
   "source": [
    "#beta-sheet processed\n",
    "for i, row in df_set.iterrows():\n",
    "    print(f'{row['PDBid']} {row['chain']}')\n",
    "    bs = BetaSheet(PDBid=row['PDBid'], length_dom=row['length'], chain_dom=row['chain'], start_dom=row['start'], stop_dom=row['end'])\n",
    "    #print(row)\n",
    "    bs.get_sheets()\n",
    "    bs.get_suitable_sheets()\n",
    "    bs.calculate_distr(column_name=\"Beta_sheet_distr\")\n",
    "    df_res = bs.struc_distr_df if i == 0 else pd.concat([df_res, bs.struc_distr_df])"
   ]
  },
  {
   "cell_type": "code",
   "execution_count": null,
   "id": "bd91c8a6-7833-4bfd-837d-6faff6ae76d8",
   "metadata": {
    "scrolled": true
   },
   "outputs": [],
   "source": [
    "df_res"
   ]
  },
  {
   "cell_type": "code",
   "execution_count": null,
   "id": "f78a5683-05cf-4ac3-bf15-d30a102a6545",
   "metadata": {},
   "outputs": [],
   "source": [
    "df_res.to_excel(\"Result_new_ah.xlsx\") "
   ]
  },
  {
   "cell_type": "code",
   "execution_count": null,
   "id": "3d804656-4a3d-4dfc-ae7b-002f5d670f8c",
   "metadata": {},
   "outputs": [],
   "source": []
  },
  {
   "cell_type": "code",
   "execution_count": null,
   "id": "5eb88aaf-9817-4c66-b778-c4f9e6b220bc",
   "metadata": {},
   "outputs": [],
   "source": []
  },
  {
   "cell_type": "code",
   "execution_count": null,
   "id": "9f67ae65-e97e-46e1-81f9-ea3c5521d322",
   "metadata": {},
   "outputs": [],
   "source": []
  },
  {
   "cell_type": "code",
   "execution_count": null,
   "id": "6eb7036e-7019-44f8-bbbb-ad1b155ebc76",
   "metadata": {},
   "outputs": [],
   "source": []
  },
  {
   "cell_type": "code",
   "execution_count": null,
   "id": "36bd4598-2d61-45f5-8f27-522e788b8098",
   "metadata": {},
   "outputs": [],
   "source": []
  },
  {
   "cell_type": "code",
   "execution_count": null,
   "id": "2fcf9ef2-db64-4fd6-a37c-d4e637ec22bb",
   "metadata": {},
   "outputs": [],
   "source": [
    "import numpy as np\n",
    "import pandas as pd\n",
    "import biotite.structure.io.pdbx as pdbx\n",
    "import biotite.database.rcsb as rcsb"
   ]
  },
  {
   "cell_type": "code",
   "execution_count": null,
   "id": "8163c806-4ce0-488b-b588-0724c95b1397",
   "metadata": {},
   "outputs": [],
   "source": [
    "#TODO: check up the mode asserts?\n",
    "# is exist the path/file\n",
    "\n",
    "def read_prot_set(path: str, mode: str = 'xlsx'):\n",
    "    \"\"\"\n",
    "    Read protein set data from file through the path and return a pandas dataframe. The following data structure is required: PDBid, chain, start, end. Header is needed.\n",
    "    arguments:\n",
    "        - path (str): path to the file for reading\n",
    "        - mode (str): file format to read. Only xlsx, csv and tsv formats are allowed\n",
    "    return:\n",
    "        - prot_set_df (pandas.DataFrame): dataframe of the protein set\n",
    "    \"\"\"\n",
    "    print('----read_prot_set----')\n",
    "\n",
    "    match mode:\n",
    "        case 'xlsx':\n",
    "            prot_set_df = pd.read_excel(path)\n",
    "        case 'csv':\n",
    "            prot_set_df = pd.read_csv(path)\n",
    "        case 'tsv':\n",
    "            prot_set_df = pd.read_csv(path, sep='\\t')\n",
    "\n",
    "    prot_set_df['length'] = prot_set_df['end'] - prot_set_df['start'] + 1 #из calculate_length\n",
    "\n",
    "    return prot_set_df"
   ]
  },
  {
   "cell_type": "code",
   "execution_count": null,
   "id": "ab7af7ae-4050-400a-aed4-d87ccbd4a609",
   "metadata": {},
   "outputs": [],
   "source": []
  },
  {
   "cell_type": "markdown",
   "id": "ba3d2ea4-5ba2-4fdb-b2bb-01d07218b300",
   "metadata": {},
   "source": [
    "## calculate_distribution"
   ]
  },
  {
   "cell_type": "code",
   "execution_count": null,
   "id": "d2361de2-0f46-4913-9066-62a2481d98df",
   "metadata": {},
   "outputs": [],
   "source": [
    "def calculate_distribution(structures_df, length_dom, start_dom, structure_obj):\n",
    "    '''создаёт список длиной скоkько а.о. и заполняет 1 там где есть структура \n",
    "    [Вход: датафрейм со спиралями structures_df, длина белка l, начало белка start_dom. \n",
    "    Вызывается в Alpha_helix ThreeTen_helix и Beta_sheets'''\n",
    "    print('-----calculate_distribution----')\n",
    "    \n",
    "    #Считываем нужные альфа-спирали в список \n",
    "    struc_distr = [0] * length_dom#список, где будем выставлять наличие альфа-спиралей\n",
    "    \n",
    "    #заполняем его (это тот, что в аминокислотных остатках)\n",
    "    for i in range(0, len(structures_df)):#\n",
    "        start = int(structures_df.iloc[i][\"start_str\"])\n",
    "        stop = int(structures_df.iloc[i][\"stop_str\"])\n",
    "        \n",
    "        #ставим относительно начала и конца домена с учётом, что в списке начало с 0, а не 1 и учёт домена\n",
    "        start = start - structure_obj.start_dom\n",
    "        stop = stop - structure_obj.start_dom\n",
    "        \n",
    "        #вносим в нашу цепь данные\n",
    "        for aa in range (start, stop+1):\n",
    "            struc_distr[aa] = 1\n",
    "    \n",
    "    struc_distr_scaled = scaler(struc_distr, length_dom)\n",
    "    \n",
    "    print(f\"struc_distr = {struc_distr}\")\n",
    "    print()\n",
    "    print(f\"struc_distr_scaled = {struc_distr_scaled}\")\n",
    "    \n",
    "    return struc_distr_scaled"
   ]
  },
  {
   "cell_type": "code",
   "execution_count": null,
   "id": "63030133-f1cb-4f91-a3f1-0f153e74ce88",
   "metadata": {},
   "outputs": [],
   "source": []
  },
  {
   "cell_type": "markdown",
   "id": "b72be939-ad31-4f93-8fed-980dc7a9113c",
   "metadata": {},
   "source": [
    "## scaler"
   ]
  },
  {
   "cell_type": "code",
   "execution_count": null,
   "id": "aa368c5f-5aea-4e6f-aa75-0398c6fb4ea4",
   "metadata": {},
   "outputs": [],
   "source": [
    "def scaler(struc_distr, length_dom):\n",
    "    print('-----scaler----')\n",
    "    \n",
    "    #делаем список из 100 ячеек (наши координаты, т.е. %)\n",
    "    scaled_distr = [0] * 100\n",
    "    weight = length_dom / 100#Сколько приходится аминокислот на 1 ячейку\n",
    "    print(\"T=\", weight)\n",
    "    \n",
    "    if weight != 1:\n",
    "        k, t = 1, weight\n",
    "        i,j  = 1, 1\n",
    "        while i < length_dom and j < 100:\n",
    "            a = min(k, t)\n",
    "            scaled_distr[j] = round(scaled_distr[j] + a * struc_distr[i], 2)\n",
    "            k, t = round(k - a, 2), round(t - a, 2)\n",
    "            #print(\"a=\",a,\" значение[\",i,\"]=\", struc_distr[i],\" scaled_distr[\", j,\"]=\", scaled_distr[j], \" k=\",k,\" t=\",t, \" i=\", i, \" j=\",j)\n",
    "            \n",
    "            if k == 0:\n",
    "                i += 1\n",
    "                k = 1\n",
    "            if t == 0:\n",
    "                j = j + 1\n",
    "                t = weight\n",
    "            #print(\"k=\",k, \" t=\", t)\n",
    "        scaled_distr = [round(x / weight, 2) for x in scaled_distr]\n",
    "    \n",
    "    else:#if weight == 1:\n",
    "        scaled_distr = struc_distr#просто копируем\n",
    "\n",
    "    return scaled_distr\n"
   ]
  },
  {
   "cell_type": "code",
   "execution_count": null,
   "id": "cae1290b-eb53-4d00-a1e9-630a97e68e3c",
   "metadata": {},
   "outputs": [],
   "source": []
  },
  {
   "cell_type": "code",
   "execution_count": null,
   "id": "b9841faf-c7b8-481e-98d0-64dc7c8f8cc6",
   "metadata": {},
   "outputs": [],
   "source": []
  },
  {
   "cell_type": "markdown",
   "id": "ed1f97b7-74fc-4c1d-ae2f-1b1e062b3f78",
   "metadata": {},
   "source": [
    "## Alpha_helix | ThreeTen_helix | Beta_sheet | \n",
    "Irregular --> OOP"
   ]
  },
  {
   "cell_type": "code",
   "execution_count": null,
   "id": "44fce993-07fa-41a9-be4b-36e1129e8120",
   "metadata": {},
   "outputs": [],
   "source": [
    "#let it be node for which structure schould be processed \n",
    "#let it be mode for separate or full result for each type of secondary structure (but if full then join it on the last step)\n",
    "\n",
    "#TO DO: загрузочная линия\n",
    "#TO DO: проблемные структуры в отдельный файл и выводить сколько структур было отработано чисто"
   ]
  },
  {
   "cell_type": "code",
   "execution_count": null,
   "id": "442f94a4-7adb-4859-a95b-307eaed8683b",
   "metadata": {},
   "outputs": [],
   "source": []
  },
  {
   "cell_type": "markdown",
   "id": "fcac2e02-06ad-4b5e-a55e-3bae5f99a13a",
   "metadata": {},
   "source": [
    "## Domain"
   ]
  },
  {
   "cell_type": "code",
   "execution_count": null,
   "id": "36d4e1f2-34f2-4464-8060-69caa59537a2",
   "metadata": {},
   "outputs": [],
   "source": [
    "class Domain():#вообше это не домен, если мы пихаем фулл инфу о подборке\n",
    "    '''Class for storing information about whole protein'''\n",
    "    def __init__(self, PDBid, length_dom, chain_dom, start_dom, stop_dom):# НАКИНУТЬ self.prot_set_df self.struc_distr_df\n",
    "        print('------Domain------')\n",
    "        #print(\"Данные: \", PDBid, length_dom, chain_dom, start_dom, stop_dom)\n",
    "        \n",
    "        self.PDBid = PDBid\n",
    "        self.length_dom = length_dom\n",
    "        self.chain_dom = chain_dom\n",
    "        self.start_dom = start_dom\n",
    "        self.stop_dom = stop_dom\n",
    "        \n",
    "        self.struc_distr_df = pd.DataFrame({'PDBid': [self.PDBid], 'chain': [self.chain_dom], \n",
    "                                                                          'start': [start_dom], 'end': [self.stop_dom], \n",
    "                                                                          'length': [self.length_dom]})\n",
    "\n",
    "        #display(self.struc_distr_df)\n",
    "        \n",
    "        self.pdbx_file = pdbx.PDBxFile.read(rcsb.fetch(self.PDBid, \"pdbx\"))\n",
    "\n",
    "    def get_suitable_structures(self):\n",
    "        print('--------Domain.get_suitable_structures()--------')\n",
    "        self.structures_df = self.structures_df[self.structures_df.chain_str == self.chain_dom]#цепь нужная по Podborka\n",
    "        self.structures_df = self.structures_df[self.structures_df.start_str >= self.start_dom] #входит в домен\n",
    "        self.structures_df = self.structures_df[self.structures_df.stop_str <= self.stop_dom] #входит в домен\n",
    "        self.structures_df.index = np.arange(len(self.structures_df))#обновляем индексы (чтобы стали от 0 до ..., а не как были в structures_df до того как удалим ненужные нам цепи)\n",
    "        print('self.structures_df')\n",
    "        display(self.structures_df)\n",
    "\n",
    "    def calculate_distr(self, column_name):\n",
    "        print('--------.calculate_distr()--------')\n",
    "        if self.structures_df.empty:\n",
    "            print(\"В белке \", self.PDBid, \"альфа-спиралей не обнаружено\")\n",
    "            Res=[0]*100\n",
    "            vse100 = (\";\".join(map(str,Res)))\n",
    "            self.struc_distr_df.loc[len(self.struc_distr_df) - 1, column_name] = vse100\n",
    "            #print(\"self.struc_distr_df\", self.struc_distr_df)\n",
    "        else:\n",
    "            #тут основной расчёт\n",
    "            Res=[]\n",
    "            #print(f'Before calculate_distribution: {self.length_dom} {self.start_dom}')\n",
    "            display(self.structures_df)\n",
    "            Res=calculate_distribution(self.structures_df, self.length_dom, self.start_dom, self)#Получаем 100% данные структур\n",
    "            #print(\"Res\", Res)\n",
    "            vse100 = (\";\".join(map(str,Res)))\n",
    "            self.struc_distr_df.loc[len(self.struc_distr_df) - 1, column_name] = vse100\n",
    "        #print(\"self.struc_distr_df\", self.struc_distr_df)\n",
    "    #else:\n",
    "        #print(\"Какие-то проблемы с id_str\")\n",
    "    #else:\n",
    "        #print(\"В белке \", PDBid, \"альфа-спиралей не обнаружено\")\n",
    "    #self.struc_distr_df.loc[i, \"Count_AlphaH\"] = 0\n",
    "    #Res=[0]*100\n",
    "    #vse100 = (\";\".join(map(str,Res)))\n",
    "    #self.struc_distr_df.loc[i, \"Alpha_helix_distr\"] = vse100\n",
    "        print('self.struc_distr_df.head(3)')\n",
    "        display(self.struc_distr_df.head(3))\n",
    "        return self.struc_distr_df"
   ]
  },
  {
   "cell_type": "code",
   "execution_count": null,
   "id": "0a0289a8-4e97-4fc6-89cf-06d3ca9cd93a",
   "metadata": {},
   "outputs": [],
   "source": []
  },
  {
   "cell_type": "markdown",
   "id": "be6e7fef-e13c-4296-8271-849c6e98705d",
   "metadata": {},
   "source": [
    "## SecondaryStructure"
   ]
  },
  {
   "cell_type": "code",
   "execution_count": null,
   "id": "6c336ce0-1344-4eb6-abee-c2ac60678cd8",
   "metadata": {},
   "outputs": [],
   "source": [
    "from dataclasses import dataclass"
   ]
  },
  {
   "cell_type": "code",
   "execution_count": null,
   "id": "e10023bb-781f-4a7f-9293-ff58b6a126c6",
   "metadata": {},
   "outputs": [],
   "source": [
    "@dataclass\n",
    "class SecondaryStructure():\n",
    "    print('-----SecondaryStructure-----')\n",
    "    id_str: list\n",
    "    start_str: list\n",
    "    stop_str: list\n",
    "    class_str: list\n",
    "    length_str: list\n",
    "    chain_str: list"
   ]
  },
  {
   "cell_type": "code",
   "execution_count": null,
   "id": "35f2aa35-f393-4226-b251-f0c22adfa68c",
   "metadata": {},
   "outputs": [],
   "source": []
  },
  {
   "cell_type": "markdown",
   "id": "7bd60de9-5874-4a1f-9924-b0f9bb52d2f6",
   "metadata": {},
   "source": [
    "## Helix"
   ]
  },
  {
   "cell_type": "code",
   "execution_count": null,
   "id": "08f52f7e-a6c6-49de-a2e4-110307ba3e42",
   "metadata": {},
   "outputs": [],
   "source": [
    "class Helix(Domain):\n",
    "    '''Class for storage helices' information'''\n",
    "    def __init__(self, PDBid, length_dom, chain_dom, start_dom, stop_dom):\n",
    "        print('------Helix------')\n",
    "        super().__init__(PDBid=PDBid, length_dom=length_dom, chain_dom=chain_dom, start_dom=start_dom, stop_dom=stop_dom)\n",
    "\n",
    "        self.secondary_structure_obj = SecondaryStructure(id_str=self.pdbx_file [self.PDBid, \"struct_conf\"][\"pdbx_PDB_helix_id\"],\n",
    "                                                          start_str = self.pdbx_file[self.PDBid, \"struct_conf\"][\"beg_label_seq_id\"],\n",
    "                                                          stop_str = self.pdbx_file [self.PDBid, \"struct_conf\"][\"end_label_seq_id\"],\n",
    "                                                          class_str = self.pdbx_file [self.PDBid, \"struct_conf\"][\"pdbx_PDB_helix_class\"],\n",
    "                                                          length_str = self.pdbx_file [self.PDBid, \"struct_conf\"][\"pdbx_PDB_helix_length\"],\n",
    "                                                          chain_str = self.pdbx_file [self.PDBid, \"struct_conf\"][\"beg_auth_asym_id\"])\n",
    "\n",
    "\n",
    "        self.secondary_structure_obj.start_str = np.array([int(self.secondary_structure_obj.start_str)] if isinstance(self.secondary_structure_obj.start_str, str) else [int(t) for t in self.secondary_structure_obj.start_str])\n",
    "        self.secondary_structure_obj.stop_str = np.array([int(self.secondary_structure_obj.stop_str)] if isinstance(self.secondary_structure_obj.stop_str, str) else [int(t) for t in self.secondary_structure_obj.stop_str])   \n",
    "    \n",
    "        self.structures_df = pd.DataFrame({'id_str' : self.secondary_structure_obj.id_str,\n",
    "                                           'start_str' : self.secondary_structure_obj.start_str, \n",
    "                                           'stop_str': self.secondary_structure_obj.stop_str, \n",
    "                                           'class_str': self.secondary_structure_obj.class_str,\n",
    "                                           'length_str': self.secondary_structure_obj.length_str, \n",
    "                                           'chain_str': self.secondary_structure_obj.chain_str})\n",
    "        print('structures_df\\n')\n",
    "        display(self.structures_df)\n",
    "\n",
    "    def get_suitable_helices(self, class_str = '1'):\n",
    "        print('--------Helix.get_suitable_helices()--------')\n",
    "        self.get_suitable_structures()\n",
    "        self.structures_df = self.structures_df[self.structures_df.class_str == str(class_str)]#тип спирали == альфа 1 310 5\n",
    "        print('self.structures_df')\n",
    "        display(self.structures_df)"
   ]
  },
  {
   "cell_type": "code",
   "execution_count": null,
   "id": "433f71bd-5f4f-4a20-ac2f-7f48c5bb0c6c",
   "metadata": {},
   "outputs": [],
   "source": []
  },
  {
   "cell_type": "markdown",
   "id": "d6dcf659-5248-4965-a0d6-1b3a44f328ef",
   "metadata": {},
   "source": [
    "## Alpha-helix"
   ]
  },
  {
   "cell_type": "code",
   "execution_count": null,
   "id": "bebbb83d-a467-4390-b4a5-a3745a6785cf",
   "metadata": {},
   "outputs": [],
   "source": [
    "class AlphaHelix(Helix):\n",
    "    def __init__(self, PDBid, length_dom, chain_dom, start_dom, stop_dom):\n",
    "        super().__init__(PDBid=PDBid, length_dom=length_dom, chain_dom=chain_dom, start_dom=start_dom, stop_dom=stop_dom)\n",
    "        \n",
    "    #НУЖНО ЭТО ВСУНУТЬ В ПРОСТО ХЕЛИКС, А ПОДАВАТЬ КЛАСС СООТВЕТСТВУЮЩИЙ И ФИЛЬТРОВАТЬ ЧЕРЕЗ НЕГО\n",
    "    def get_alpha_helices(self):\n",
    "        print('--------AlphaHelix.get_alpha_helices()--------')\n",
    "        self.get_suitable_helices(\"1\")\n",
    "        \n",
    "        print('self.structures_df')\n",
    "        display(self.structures_df)"
   ]
  },
  {
   "cell_type": "code",
   "execution_count": null,
   "id": "68c5bc35-470d-4b3f-811f-3a48666f35ca",
   "metadata": {},
   "outputs": [],
   "source": []
  },
  {
   "cell_type": "markdown",
   "id": "70366833-7296-43ff-8005-395f3168ee97",
   "metadata": {},
   "source": [
    "## 310-helix"
   ]
  },
  {
   "cell_type": "code",
   "execution_count": null,
   "id": "ab102e4f-bb4c-4c84-a515-455b359c1098",
   "metadata": {},
   "outputs": [],
   "source": [
    "class ThreeTenHelix(Helix):\n",
    "    def __init__(self, PDBid, length_dom, chain_dom, start_dom, stop_dom):\n",
    "        super().__init__(PDBid=PDBid, length_dom=length_dom, chain_dom=chain_dom, start_dom=start_dom, stop_dom=stop_dom)\n",
    "        \n",
    "\n",
    "    def get_threeten_helices(self):\n",
    "        print('--------ThreeTenHelix.get_threeten_helices()--------')\n",
    "        self.get_suitable_helices(\"5\")\n",
    "        \n",
    "        print('self.structures_df')\n",
    "        display(self.structures_df)"
   ]
  },
  {
   "cell_type": "code",
   "execution_count": null,
   "id": "13a62cf8-682c-4dd5-86df-23cdc6c10a9f",
   "metadata": {},
   "outputs": [],
   "source": []
  },
  {
   "cell_type": "code",
   "execution_count": null,
   "id": "f5a438bf-2dc9-419b-835b-311823ab833a",
   "metadata": {},
   "outputs": [],
   "source": []
  },
  {
   "cell_type": "markdown",
   "id": "8372174d-1043-496e-a7b4-8633533af5ce",
   "metadata": {},
   "source": [
    "## Sheets"
   ]
  },
  {
   "cell_type": "code",
   "execution_count": null,
   "id": "676a2ecb-ae83-4ea8-ba6b-0a5b207a176a",
   "metadata": {},
   "outputs": [],
   "source": [
    "class Sheet(Domain):\n",
    "    '''Class for storage helices' information'''\n",
    "    def __init__(self, PDBid, length_dom, chain_dom, start_dom, stop_dom):\n",
    "        print('------Helix------')\n",
    "        super().__init__(PDBid=PDBid, length_dom=length_dom, chain_dom=chain_dom, start_dom=start_dom, stop_dom=stop_dom)\n",
    "        self.id_str = None\n",
    "        self.start_str = None\n",
    "        self.stop_str = None\n",
    "        self.class_str = None\n",
    "        self.length_str = None\n",
    "        self.chain_str = None\n",
    "        self.structures_df = None\n",
    "        #мб датакласс выше?\n",
    "\n",
    "\n",
    "    def get_sheets(self):\n",
    "        print('------Helix.get_helices------')\n",
    "        self.id_str = self.pdbx_file[self.PDBid, \"struct_sheet_range\"][\"sheet_id\"]#id листа\n",
    "        self.start_str = self.pdbx_file[self.PDBid, \"struct_sheet_range\"][\"beg_label_seq_id\"]#начало листа а.о.\n",
    "        self.stop_str = self.pdbx_file [self.PDBid, \"struct_sheet_range\"][\"end_label_seq_id\"]#конец листа а.о.        \n",
    "        self.chain_str = self.pdbx_file [self.PDBid, \"struct_sheet_range\"][\"beg_auth_asym_id\"]\n",
    "\n",
    "        self.start_str = np.array([int(self.start_str)] if isinstance(self.start_str, str) else [int(t) for t in self.start_str])\n",
    "        self.stop_str = np.array([int(self.stop_str)] if isinstance(self.stop_str, str) else [int(t) for t in self.stop_str])\n",
    "\n",
    "        self.structures_df = pd.DataFrame({'id_str' : self.id_str,'start_str' : self.start_str, 'stop_str': self.stop_str,\n",
    "                                     'chain_str': self.chain_str})\n",
    "        print('structures_df\\n')\n",
    "        display(self.structures_df)\n",
    "\n",
    "    def get_suitable_sheets(self):\n",
    "        print('--------Helix.get_suitable_helices()--------')\n",
    "        self.get_suitable_structures()\n",
    "        print('self.structures_df')\n",
    "        display(self.structures_df)"
   ]
  },
  {
   "cell_type": "code",
   "execution_count": null,
   "id": "0fc888ef-a8cb-44f1-be40-fe2b83a26d58",
   "metadata": {},
   "outputs": [],
   "source": [
    "class Sheet(Domain):\n",
    "    '''Class for storage helices' information'''\n",
    "    def __init__(self, PDBid, length_dom, chain_dom, start_dom, stop_dom):\n",
    "        print('------Helix------')\n",
    "        super().__init__(PDBid=PDBid, length_dom=length_dom, chain_dom=chain_dom, start_dom=start_dom, stop_dom=stop_dom)\n",
    "        #self.id_str = None\n",
    "        #self.start_str = None\n",
    "        #self.stop_str = None\n",
    "        #self.class_str = None\n",
    "        #self.length_str = None\n",
    "        #self.chain_str = None\n",
    "        #self.structures_df = None\n",
    "        #мб датакласс выше?\n",
    "\n",
    "        self.secondary_structure_obj = SecondaryStructure(id_str=self.pdbx_file[self.PDBid, \"struct_sheet_range\"][\"sheet_id\"],\n",
    "                                                          start_str = self.pdbx_file[self.PDBid, \"struct_sheet_range\"][\"beg_label_seq_id\"],\n",
    "                                                          stop_str = self.pdbx_file [self.PDBid, \"struct_sheet_range\"][\"end_label_seq_id\"],\n",
    "                                                          class_str = None,\n",
    "                                                          length_str = None,\n",
    "                                                          chain_str = self.pdbx_file [self.PDBid, \"struct_sheet_range\"][\"beg_auth_asym_id\"])\n",
    "        \n",
    "\n",
    "        self.secondary_structure_obj.start_str = np.array([int(self.secondary_structure_obj.start_str)] if isinstance(self.secondary_structure_obj.start_str, str) else [int(t) for t in self.secondary_structure_obj.start_str])\n",
    "        self.secondary_structure_obj.stop_str = np.array([int(self.secondary_structure_obj.stop_str)] if isinstance(self.secondary_structure_obj.stop_str, str) else [int(t) for t in self.secondary_structure_obj.stop_str])   \n",
    "    \n",
    "        self.structures_df = pd.DataFrame({'id_str' : self.secondary_structure_obj.id_str,\n",
    "                                           'start_str' : self.secondary_structure_obj.start_str, \n",
    "                                           'stop_str': self.secondary_structure_obj.stop_str, \n",
    "                                           'chain_str': self.secondary_structure_obj.chain_str})\n",
    "\n",
    "        print('structures_df\\n')\n",
    "        display(self.structures_df)\n",
    "\n",
    "    def get_suitable_sheets(self):\n",
    "        print('--------Helix.get_suitable_helices()--------')\n",
    "        self.get_suitable_structures()\n",
    "        print('self.structures_df')\n",
    "        display(self.structures_df)"
   ]
  },
  {
   "cell_type": "code",
   "execution_count": null,
   "id": "4f58a6e6-1613-4240-8759-e117f5c9a9e6",
   "metadata": {},
   "outputs": [],
   "source": []
  },
  {
   "cell_type": "code",
   "execution_count": null,
   "id": "d236570d-f0cd-4699-aaf0-e0556018f55e",
   "metadata": {},
   "outputs": [],
   "source": []
  },
  {
   "cell_type": "code",
   "execution_count": null,
   "id": "0842a472-fa95-4d1b-be84-19ae76c7b81e",
   "metadata": {},
   "outputs": [],
   "source": []
  },
  {
   "cell_type": "code",
   "execution_count": null,
   "id": "f8ca50c1-9edb-47ca-8bef-a9fdcc610171",
   "metadata": {},
   "outputs": [],
   "source": []
  },
  {
   "cell_type": "markdown",
   "id": "67f8d80b-450f-47a9-98c9-b18bf881c61a",
   "metadata": {},
   "source": [
    "## BetaSheet"
   ]
  },
  {
   "cell_type": "code",
   "execution_count": null,
   "id": "be3ff753-2f66-4c03-a8a6-9f53fbaa7803",
   "metadata": {},
   "outputs": [],
   "source": [
    "class BetaSheet(Sheet):\n",
    "    '''Class for storage beta sheets' information'''\n",
    "    def __init__(self, PDBid, length_dom, chain_dom, start_dom, stop_dom):\n",
    "        print('------BetaSheet------')\n",
    "        super().__init__(PDBid=PDBid, length_dom=length_dom, chain_dom=chain_dom, start_dom=start_dom, stop_dom=stop_dom)"
   ]
  },
  {
   "cell_type": "code",
   "execution_count": null,
   "id": "40d2ca19-fa75-4a09-97e6-ea8de4769fbf",
   "metadata": {},
   "outputs": [],
   "source": []
  },
  {
   "cell_type": "code",
   "execution_count": null,
   "id": "2dc2e75e-88d4-4b64-a5d3-336525a9eef6",
   "metadata": {},
   "outputs": [],
   "source": []
  },
  {
   "cell_type": "code",
   "execution_count": null,
   "id": "2a755fd7-12a3-46d8-9ab6-83a47e38a09f",
   "metadata": {},
   "outputs": [],
   "source": []
  },
  {
   "cell_type": "code",
   "execution_count": null,
   "id": "2aec6366-586a-4db3-af3b-af927ae40b70",
   "metadata": {},
   "outputs": [],
   "source": []
  },
  {
   "cell_type": "code",
   "execution_count": null,
   "id": "204fc28f-a2b7-4ee2-aeb1-be398ff1fd98",
   "metadata": {},
   "outputs": [],
   "source": [
    "#read protein set\n",
    "df_set = read_prot_set('example.xlsx')#изменить на функцию!\n",
    "df_set"
   ]
  },
  {
   "cell_type": "code",
   "execution_count": null,
   "id": "2a3def9f-a2f0-4e83-a87c-a5dc3014af83",
   "metadata": {},
   "outputs": [],
   "source": []
  },
  {
   "cell_type": "code",
   "execution_count": null,
   "id": "e4e67ac8-3976-4896-94c7-6c5487887a33",
   "metadata": {
    "scrolled": true
   },
   "outputs": [],
   "source": [
    "#alpha-helix processed\n",
    "for i, row in df_set.iterrows():\n",
    "    print(f'{row['PDBid']} {row['chain']}')\n",
    "    ah = AlphaHelix(PDBid=row['PDBid'], length_dom=row['length'], chain_dom=row['chain'], start_dom=row['start'], stop_dom=row['end'])\n",
    "    ah.get_alpha_helices()\n",
    "    ah.calculate_distr(column_name=\"Alpha_helix_distr\")\n",
    "    df_res = ah.struc_distr_df if i == 0 else pd.concat([df_res, ah.struc_distr_df])"
   ]
  },
  {
   "cell_type": "code",
   "execution_count": null,
   "id": "d556167b-cc1b-4bc5-9659-17a588fdacfb",
   "metadata": {
    "scrolled": true
   },
   "outputs": [],
   "source": [
    "df_res"
   ]
  },
  {
   "cell_type": "code",
   "execution_count": null,
   "id": "04fc358e-8d6e-48da-b9e2-d2185c577ae5",
   "metadata": {},
   "outputs": [],
   "source": [
    "df_res.to_excel(\"Result_new_ah.xlsx\") "
   ]
  },
  {
   "cell_type": "code",
   "execution_count": null,
   "id": "592d77da-94be-4038-884f-62289113a2de",
   "metadata": {},
   "outputs": [],
   "source": []
  },
  {
   "cell_type": "code",
   "execution_count": null,
   "id": "4170bc97-2592-4df5-a5f3-b72adba4f546",
   "metadata": {
    "scrolled": true
   },
   "outputs": [],
   "source": [
    "#310-helix processed\n",
    "for i, row in df_set.iterrows():\n",
    "    print(f'{row['PDBid']} {row['chain']}')\n",
    "    tth = ThreeTenHelix(PDBid=row['PDBid'], length_dom=row['length'], chain_dom=row['chain'], start_dom=row['start'], stop_dom=row['end'])\n",
    "    tth.get_threeten_helices()\n",
    "    tth.calculate_distr(column_name=\"Three_ten_helix_distr\")\n",
    "    df_res = tth.struc_distr_df if i == 0 else pd.concat([df_res, tth.struc_distr_df])"
   ]
  },
  {
   "cell_type": "code",
   "execution_count": null,
   "id": "ca65f7b3-0a74-4172-b611-39baa0833081",
   "metadata": {
    "scrolled": true
   },
   "outputs": [],
   "source": [
    "df_res"
   ]
  },
  {
   "cell_type": "code",
   "execution_count": null,
   "id": "be5cd726-4481-444f-b2b0-937cd5b5975c",
   "metadata": {},
   "outputs": [],
   "source": [
    "df_res.to_excel(\"Result_new_tth.xlsx\") "
   ]
  },
  {
   "cell_type": "code",
   "execution_count": null,
   "id": "5fbe7102-51f7-4f95-8ddf-b7225bb065a1",
   "metadata": {},
   "outputs": [],
   "source": []
  },
  {
   "cell_type": "code",
   "execution_count": null,
   "id": "f2d49851-8a24-4c88-b11a-3e777641634e",
   "metadata": {
    "scrolled": true
   },
   "outputs": [],
   "source": [
    "#beta-sheet processed\n",
    "for i, row in df_set.iterrows():\n",
    "    print(f'{row['PDBid']} {row['chain']}')\n",
    "    bs = BetaSheet(PDBid=row['PDBid'], length_dom=row['length'], chain_dom=row['chain'], start_dom=row['start'], stop_dom=row['end'])\n",
    "    bs.get_suitable_sheets()\n",
    "    bs.calculate_distr(column_name=\"Beta_sheet_distr\")\n",
    "    df_res = bs.struc_distr_df if i == 0 else pd.concat([df_res, bs.struc_distr_df])"
   ]
  },
  {
   "cell_type": "code",
   "execution_count": null,
   "id": "938be5fa-7fd5-4e78-b8e4-e848f6680f37",
   "metadata": {
    "scrolled": true
   },
   "outputs": [],
   "source": [
    "df_res"
   ]
  },
  {
   "cell_type": "code",
   "execution_count": null,
   "id": "d38d6899-46ef-4e31-8238-b6ed3626ff02",
   "metadata": {},
   "outputs": [],
   "source": [
    "df_res.to_excel(\"Result_new_ah.xlsx\") "
   ]
  },
  {
   "cell_type": "code",
   "execution_count": null,
   "id": "d8ded9a9-9dde-4478-ac09-4ad0c7ded14b",
   "metadata": {},
   "outputs": [],
   "source": []
  },
  {
   "cell_type": "code",
   "execution_count": null,
   "id": "99031ffd-c84e-44d5-bf53-6041fa47b723",
   "metadata": {},
   "outputs": [],
   "source": []
  },
  {
   "cell_type": "code",
   "execution_count": null,
   "id": "12f94827-8ee6-4cd2-8417-564a9e86c375",
   "metadata": {},
   "outputs": [],
   "source": []
  },
  {
   "cell_type": "code",
   "execution_count": null,
   "id": "cfa5ecf4-907f-4bc3-9885-54cbd05045c7",
   "metadata": {},
   "outputs": [],
   "source": []
  },
  {
   "cell_type": "code",
   "execution_count": null,
   "id": "15166b11-023a-4f78-966e-5af11a4c2532",
   "metadata": {},
   "outputs": [],
   "source": []
  },
  {
   "cell_type": "code",
   "execution_count": null,
   "id": "ef53b39c-5547-4084-9ae0-6367313f4b63",
   "metadata": {},
   "outputs": [],
   "source": []
  },
  {
   "cell_type": "code",
   "execution_count": null,
   "id": "1206073e-a374-4436-9686-b69c74515793",
   "metadata": {},
   "outputs": [],
   "source": [
    "import numpy as np\n",
    "import pandas as pd\n",
    "import biotite.structure.io.pdbx as pdbx\n",
    "import biotite.database.rcsb as rcsb"
   ]
  },
  {
   "cell_type": "code",
   "execution_count": null,
   "id": "34f5a6a7-caed-426b-93a8-2a761f356f68",
   "metadata": {},
   "outputs": [],
   "source": [
    "#TODO: check up the mode asserts?\n",
    "# is exist the path/file\n",
    "\n",
    "def read_prot_set(path: str, mode: str = 'xlsx'):\n",
    "    \"\"\"\n",
    "    Read protein set data from file through the path and return a pandas dataframe. The following data structure is required: PDBid, chain, start, end. Header is needed.\n",
    "    arguments:\n",
    "        - path (str): path to the file for reading\n",
    "        - mode (str): file format to read. Only xlsx, csv and tsv formats are allowed\n",
    "    return:\n",
    "        - prot_set_df (pandas.DataFrame): dataframe of the protein set\n",
    "    \"\"\"\n",
    "    print('----read_prot_set----')\n",
    "\n",
    "    match mode:\n",
    "        case 'xlsx':\n",
    "            prot_set_df = pd.read_excel(path)\n",
    "        case 'csv':\n",
    "            prot_set_df = pd.read_csv(path)\n",
    "        case 'tsv':\n",
    "            prot_set_df = pd.read_csv(path, sep='\\t')\n",
    "\n",
    "    prot_set_df['length'] = prot_set_df['end'] - prot_set_df['start'] + 1 #из calculate_length\n",
    "\n",
    "    return prot_set_df"
   ]
  },
  {
   "cell_type": "code",
   "execution_count": null,
   "id": "ab725f6b-b0ab-4bd2-b4ef-0ab107887e2a",
   "metadata": {},
   "outputs": [],
   "source": []
  },
  {
   "cell_type": "markdown",
   "id": "3a647a71-6708-4788-9500-a49a99ad238f",
   "metadata": {},
   "source": [
    "## calculate_distribution"
   ]
  },
  {
   "cell_type": "code",
   "execution_count": null,
   "id": "126cd7c8-61d8-405b-8d21-dfe4faf6eee2",
   "metadata": {},
   "outputs": [],
   "source": [
    "def calculate_distribution(structures_df, length_dom, start_dom, structure_obj):\n",
    "    '''создаёт список длиной скоkько а.о. и заполняет 1 там где есть структура \n",
    "    [Вход: датафрейм со спиралями structures_df, длина белка l, начало белка start_dom. \n",
    "    Вызывается в Alpha_helix ThreeTen_helix и Beta_sheets'''\n",
    "    print('-----calculate_distribution----')\n",
    "    \n",
    "    #Считываем нужные альфа-спирали в список \n",
    "    struc_distr = [0] * length_dom#список, где будем выставлять наличие альфа-спиралей\n",
    "    \n",
    "    #заполняем его (это тот, что в аминокислотных остатках)\n",
    "    for i in range(0, len(structures_df)):#\n",
    "        start = int(structures_df.iloc[i][\"start_str\"])\n",
    "        stop = int(structures_df.iloc[i][\"stop_str\"])\n",
    "        \n",
    "        #ставим относительно начала и конца домена с учётом, что в списке начало с 0, а не 1 и учёт домена\n",
    "        start = start - structure_obj.start_dom\n",
    "        stop = stop - structure_obj.start_dom\n",
    "        \n",
    "        #вносим в нашу цепь данные\n",
    "        for aa in range (start, stop+1):\n",
    "            struc_distr[aa] = 1\n",
    "    \n",
    "    struc_distr_scaled = scaler(struc_distr, length_dom)\n",
    "    \n",
    "    print('=================_______________=============')\n",
    "    print(f\"struc_distr = {struc_distr}\")\n",
    "    print()\n",
    "    print(f\"struc_distr_scaled = {struc_distr_scaled}\")\n",
    "    \n",
    "    return struc_distr_scaled"
   ]
  },
  {
   "cell_type": "code",
   "execution_count": null,
   "id": "6a66550a-a56d-4048-b006-6cad1a73fc8c",
   "metadata": {},
   "outputs": [],
   "source": []
  },
  {
   "cell_type": "markdown",
   "id": "e7828d6a-fe3e-44cf-9ceb-dfaf018a07d8",
   "metadata": {},
   "source": [
    "## scaler"
   ]
  },
  {
   "cell_type": "code",
   "execution_count": null,
   "id": "9de4f4a0-57ad-4a57-a909-72b659435b89",
   "metadata": {},
   "outputs": [],
   "source": [
    "def scaler(struc_distr, length_dom):\n",
    "    print('-----scaler----')\n",
    "    \n",
    "    #делаем список из 100 ячеек (наши координаты, т.е. %)\n",
    "    scaled_distr = [0] * 100\n",
    "    weight = length_dom / 100#Сколько приходится аминокислот на 1 ячейку\n",
    "    print(\"T=\", weight)\n",
    "    \n",
    "    if weight != 1:\n",
    "        k, t = 1, weight\n",
    "        i,j  = 1, 1\n",
    "        while i < length_dom and j < 100:\n",
    "            a = min(k, t)\n",
    "            scaled_distr[j] = round(scaled_distr[j] + a * struc_distr[i], 2)\n",
    "            k, t = round(k - a, 2), round(t - a, 2)\n",
    "            #print(\"a=\",a,\" значение[\",i,\"]=\", struc_distr[i],\" scaled_distr[\", j,\"]=\", scaled_distr[j], \" k=\",k,\" t=\",t, \" i=\", i, \" j=\",j)\n",
    "            \n",
    "            if k == 0:\n",
    "                i += 1\n",
    "                k = 1\n",
    "            if t == 0:\n",
    "                j = j + 1\n",
    "                t = weight\n",
    "            #print(\"k=\",k, \" t=\", t)\n",
    "        scaled_distr = [round(x / weight, 2) for x in scaled_distr]\n",
    "    \n",
    "    else:#if weight == 1:\n",
    "        scaled_distr = struc_distr#просто копируем\n",
    "\n",
    "    return scaled_distr\n"
   ]
  },
  {
   "cell_type": "code",
   "execution_count": null,
   "id": "5d649bd0-7fec-4b5e-abfc-e1f8ff7f0600",
   "metadata": {},
   "outputs": [],
   "source": []
  },
  {
   "cell_type": "code",
   "execution_count": null,
   "id": "d1053536-d2a2-4dc1-a984-593d95105f5a",
   "metadata": {},
   "outputs": [],
   "source": []
  },
  {
   "cell_type": "markdown",
   "id": "4f513bd9-382c-4419-9bc2-9ce16ce60c5b",
   "metadata": {},
   "source": [
    "## Alpha_helix | ThreeTen_helix | Beta_sheet | \n",
    "Irregular --> OOP"
   ]
  },
  {
   "cell_type": "code",
   "execution_count": null,
   "id": "fd2fc7ae-79ea-49f4-99fd-ed2e6940536c",
   "metadata": {},
   "outputs": [],
   "source": [
    "#let it be node for which structure schould be processed \n",
    "#let it be mode for separate or full result for each type of secondary structure (but if full then join it on the last step)\n",
    "\n",
    "#TO DO: загрузочная линия\n",
    "#TO DO: проблемные структуры в отдельный файл и выводить сколько структур было отработано чисто"
   ]
  },
  {
   "cell_type": "code",
   "execution_count": null,
   "id": "2a326ce3-6028-4e62-9492-4f6f3b397263",
   "metadata": {},
   "outputs": [],
   "source": []
  },
  {
   "cell_type": "markdown",
   "id": "84cb1f4c-ca62-49c4-a3ad-099f8029f49a",
   "metadata": {},
   "source": [
    "## Domain"
   ]
  },
  {
   "cell_type": "code",
   "execution_count": null,
   "id": "727b1df5-1cc4-478e-9f3f-7b1a683fac9b",
   "metadata": {},
   "outputs": [],
   "source": [
    "class Domain():#вообше это не домен, если мы пихаем фулл инфу о подборке\n",
    "    '''Class for storing information about whole protein'''\n",
    "    def __init__(self, PDBid, length_dom, chain_dom, start_dom, stop_dom):# НАКИНУТЬ self.prot_set_df self.struc_distr_df\n",
    "        print('------Domain------')\n",
    "        #print(\"Данные: \", PDBid, length_dom, chain_dom, start_dom, stop_dom)\n",
    "        \n",
    "        self.PDBid = PDBid\n",
    "        self.length_dom = length_dom\n",
    "        self.chain_dom = chain_dom\n",
    "        self.start_dom = start_dom\n",
    "        self.stop_dom = stop_dom\n",
    "        \n",
    "        self.struc_distr_df = pd.DataFrame({'PDBid': [self.PDBid], 'chain': [self.chain_dom], \n",
    "                                                                          'start': [start_dom], 'end': [self.stop_dom], \n",
    "                                                                          'length': [self.length_dom]})\n",
    "\n",
    "        #display(self.struc_distr_df)\n",
    "        \n",
    "        self.pdbx_file = pdbx.PDBxFile.read(rcsb.fetch(self.PDBid, \"pdbx\"))\n",
    "\n",
    "    def get_suitable_structures(self):\n",
    "        print('--------Domain.get_suitable_structures()--------')\n",
    "        self.structures_df = self.structures_df[self.structures_df.chain_str == self.chain_dom]#цепь нужная по Podborka\n",
    "        self.structures_df = self.structures_df[self.structures_df.start_str >= self.start_dom] #входит в домен\n",
    "        self.structures_df = self.structures_df[self.structures_df.stop_str <= self.stop_dom] #входит в домен\n",
    "        self.structures_df.index = np.arange(len(self.structures_df))#обновляем индексы (чтобы стали от 0 до ..., а не как были в structures_df до того как удалим ненужные нам цепи)\n",
    "        print('self.structures_df')\n",
    "        display(self.structures_df)\n",
    "\n",
    "    def calculate_distr(self, column_name):\n",
    "        print('--------.calculate_distr()--------')\n",
    "        if self.structures_df.empty:\n",
    "            #print(\"В белке \", self.PDBid, \"альфа-спиралей не обнаружено\")\n",
    "            Res=[0]*100\n",
    "            vse100 = (\";\".join(map(str,Res)))\n",
    "            self.struc_distr_df.loc[len(self.struc_distr_df) - 1, column_name] = vse100\n",
    "            #print(\"self.struc_distr_df\", self.struc_distr_df)\n",
    "        else:\n",
    "            #тут основной расчёт\n",
    "            Res=[]\n",
    "            #print(f'Before calculate_distribution: {self.length_dom} {self.start_dom}')\n",
    "            display(self.structures_df)\n",
    "            Res=calculate_distribution(self.structures_df, self.length_dom, self.start_dom, self)#Получаем 100% данные структур\n",
    "            #print(\"Res\", Res)\n",
    "            vse100 = (\";\".join(map(str,Res)))\n",
    "            self.struc_distr_df.loc[len(self.struc_distr_df) - 1, column_name] = vse100\n",
    "        #print(\"self.struc_distr_df\", self.struc_distr_df)\n",
    "    #else:\n",
    "        #print(\"Какие-то проблемы с id_str\")\n",
    "    #else:\n",
    "        #print(\"В белке \", PDBid, \"альфа-спиралей не обнаружено\")\n",
    "    #self.struc_distr_df.loc[i, \"Count_AlphaH\"] = 0\n",
    "    #Res=[0]*100\n",
    "    #vse100 = (\";\".join(map(str,Res)))\n",
    "    #self.struc_distr_df.loc[i, \"Alpha_helix_distr\"] = vse100\n",
    "        print('self.struc_distr_df.head(3)')\n",
    "        display(self.struc_distr_df.head(3))\n",
    "        return self.struc_distr_df#.reset_index()"
   ]
  },
  {
   "cell_type": "code",
   "execution_count": null,
   "id": "b0f7eab6-fdd8-44b8-8d1f-4bf33b41adad",
   "metadata": {},
   "outputs": [],
   "source": []
  },
  {
   "cell_type": "markdown",
   "id": "6ca9b2b0-16fe-42cb-bd19-005c5983f2e4",
   "metadata": {},
   "source": [
    "## SecondaryStructure"
   ]
  },
  {
   "cell_type": "code",
   "execution_count": null,
   "id": "3a28e823-1fbd-439c-bc37-79b63e0d3505",
   "metadata": {},
   "outputs": [],
   "source": [
    "from dataclasses import dataclass"
   ]
  },
  {
   "cell_type": "code",
   "execution_count": null,
   "id": "99b14976-c309-4e3d-ba9c-d07405a782ae",
   "metadata": {},
   "outputs": [],
   "source": [
    "@dataclass\n",
    "class SecondaryStructure():\n",
    "    print('-----SecondaryStructure-----')\n",
    "    id_str: list\n",
    "    start_str: list\n",
    "    stop_str: list\n",
    "    class_str: list\n",
    "    length_str: list\n",
    "    chain_str: list"
   ]
  },
  {
   "cell_type": "code",
   "execution_count": null,
   "id": "31130dfc-beb4-4bbe-bd9c-f6d1c431d41e",
   "metadata": {},
   "outputs": [],
   "source": []
  },
  {
   "cell_type": "markdown",
   "id": "94f1133c-59b5-4c76-a85d-8d5d6eaae988",
   "metadata": {},
   "source": [
    "## Helix"
   ]
  },
  {
   "cell_type": "code",
   "execution_count": null,
   "id": "6c261053-924d-4be3-8d72-6edf47bf41b9",
   "metadata": {},
   "outputs": [],
   "source": [
    "class Helix(Domain):\n",
    "    '''Class for storage helices' information'''\n",
    "    def __init__(self, PDBid, length_dom, chain_dom, start_dom, stop_dom):\n",
    "        print('------Helix------')\n",
    "        super().__init__(PDBid=PDBid, length_dom=length_dom, chain_dom=chain_dom, start_dom=start_dom, stop_dom=stop_dom)\n",
    "\n",
    "        self.secondary_structure_obj = SecondaryStructure(id_str=self.pdbx_file [self.PDBid, \"struct_conf\"][\"pdbx_PDB_helix_id\"],\n",
    "                                                          start_str = self.pdbx_file[self.PDBid, \"struct_conf\"][\"beg_label_seq_id\"],\n",
    "                                                          stop_str = self.pdbx_file [self.PDBid, \"struct_conf\"][\"end_label_seq_id\"],\n",
    "                                                          class_str = self.pdbx_file [self.PDBid, \"struct_conf\"][\"pdbx_PDB_helix_class\"],\n",
    "                                                          length_str = self.pdbx_file [self.PDBid, \"struct_conf\"][\"pdbx_PDB_helix_length\"],\n",
    "                                                          chain_str = self.pdbx_file [self.PDBid, \"struct_conf\"][\"beg_auth_asym_id\"])\n",
    "\n",
    "\n",
    "        self.secondary_structure_obj.start_str = np.array([int(self.secondary_structure_obj.start_str)] if isinstance(self.secondary_structure_obj.start_str, str) else [int(t) for t in self.secondary_structure_obj.start_str])\n",
    "        self.secondary_structure_obj.stop_str = np.array([int(self.secondary_structure_obj.stop_str)] if isinstance(self.secondary_structure_obj.stop_str, str) else [int(t) for t in self.secondary_structure_obj.stop_str])   \n",
    "    \n",
    "        self.structures_df = pd.DataFrame({'id_str' : self.secondary_structure_obj.id_str,\n",
    "                                           'start_str' : self.secondary_structure_obj.start_str, \n",
    "                                           'stop_str': self.secondary_structure_obj.stop_str, \n",
    "                                           'class_str': self.secondary_structure_obj.class_str,\n",
    "                                           'length_str': self.secondary_structure_obj.length_str, \n",
    "                                           'chain_str': self.secondary_structure_obj.chain_str})\n",
    "        print('structures_df\\n')\n",
    "        display(self.structures_df)\n",
    "\n",
    "    def get_suitable_helices(self, class_str = '1'):\n",
    "        print('--------Helix.get_suitable_helices()--------')\n",
    "        self.get_suitable_structures()\n",
    "        self.structures_df = self.structures_df[self.structures_df.class_str == str(class_str)]#тип спирали == альфа 1 310 5\n",
    "        print('self.structures_df')\n",
    "        display(self.structures_df)"
   ]
  },
  {
   "cell_type": "code",
   "execution_count": null,
   "id": "8bf22f1a-f336-4c79-acaf-c619cea1fd7b",
   "metadata": {},
   "outputs": [],
   "source": []
  },
  {
   "cell_type": "markdown",
   "id": "3b9528ab-ddb6-4cfe-8d94-fe91fb0b5def",
   "metadata": {},
   "source": [
    "## Alpha-helix"
   ]
  },
  {
   "cell_type": "code",
   "execution_count": null,
   "id": "3156cc15-03e3-4956-9abf-646c35c655b0",
   "metadata": {},
   "outputs": [],
   "source": [
    "class AlphaHelix(Helix):\n",
    "    def __init__(self, PDBid, length_dom, chain_dom, start_dom, stop_dom):\n",
    "        super().__init__(PDBid=PDBid, length_dom=length_dom, chain_dom=chain_dom, start_dom=start_dom, stop_dom=stop_dom)\n",
    "        \n",
    "    #НУЖНО ЭТО ВСУНУТЬ В ПРОСТО ХЕЛИКС, А ПОДАВАТЬ КЛАСС СООТВЕТСТВУЮЩИЙ И ФИЛЬТРОВАТЬ ЧЕРЕЗ НЕГО\n",
    "    def get_alpha_helices(self):\n",
    "        print('--------AlphaHelix.get_alpha_helices()--------')\n",
    "        self.get_suitable_helices(\"1\")\n",
    "        \n",
    "        print('self.structures_df')\n",
    "        display(self.structures_df)"
   ]
  },
  {
   "cell_type": "code",
   "execution_count": null,
   "id": "4f285f69-8200-47c1-a1ba-5592922b8a79",
   "metadata": {},
   "outputs": [],
   "source": []
  },
  {
   "cell_type": "markdown",
   "id": "d4ab1537-1a80-4487-a56f-b2757dbfaec8",
   "metadata": {},
   "source": [
    "## 310-helix"
   ]
  },
  {
   "cell_type": "code",
   "execution_count": null,
   "id": "02cd921e-7fcd-46bf-abad-52b7d3a10777",
   "metadata": {},
   "outputs": [],
   "source": [
    "class ThreeTenHelix(Helix):\n",
    "    def __init__(self, PDBid, length_dom, chain_dom, start_dom, stop_dom):\n",
    "        super().__init__(PDBid=PDBid, length_dom=length_dom, chain_dom=chain_dom, start_dom=start_dom, stop_dom=stop_dom)\n",
    "        \n",
    "\n",
    "    def get_threeten_helices(self):\n",
    "        print('--------ThreeTenHelix.get_threeten_helices()--------')\n",
    "        self.get_suitable_helices(\"5\")\n",
    "        \n",
    "        print('self.structures_df')\n",
    "        display(self.structures_df)"
   ]
  },
  {
   "cell_type": "code",
   "execution_count": null,
   "id": "495a36d9-3079-4a9f-b188-433b7ab2f726",
   "metadata": {},
   "outputs": [],
   "source": []
  },
  {
   "cell_type": "code",
   "execution_count": null,
   "id": "4e726c84-f034-4166-bc7d-494aab52cc3c",
   "metadata": {},
   "outputs": [],
   "source": []
  },
  {
   "cell_type": "markdown",
   "id": "5c9f2d92-3469-4424-9e32-ca5ca8b193c6",
   "metadata": {},
   "source": [
    "## Sheets"
   ]
  },
  {
   "cell_type": "code",
   "execution_count": null,
   "id": "5cd8c80a-bac0-4c11-bb73-5941b5b1620e",
   "metadata": {},
   "outputs": [],
   "source": [
    "class Sheet(Domain):\n",
    "    '''Class for storage helices' information'''\n",
    "    def __init__(self, PDBid, length_dom, chain_dom, start_dom, stop_dom):\n",
    "        print('------Helix------')\n",
    "        super().__init__(PDBid=PDBid, length_dom=length_dom, chain_dom=chain_dom, start_dom=start_dom, stop_dom=stop_dom)\n",
    "\n",
    "        self.secondary_structure_obj = SecondaryStructure(id_str=self.pdbx_file[self.PDBid, \"struct_sheet_range\"][\"sheet_id\"],\n",
    "                                                          start_str = self.pdbx_file[self.PDBid, \"struct_sheet_range\"][\"beg_label_seq_id\"],\n",
    "                                                          stop_str = self.pdbx_file [self.PDBid, \"struct_sheet_range\"][\"end_label_seq_id\"],\n",
    "                                                          class_str = None,\n",
    "                                                          length_str = None,\n",
    "                                                          chain_str = self.pdbx_file [self.PDBid, \"struct_sheet_range\"][\"beg_auth_asym_id\"])\n",
    "        \n",
    "\n",
    "        self.secondary_structure_obj.start_str = np.array([int(self.secondary_structure_obj.start_str)] if isinstance(self.secondary_structure_obj.start_str, str) else [int(t) for t in self.secondary_structure_obj.start_str])\n",
    "        self.secondary_structure_obj.stop_str = np.array([int(self.secondary_structure_obj.stop_str)] if isinstance(self.secondary_structure_obj.stop_str, str) else [int(t) for t in self.secondary_structure_obj.stop_str])   \n",
    "    \n",
    "        self.structures_df = pd.DataFrame({'id_str' : self.secondary_structure_obj.id_str,\n",
    "                                           'start_str' : self.secondary_structure_obj.start_str, \n",
    "                                           'stop_str': self.secondary_structure_obj.stop_str, \n",
    "                                           'chain_str': self.secondary_structure_obj.chain_str})\n",
    "\n",
    "        print('structures_df\\n')\n",
    "        display(self.structures_df)\n",
    "\n",
    "    def get_suitable_sheets(self):\n",
    "        print('--------Helix.get_suitable_helices()--------')\n",
    "        self.get_suitable_structures()\n",
    "        print('self.structures_df')\n",
    "        display(self.structures_df)"
   ]
  },
  {
   "cell_type": "code",
   "execution_count": null,
   "id": "d93b8508-72bc-4283-a980-ab360ffdd20f",
   "metadata": {},
   "outputs": [],
   "source": []
  },
  {
   "cell_type": "code",
   "execution_count": null,
   "id": "59fb1e7a-7148-4ad9-9a0a-fa2b1ecd9189",
   "metadata": {},
   "outputs": [],
   "source": []
  },
  {
   "cell_type": "markdown",
   "id": "8c0f1a23-a81a-40d7-b78b-039d71df0582",
   "metadata": {},
   "source": [
    "## BetaSheet"
   ]
  },
  {
   "cell_type": "code",
   "execution_count": null,
   "id": "71efd11a-78f1-423c-999c-4284b7b898b3",
   "metadata": {},
   "outputs": [],
   "source": [
    "class BetaSheet(Sheet):\n",
    "    '''Class for storage beta sheets' information'''\n",
    "    def __init__(self, PDBid, length_dom, chain_dom, start_dom, stop_dom):\n",
    "        print('------BetaSheet------')\n",
    "        super().__init__(PDBid=PDBid, length_dom=length_dom, chain_dom=chain_dom, start_dom=start_dom, stop_dom=stop_dom)"
   ]
  },
  {
   "cell_type": "code",
   "execution_count": null,
   "id": "d2a115cf-d6dc-493c-8eff-1f292a7a2e2e",
   "metadata": {},
   "outputs": [],
   "source": []
  },
  {
   "cell_type": "code",
   "execution_count": null,
   "id": "efb9adf2-34af-4104-8799-e51677a235bc",
   "metadata": {},
   "outputs": [],
   "source": []
  },
  {
   "cell_type": "code",
   "execution_count": null,
   "id": "1528415c-3340-44ea-841d-cf727d65893e",
   "metadata": {},
   "outputs": [],
   "source": []
  },
  {
   "cell_type": "markdown",
   "id": "2f48dd3a-8a6c-4faa-95e4-81a3fd73205a",
   "metadata": {},
   "source": [
    "## IrregularStructure"
   ]
  },
  {
   "cell_type": "code",
   "execution_count": null,
   "id": "0e636e40-e607-4a43-8746-f3a00feb2d61",
   "metadata": {},
   "outputs": [],
   "source": [
    "class IrregularStructure(Domain):\n",
    "    print('------IrregularStructure-----')\n",
    "    def __init__(self, ah_df_res, tth_df_res, bs_df_res):\n",
    "        self.ah_df_res = ah_df_res\n",
    "        self.tth_df_res = tth_df_res\n",
    "        self.bs_df_res = bs_df_res\n",
    "        self.total_df_res = ah_df_res.copy()\n",
    "        self.total_df_res.drop('Alpha_helix_distr', axis= 1 , inplace= True ) \n",
    "\n",
    "\n",
    "    def calculate_irregular_distr(self):\n",
    "        print('------IrregularStructure.calculate_irregular_distr-----')\n",
    "        #for i, row in ah_df_res.iterrows():\n",
    "        for i in range(len(ah_df_res)):\n",
    "            list_alpha = self.ah_df_res.iloc[i, -1].split(\";\")#делаем список с данными об альфа\n",
    "            list_beta = self.bs_df_res.iloc[i, -1].split(\";\")#делаем список с данными о бета-листах\n",
    "            list_threeten = self.tth_df_res.iloc[i, -1].split(\";\")#делаем список с данными о 310-спиралях\n",
    "    \n",
    "            proba = [0]*100#пустой для наших нерегулярных структур        \n",
    "            for index in range(len(proba)):\n",
    "                #print(\"index=\", index, \", list_alpha[index]=\", list_alpha[index])\n",
    "                #print(type(l),\"   \", type(float(list_alpha[index])))\n",
    "                proba[index]=1-float(list_alpha[index])-float(list_beta[index])-float(list_threeten[index])\n",
    "                proba[index] = round(proba[index], 2)\n",
    "                #if proba[index] < 0:\n",
    "                    #print(\"значение в нерегулярных стурктурах <0!\")\n",
    "                    #print(PDBid, \"index=\", index, \"proba=\", proba)\n",
    "                vse100 = (\";\".join(map(str,proba)))\n",
    "                self.total_df_res.loc[i, \"Irregular\"] = vse100 \n",
    "        return self.total_df_res\n",
    "    "
   ]
  },
  {
   "cell_type": "code",
   "execution_count": null,
   "id": "52cb91e4-5478-4cde-83d6-d823e399e5ae",
   "metadata": {},
   "outputs": [],
   "source": []
  },
  {
   "cell_type": "code",
   "execution_count": null,
   "id": "ea91a4a7-7df7-4ee3-8a1c-4413cfc41350",
   "metadata": {},
   "outputs": [],
   "source": []
  },
  {
   "cell_type": "code",
   "execution_count": null,
   "id": "d256f803-734a-4118-9784-68ce88fa3a1e",
   "metadata": {},
   "outputs": [],
   "source": []
  },
  {
   "cell_type": "code",
   "execution_count": null,
   "id": "fe0284d7-749f-47df-ae49-25c5cb456e7d",
   "metadata": {},
   "outputs": [],
   "source": []
  },
  {
   "cell_type": "code",
   "execution_count": null,
   "id": "17c9e2b6-7144-4de5-a0a9-fe0a634e0795",
   "metadata": {},
   "outputs": [],
   "source": []
  },
  {
   "cell_type": "code",
   "execution_count": null,
   "id": "bb507f83-96d0-4b14-b33a-50b6826f4065",
   "metadata": {},
   "outputs": [],
   "source": []
  },
  {
   "cell_type": "code",
   "execution_count": null,
   "id": "6b86202b-a194-43f2-9ea6-46883a7e2581",
   "metadata": {},
   "outputs": [],
   "source": []
  },
  {
   "cell_type": "code",
   "execution_count": null,
   "id": "e7a7ceb5-4c2f-4e46-b7e7-a6e9896ea297",
   "metadata": {},
   "outputs": [],
   "source": [
    "#read protein set\n",
    "df_set = read_prot_set('example.xlsx')#изменить на функцию!\n",
    "df_set"
   ]
  },
  {
   "cell_type": "code",
   "execution_count": null,
   "id": "8c0e1dd4-d8d2-45cb-b25b-12e664133085",
   "metadata": {},
   "outputs": [],
   "source": []
  },
  {
   "cell_type": "code",
   "execution_count": null,
   "id": "2e95b511-ad51-49b9-b14b-8991812aed83",
   "metadata": {
    "scrolled": true
   },
   "outputs": [],
   "source": [
    "#alpha-helix processed\n",
    "for i, row in df_set.iterrows():\n",
    "    print(f'{row['PDBid']} {row['chain']}')\n",
    "    ah = AlphaHelix(PDBid=row['PDBid'], length_dom=row['length'], chain_dom=row['chain'], start_dom=row['start'], stop_dom=row['end'])\n",
    "    ah.get_alpha_helices()\n",
    "    ah.calculate_distr(column_name=\"Alpha_helix_distr\")\n",
    "    ah_df_res = ah.struc_distr_df if i == 0 else pd.concat([ah_df_res, ah.struc_distr_df])\n",
    "ah_df_res = ah_df_res.reset_index(drop=True)"
   ]
  },
  {
   "cell_type": "code",
   "execution_count": null,
   "id": "d609c99d-9efa-46cf-bf28-894c5ca7c381",
   "metadata": {
    "scrolled": true
   },
   "outputs": [],
   "source": [
    "ah_df_res"
   ]
  },
  {
   "cell_type": "code",
   "execution_count": null,
   "id": "5e893ceb-2a36-403e-bdd3-d0b763aef020",
   "metadata": {},
   "outputs": [],
   "source": [
    "ah_df_res.to_excel(\"Result_new_ah.xlsx\") "
   ]
  },
  {
   "cell_type": "code",
   "execution_count": null,
   "id": "19b446c8-4ee7-4b39-a07f-5058ee81a9c9",
   "metadata": {},
   "outputs": [],
   "source": []
  },
  {
   "cell_type": "code",
   "execution_count": null,
   "id": "244f3a83-8748-4686-be96-0595cc5d55d3",
   "metadata": {
    "scrolled": true
   },
   "outputs": [],
   "source": [
    "#310-helix processed\n",
    "for i, row in df_set.iterrows():\n",
    "    print(f'{row['PDBid']} {row['chain']}')\n",
    "    tth = ThreeTenHelix(PDBid=row['PDBid'], length_dom=row['length'], chain_dom=row['chain'], start_dom=row['start'], stop_dom=row['end'])\n",
    "    tth.get_threeten_helices()\n",
    "    tth.calculate_distr(column_name=\"Three_ten_helix_distr\")\n",
    "    tth_df_res = tth.struc_distr_df if i == 0 else pd.concat([tth_df_res, tth.struc_distr_df])\n",
    "tth_df_res = tth_df_res.reset_index(drop=True)"
   ]
  },
  {
   "cell_type": "code",
   "execution_count": null,
   "id": "5ca9b6c1-0a49-415d-bdd5-253c81ec9bf7",
   "metadata": {
    "scrolled": true
   },
   "outputs": [],
   "source": [
    "tth_df_res"
   ]
  },
  {
   "cell_type": "code",
   "execution_count": null,
   "id": "56979f9b-17a5-4cf9-ad85-1b9beb9d82c3",
   "metadata": {},
   "outputs": [],
   "source": [
    "tth_df_res.to_excel(\"Result_new_tth.xlsx\") "
   ]
  },
  {
   "cell_type": "code",
   "execution_count": null,
   "id": "a702e992-833b-4f18-b678-bea4fddd74d0",
   "metadata": {},
   "outputs": [],
   "source": []
  },
  {
   "cell_type": "code",
   "execution_count": null,
   "id": "b64d78b7-17fa-4d3e-892d-638c5184b29e",
   "metadata": {
    "scrolled": true
   },
   "outputs": [],
   "source": [
    "#beta-sheet processed\n",
    "for i, row in df_set.iterrows():\n",
    "    print(f'{row['PDBid']} {row['chain']}')\n",
    "    bs = BetaSheet(PDBid=row['PDBid'], length_dom=row['length'], chain_dom=row['chain'], start_dom=row['start'], stop_dom=row['end'])\n",
    "    bs.get_suitable_sheets()\n",
    "    bs.calculate_distr(column_name=\"Beta_sheet_distr\")\n",
    "    bs_df_res = bs.struc_distr_df if i == 0 else pd.concat([bs_df_res, bs.struc_distr_df])\n",
    "bs_df_res = bs_df_res.reset_index(drop=True)"
   ]
  },
  {
   "cell_type": "code",
   "execution_count": null,
   "id": "881cbf27-c758-4755-a0a4-175c54edc2eb",
   "metadata": {
    "scrolled": true
   },
   "outputs": [],
   "source": [
    "bs_df_res"
   ]
  },
  {
   "cell_type": "code",
   "execution_count": null,
   "id": "2a6e6ae7-439a-44c6-8cb7-7beccf6ea02f",
   "metadata": {},
   "outputs": [],
   "source": [
    "bs_df_res.to_excel(\"Result_new_bs.xlsx\") "
   ]
  },
  {
   "cell_type": "code",
   "execution_count": null,
   "id": "2f9f08ec-d5d6-4d03-a2de-30925f297db6",
   "metadata": {},
   "outputs": [],
   "source": []
  },
  {
   "cell_type": "code",
   "execution_count": null,
   "id": "9cb6b642-97a0-4c40-bfd3-517098ab5c48",
   "metadata": {},
   "outputs": [],
   "source": [
    "iss=IrregularStructure(ah_df_res, tth_df_res, bs_df_res)\n",
    "iss_df_res = iss.calculate_irregular_distr()"
   ]
  },
  {
   "cell_type": "code",
   "execution_count": null,
   "id": "051d012a-41e6-401a-b57f-e2f334d2bb54",
   "metadata": {},
   "outputs": [],
   "source": [
    "iss_df_res"
   ]
  },
  {
   "cell_type": "code",
   "execution_count": null,
   "id": "43d862c7-4f9a-4e79-82e8-e0a414aeb644",
   "metadata": {},
   "outputs": [],
   "source": [
    "iss_df_res.to_excel(\"Result_new_iss.xlsx\") "
   ]
  },
  {
   "cell_type": "code",
   "execution_count": null,
   "id": "f9c21d38-2ec5-4879-a077-a6a4a2282b5a",
   "metadata": {},
   "outputs": [],
   "source": []
  },
  {
   "cell_type": "code",
   "execution_count": null,
   "id": "827b1787-c925-4c17-9afb-a23975539963",
   "metadata": {},
   "outputs": [],
   "source": []
  },
  {
   "cell_type": "code",
   "execution_count": null,
   "id": "c0fe3fc1-6858-41ff-a3ab-8bfdde02afe1",
   "metadata": {},
   "outputs": [],
   "source": []
  },
  {
   "cell_type": "code",
   "execution_count": null,
   "id": "c0410a60-7e1c-423f-aceb-e77b98595538",
   "metadata": {},
   "outputs": [],
   "source": []
  },
  {
   "cell_type": "code",
   "execution_count": null,
   "id": "1efe787b-3dec-4a15-9004-6cebe66e4352",
   "metadata": {},
   "outputs": [],
   "source": []
  },
  {
   "cell_type": "code",
   "execution_count": null,
   "id": "a64b8d62-61c2-45db-b68e-600ed55d6a5c",
   "metadata": {},
   "outputs": [],
   "source": [
    "import numpy as np\n",
    "import pandas as pd\n",
    "from dataclasses import dataclass\n",
    "import biotite.structure.io.pdbx as pdbx\n",
    "import biotite.database.rcsb as rcsb"
   ]
  },
  {
   "cell_type": "code",
   "execution_count": null,
   "id": "0408801a-8f30-4ed6-b3ab-0d558fa98900",
   "metadata": {},
   "outputs": [],
   "source": []
  },
  {
   "cell_type": "markdown",
   "id": "4408a4ec-a10e-4d14-8fba-bb2a88fcbb05",
   "metadata": {},
   "source": [
    "## read_prot_set"
   ]
  },
  {
   "cell_type": "code",
   "execution_count": null,
   "id": "04f5f40b-3d73-4df7-838d-a98698bd2afa",
   "metadata": {},
   "outputs": [],
   "source": [
    "def read_prot_set(path: str, mode: str = 'xlsx'):\n",
    "    \"\"\"\n",
    "    Read protein set data from file through. \n",
    "    The following data-file structure is required: PDBid, chain, start, end. Header is needed.\n",
    "    arguments:\n",
    "        - path (str): path to the file for reading\n",
    "        - mode (str): file format to read. Only xlsx, csv and tsv formats are allowed\n",
    "    return:\n",
    "        - prot_set_df (pandas.DataFrame): dataframe of the protein set\n",
    "    \"\"\"\n",
    "    \n",
    "    match mode:\n",
    "        case 'xlsx':\n",
    "            prot_set_df = pd.read_excel(path)\n",
    "        case 'csv':\n",
    "            prot_set_df = pd.read_csv(path)\n",
    "        case 'tsv':\n",
    "            prot_set_df = pd.read_csv(path, sep='\\t')\n",
    "\n",
    "    prot_set_df['length'] = prot_set_df['end'] - prot_set_df['start'] + 1\n",
    "\n",
    "    return prot_set_df"
   ]
  },
  {
   "cell_type": "code",
   "execution_count": null,
   "id": "2d3748d0-016c-40dd-8e2d-9bd6291acd6c",
   "metadata": {},
   "outputs": [],
   "source": []
  },
  {
   "cell_type": "markdown",
   "id": "8928598c-af31-43a1-98dd-aa99a54c2825",
   "metadata": {},
   "source": [
    "## calculate_distribution"
   ]
  },
  {
   "cell_type": "code",
   "execution_count": null,
   "id": "9aad359a-b8eb-436c-986f-b43312a0bfb1",
   "metadata": {},
   "outputs": [],
   "source": [
    "def calculate_distribution(structures_df, length_dom: int, start_dom: int, structure_obj) -> list:\n",
    "    \"\"\"\n",
    "    Calculates the distribution of a specific type of secondary structure.\n",
    "    arguments:\n",
    "        - structures_df (pd.DataFrame): dataframe with suitable secondary structure\n",
    "        - length_dom (int): length of the domain chain\n",
    "        - start_dom (int): first amino acid in polypeptide chain\n",
    "        - structure_obj (Domain): object of the Domain class\n",
    "    return:\n",
    "        - struc_distr_scaled (list): secondary structure distribution (scaled)\n",
    "    \"\"\"\n",
    "     \n",
    "    struc_distr = [0] * length_dom\n",
    "    \n",
    "    for i in range(0, len(structures_df)):\n",
    "        start = int(structures_df.iloc[i]['start_str']) - structure_obj.start_dom\n",
    "        stop = int(structures_df.iloc[i]['stop_str']) - structure_obj.start_dom\n",
    "        \n",
    "        for aa in range (start, stop + 1):\n",
    "            struc_distr[aa] = 1\n",
    "    \n",
    "    struc_distr_scaled = scale(struc_distr, length_dom)\n",
    "    \n",
    "    return struc_distr_scaled"
   ]
  },
  {
   "cell_type": "code",
   "execution_count": null,
   "id": "af5443e2-aa7f-48a6-98a3-e24122f3eace",
   "metadata": {},
   "outputs": [],
   "source": []
  },
  {
   "cell_type": "markdown",
   "id": "32273678-260e-4c0a-bd89-946a5be4e910",
   "metadata": {},
   "source": [
    "## scale"
   ]
  },
  {
   "cell_type": "code",
   "execution_count": null,
   "id": "7150faae-f8da-4bdc-8566-4382a8dda6de",
   "metadata": {},
   "outputs": [],
   "source": [
    "def scale(struc_distr: list, length_dom: int) -> list:\n",
    "    \"\"\"\n",
    "    Scale the distribution of a specific type of secondary structure to 100 units.\n",
    "    arguments:\n",
    "        - struc_distr (list): domain-long distribution of the secondary structure\n",
    "        - length_dom (int): length of the domain\n",
    "    return:\n",
    "        - scaled_distr: scaled distribution of a specific type of secondary structure\n",
    "    \"\"\"\n",
    "    \n",
    "    scaled_distr = [0] * 100\n",
    "    weight = length_dom / 100\n",
    "    \n",
    "    if weight != 1:\n",
    "        k, t = 1, weight\n",
    "        i,j  = 1, 1\n",
    "        while i < length_dom and j < 100:\n",
    "            a = min(k, t)\n",
    "            scaled_distr[j] = round(scaled_distr[j] + a * struc_distr[i], 2)\n",
    "            k, t = round(k - a, 2), round(t - a, 2)\n",
    "            if k == 0:\n",
    "                i += 1\n",
    "                k = 1\n",
    "            if t == 0:\n",
    "                j = j + 1\n",
    "                t = weight\n",
    "        scaled_distr = [round(x / weight, 2) for x in scaled_distr]\n",
    "    else:\n",
    "        scaled_distr = struc_distr\n",
    "    \n",
    "    return scaled_distr"
   ]
  },
  {
   "cell_type": "code",
   "execution_count": null,
   "id": "165af510-0487-4d64-aea1-9e891c1a6d66",
   "metadata": {},
   "outputs": [],
   "source": []
  },
  {
   "cell_type": "markdown",
   "id": "18985756-a050-4cb1-89dd-476b3f651b6d",
   "metadata": {},
   "source": [
    "## Domain"
   ]
  },
  {
   "cell_type": "code",
   "execution_count": null,
   "id": "4e6733fe-bf2c-4cdf-9c44-0f2e36aa74db",
   "metadata": {},
   "outputs": [],
   "source": [
    "class Domain():\n",
    "    \"\"\"\n",
    "    A class for whole domain data and processing\n",
    "    \n",
    "    Attributes\n",
    "    ----------\n",
    "    PDBid : str\n",
    "        identification number of PDB-structure\n",
    "    length_dom : int\n",
    "        length of the domain in amino acids\n",
    "    chain_dom : str\n",
    "        chain of the domain in PDB structure\n",
    "    start_dom : int\n",
    "        first amino acid in domain\n",
    "    stop_dom : int\n",
    "        last amino acid in domain\n",
    "    struc_distr_df : pd.DataFrame\n",
    "        data about specific type of secondary structure\n",
    "    pdbx_file : biotite.structure.io.pdbx.PDBxFile\n",
    "        pdbx-file of the PDB-structure\n",
    "\n",
    "    Methods\n",
    "    -------\n",
    "    get_suitable_structures():\n",
    "        filter structures for the domain\n",
    "    calculate_distr(column_name: str):\n",
    "        calculate the distribution of a specific type of secondary structure in the domain\n",
    "    \"\"\"\n",
    "\n",
    "    def __init__(self, PDBid: str, length_dom: int, chain_dom: str, start_dom: int, stop_dom: int):\n",
    "        \"\"\"Constructs all the necessary attributes for the object.\"\"\"\n",
    "        \n",
    "        self.PDBid = PDBid\n",
    "        self.length_dom = length_dom\n",
    "        self.chain_dom = chain_dom\n",
    "        self.start_dom = start_dom\n",
    "        self.stop_dom = stop_dom\n",
    "        self.struc_distr_df = pd.DataFrame({'PDBid': [self.PDBid], 'chain': [self.chain_dom], \n",
    "                                            'start': [start_dom], 'end': [self.stop_dom], \n",
    "                                            'length': [self.length_dom]})\n",
    "        self.pdbx_file = pdbx.PDBxFile.read(rcsb.fetch(self.PDBid, 'pdbx'))\n",
    "\n",
    "    def get_suitable_structures(self):\n",
    "        \"\"\"Filter structures for the domain from PDB-structure.\"\"\"\n",
    "        \n",
    "        self.structures_df = self.structures_df[self.structures_df.chain_str == self.chain_dom]\n",
    "        self.structures_df = self.structures_df[self.structures_df.start_str >= self.start_dom]\n",
    "        self.structures_df = self.structures_df[self.structures_df.stop_str <= self.stop_dom]\n",
    "        self.structures_df.index = np.arange(len(self.structures_df))\n",
    "\n",
    "    def calculate_distr(self, column_name: str):\n",
    "        \"\"\"Calculate the distribution of a specific type of secondary structure in the domain.\"\"\"\n",
    "        \n",
    "        if self.structures_df.empty:\n",
    "            distr = [0] * 100\n",
    "            distr_str = (';'.join(map(str, distr)))\n",
    "            self.struc_distr_df.loc[len(self.struc_distr_df) - 1, column_name] = distr_str\n",
    "        else:\n",
    "            distr = []\n",
    "            distr = calculate_distribution(self.structures_df, self.length_dom, self.start_dom, self)\n",
    "            distr_str = (';'.join(map(str, distr)))\n",
    "            self.struc_distr_df.loc[len(self.struc_distr_df) - 1, column_name] = distr_str\n",
    "        \n",
    "        return self.struc_distr_df"
   ]
  },
  {
   "cell_type": "code",
   "execution_count": null,
   "id": "c87a9a61-5f64-4e6d-ad9a-a7c18280ee68",
   "metadata": {},
   "outputs": [],
   "source": []
  },
  {
   "cell_type": "markdown",
   "id": "32c7f670-6e92-4209-ae4c-31ef5163def7",
   "metadata": {},
   "source": [
    "## SecondaryStructure"
   ]
  },
  {
   "cell_type": "code",
   "execution_count": null,
   "id": "51986f91-013b-41cc-93d1-ce9e6d371b0c",
   "metadata": {},
   "outputs": [],
   "source": [
    "@dataclass\n",
    "class SecondaryStructure():\n",
    "    \"\"\"\n",
    "    Dataclass for secondary structure data\n",
    "    \n",
    "    Attributes\n",
    "    ----------\n",
    "    id_str : list\n",
    "        identification numbers of specific secondary structure for the domain\n",
    "    start_str : list\n",
    "        first amino acids of the secondary structure for the domain\n",
    "    stop_str : list\n",
    "        last amino acids of the secondary structure for the domain\n",
    "    class_str : list\n",
    "        classes of the secondary structure for the domain\n",
    "    length_str : list\n",
    "        lengths of the secondary structure for the domain\n",
    "    chain_str : list\n",
    "        chain identificators of the secondary structure for the domain\n",
    "    \"\"\"\n",
    "    \n",
    "    id_str: list\n",
    "    start_str: list\n",
    "    stop_str: list\n",
    "    class_str: list\n",
    "    length_str: list\n",
    "    chain_str: list"
   ]
  },
  {
   "cell_type": "code",
   "execution_count": null,
   "id": "9b0016a7-3999-47ba-ac6d-3ce042007dcf",
   "metadata": {},
   "outputs": [],
   "source": []
  },
  {
   "cell_type": "markdown",
   "id": "061cff43-4234-4406-8cf9-b2f4fe364643",
   "metadata": {},
   "source": [
    "## Helix"
   ]
  },
  {
   "cell_type": "code",
   "execution_count": null,
   "id": "de914886-e8f9-4b75-ac3f-b6e3d00405ba",
   "metadata": {},
   "outputs": [],
   "source": [
    "class Helix(Domain):\n",
    "    \"\"\"\n",
    "    Child class of Domain class for all types of helices\n",
    "    \n",
    "    Attributes\n",
    "    ----------\n",
    "    secondary_structure_obj: SecondaryStructure\n",
    "        object of SecondaryStructure\n",
    "    structures_df: pd.DataFrame\n",
    "        dataframe for all helices data\n",
    "\n",
    "    Methods\n",
    "    -------\n",
    "    get_suitable_helices(class_str: str = '1'):\n",
    "        filter helices structures (class_str the same as in pdbx annotation)\n",
    "    \"\"\"\n",
    "    \n",
    "    def __init__(self, PDBid: str, length_dom: int, chain_dom: str, start_dom: int, stop_dom: int):\n",
    "        \"\"\"Constructs all the necessary attributes for the object.\"\"\"\n",
    "        \n",
    "        super().__init__(PDBid=PDBid, length_dom=length_dom, chain_dom=chain_dom, start_dom=start_dom, stop_dom=stop_dom)\n",
    "        self.secondary_structure_obj = SecondaryStructure(id_str=self.pdbx_file [self.PDBid, 'struct_conf']['pdbx_PDB_helix_id'],\n",
    "                                                          start_str = self.pdbx_file[self.PDBid, 'struct_conf']['beg_label_seq_id'],\n",
    "                                                          stop_str = self.pdbx_file [self.PDBid, 'struct_conf']['end_label_seq_id'],\n",
    "                                                          class_str = self.pdbx_file [self.PDBid, 'struct_conf']['pdbx_PDB_helix_class'],\n",
    "                                                          length_str = self.pdbx_file [self.PDBid, 'struct_conf']['pdbx_PDB_helix_length'],\n",
    "                                                          chain_str = self.pdbx_file [self.PDBid, 'struct_conf']['beg_auth_asym_id'])\n",
    "        self.secondary_structure_obj.start_str = np.array([int(self.secondary_structure_obj.start_str)] if isinstance(self.secondary_structure_obj.start_str, str) \n",
    "                                                          else [int(t) for t in self.secondary_structure_obj.start_str])\n",
    "        self.secondary_structure_obj.stop_str = np.array([int(self.secondary_structure_obj.stop_str)] if isinstance(self.secondary_structure_obj.stop_str, str) \n",
    "                                                         else [int(t) for t in self.secondary_structure_obj.stop_str])   \n",
    "        self.structures_df = pd.DataFrame({'id_str' : self.secondary_structure_obj.id_str,\n",
    "                                           'start_str' : self.secondary_structure_obj.start_str, \n",
    "                                           'stop_str': self.secondary_structure_obj.stop_str, \n",
    "                                           'class_str': self.secondary_structure_obj.class_str,\n",
    "                                           'length_str': self.secondary_structure_obj.length_str, \n",
    "                                           'chain_str': self.secondary_structure_obj.chain_str})\n",
    "\n",
    "    def get_suitable_helices(self, class_str: str = '1'):\n",
    "        \"\"\"Filter helices structures.\"\"\"\n",
    "        \n",
    "        self.get_suitable_structures()\n",
    "        self.structures_df = self.structures_df[self.structures_df.class_str == str(class_str)]"
   ]
  },
  {
   "cell_type": "code",
   "execution_count": null,
   "id": "8e3940d3-0900-455a-ba17-af877fede330",
   "metadata": {},
   "outputs": [],
   "source": []
  },
  {
   "cell_type": "markdown",
   "id": "64dc6013-75a5-447d-96d3-0ae6d48047b0",
   "metadata": {},
   "source": [
    "## Alpha-helix"
   ]
  },
  {
   "cell_type": "code",
   "execution_count": null,
   "id": "cafdf8e3-ef6f-4a13-8d62-4de18e3e1191",
   "metadata": {},
   "outputs": [],
   "source": [
    "class AlphaHelix(Helix):\n",
    "    \"\"\"\n",
    "    Child class of Helix class for alpha-helices\n",
    "\n",
    "    Methods\n",
    "    -------\n",
    "    get_alpha_helices():\n",
    "        filter suitable for domain alpha-helices\n",
    "    \"\"\"\n",
    "    \n",
    "    def __init__(self, PDBid: str, length_dom: int, chain_dom: str, start_dom: int, stop_dom: int):\n",
    "        \"\"\"Constructs all the necessary attributes for the object.\"\"\"\n",
    "        \n",
    "        super().__init__(PDBid=PDBid, length_dom=length_dom, chain_dom=chain_dom, start_dom=start_dom, stop_dom=stop_dom)\n",
    "        \n",
    "    def get_alpha_helices(self):\n",
    "        \"\"\"Filter suitable for domain alpha-helices.\"\"\"\n",
    "        \n",
    "        self.get_suitable_helices('1')"
   ]
  },
  {
   "cell_type": "code",
   "execution_count": null,
   "id": "82112a59-3d34-40dc-a5d5-453329abe079",
   "metadata": {},
   "outputs": [],
   "source": []
  },
  {
   "cell_type": "markdown",
   "id": "fbcf9893-7038-4385-944f-76e4c08e8e5b",
   "metadata": {},
   "source": [
    "## 310-helix"
   ]
  },
  {
   "cell_type": "code",
   "execution_count": null,
   "id": "747e99dd-a029-4b5e-9d7b-efefa9f23d10",
   "metadata": {},
   "outputs": [],
   "source": [
    "class ThreeTenHelix(Helix):\n",
    "    \"\"\"\n",
    "    Child class of Helix class for 3_10-helices\n",
    "\n",
    "    Methods\n",
    "    -------\n",
    "    get_threeten_helices():\n",
    "        filter suitable for domain 3_10-helices\n",
    "    \"\"\"\n",
    "    \n",
    "    def __init__(self, PDBid: str, length_dom: int, chain_dom: str, start_dom: int, stop_dom: int):\n",
    "        \"\"\"Constructs all the necessary attributes for the object.\"\"\"\n",
    "        \n",
    "        super().__init__(PDBid=PDBid, length_dom=length_dom, chain_dom=chain_dom, start_dom=start_dom, stop_dom=stop_dom)\n",
    "        \n",
    "    def get_threeten_helices(self):\n",
    "        \"\"\"Filter suitable for domain 3_10-helices.\"\"\"\n",
    "        \n",
    "        self.get_suitable_helices('5')"
   ]
  },
  {
   "cell_type": "code",
   "execution_count": null,
   "id": "63363c4c-ff49-48f7-b9ad-0f56d7f5a048",
   "metadata": {},
   "outputs": [],
   "source": []
  },
  {
   "cell_type": "markdown",
   "id": "9e0219d9-4464-401b-baee-38efc4953ce3",
   "metadata": {},
   "source": [
    "## Sheets"
   ]
  },
  {
   "cell_type": "code",
   "execution_count": null,
   "id": "1f615aa9-1d52-4b6a-8c65-9efd2e3f9808",
   "metadata": {},
   "outputs": [],
   "source": [
    "class Sheet(Domain):\n",
    "    \"\"\"\n",
    "    Child class of Domain class for all sheets\n",
    "    \n",
    "    Attributes\n",
    "    ----------\n",
    "    secondary_structure_obj: SecondaryStructure\n",
    "        object of SecondaryStructure\n",
    "    structures_df: pd.DataFrame\n",
    "        dataframe for all sheets data\n",
    "\n",
    "    Methods\n",
    "    -------\n",
    "    get_suitable_sheets(class_str: str = '1'):\n",
    "        filter sheets structures\n",
    "    \"\"\"\n",
    "    \n",
    "    def __init__(self,PDBid: str, length_dom: int, chain_dom: str, start_dom: int, stop_dom: int):\n",
    "        \"\"\"Constructs all the necessary attributes for the object.\"\"\"\n",
    "        \n",
    "        super().__init__(PDBid=PDBid, length_dom=length_dom, chain_dom=chain_dom, start_dom=start_dom, stop_dom=stop_dom)\n",
    "\n",
    "        self.secondary_structure_obj = SecondaryStructure(id_str=self.pdbx_file[self.PDBid, 'struct_sheet_range']['sheet_id'],\n",
    "                                                          start_str = self.pdbx_file[self.PDBid, 'struct_sheet_range']['beg_label_seq_id'],\n",
    "                                                          stop_str = self.pdbx_file [self.PDBid, 'struct_sheet_range']['end_label_seq_id'],\n",
    "                                                          class_str = None,\n",
    "                                                          length_str = None,\n",
    "                                                          chain_str = self.pdbx_file [self.PDBid, 'struct_sheet_range']['beg_auth_asym_id'])\n",
    "        self.secondary_structure_obj.start_str = np.array([int(self.secondary_structure_obj.start_str)] if isinstance(self.secondary_structure_obj.start_str, str) \n",
    "                                                          else [int(t) for t in self.secondary_structure_obj.start_str])\n",
    "        self.secondary_structure_obj.stop_str = np.array([int(self.secondary_structure_obj.stop_str)] if isinstance(self.secondary_structure_obj.stop_str, str) \n",
    "                                                         else [int(t) for t in self.secondary_structure_obj.stop_str])   \n",
    "        self.structures_df = pd.DataFrame({'id_str': self.secondary_structure_obj.id_str,\n",
    "                                           'start_str' : self.secondary_structure_obj.start_str, \n",
    "                                           'stop_str': self.secondary_structure_obj.stop_str, \n",
    "                                           'chain_str': self.secondary_structure_obj.chain_str})\n",
    "\n",
    "    def get_suitable_sheets(self):\n",
    "        \"\"\"Filter suitable for domain sheets.\"\"\"\n",
    "        \n",
    "        self.get_suitable_structures()"
   ]
  },
  {
   "cell_type": "code",
   "execution_count": null,
   "id": "2144c670-0d4a-4d4d-a78f-61b4310f6ab6",
   "metadata": {},
   "outputs": [],
   "source": []
  },
  {
   "cell_type": "markdown",
   "id": "57ea1fd2-4c6b-445d-b739-fbd0323f592f",
   "metadata": {},
   "source": [
    "## BetaSheet"
   ]
  },
  {
   "cell_type": "code",
   "execution_count": null,
   "id": "94e68290-71bc-4e92-9960-e70624223835",
   "metadata": {},
   "outputs": [],
   "source": [
    "class BetaSheet(Sheet):\n",
    "    \"\"\"\n",
    "    Child class of Helix class for alpha-helices\n",
    "    \"\"\"\n",
    "    \n",
    "    def __init__(self, PDBid: str, length_dom: int, chain_dom: str, start_dom: int, stop_dom: int):\n",
    "        \"\"\"Constructs all the necessary attributes for the object.\"\"\"\n",
    "        \n",
    "        super().__init__(PDBid=PDBid, length_dom=length_dom, chain_dom=chain_dom, start_dom=start_dom, stop_dom=stop_dom)"
   ]
  },
  {
   "cell_type": "code",
   "execution_count": null,
   "id": "0b447a37-90ac-4518-a0ce-592aff663af0",
   "metadata": {},
   "outputs": [],
   "source": []
  },
  {
   "cell_type": "markdown",
   "id": "029081ee-2d80-456b-a875-95061900b08b",
   "metadata": {},
   "source": [
    "## IrregularStructure"
   ]
  },
  {
   "cell_type": "code",
   "execution_count": null,
   "id": "2482fbc6-6bde-450d-b5e0-c4498b6604e4",
   "metadata": {},
   "outputs": [],
   "source": [
    "class IrregularStructure(Domain):\n",
    "    \"\"\"\n",
    "    Child class of Domain class for irregular structure\n",
    "    \n",
    "    Attributes\n",
    "    ----------\n",
    "    ah_df_res: pd.DataFrame\n",
    "        alpha-helix distribution in the domain dataframe\n",
    "    tth_df_res: pd.DataFrame\n",
    "        3_10-helix distribution in the domain dataframe\n",
    "    bs_df_res: pd.DataFrame\n",
    "        bta-sheet distribution in the domain dataframe\n",
    "    total_df_res: pd.DataFrame\n",
    "        all typesof secondary structure distribution in the domain dataframe\n",
    "\n",
    "    Methods\n",
    "    -------\n",
    "    calculate_irregular_distr():\n",
    "        calculate the distribution of irregular structure in the domain\n",
    "    \"\"\"\n",
    "\n",
    "    \n",
    "    def __init__(self, ah_df_res, tth_df_res, bs_df_res):\n",
    "        \"\"\"Constructs all the necessary attributes for the object.\"\"\"\n",
    "        \n",
    "        self.ah_df_res = ah_df_res\n",
    "        self.tth_df_res = tth_df_res\n",
    "        self.bs_df_res = bs_df_res\n",
    "        self.total_df_res = ah_df_res[['PDBid', 'chain', 'start', 'end', 'length']].copy()\n",
    "\n",
    "    def calculate_irregular_distr(self):\n",
    "        \"\"\"Calculate the distribution of irregular structure in the domain.\"\"\"\n",
    "        \n",
    "        for i in range(len(self.ah_df_res)):\n",
    "            list_alpha = self.ah_df_res.iloc[i, -1].split(';')\n",
    "            list_beta = self.bs_df_res.iloc[i, -1].split(';')\n",
    "            list_threeten = self.tth_df_res.iloc[i, -1].split(';')\n",
    "            \n",
    "            distr = [0] * 100 \n",
    "            for index in range(100):\n",
    "                distr[index] = 1 - float(list_alpha[index]) - float(list_beta[index]) - float(list_threeten[index])\n",
    "                distr[index] = round(distr[index], 2)\n",
    "                distr_str = (';'.join(map(str,distr)))\n",
    "                self.total_df_res.loc[i, 'Irregular_structure_distr'] = distr_str \n",
    "                \n",
    "        return self.total_df_res"
   ]
  },
  {
   "cell_type": "code",
   "execution_count": null,
   "id": "c49c36dc-1805-4f31-80fb-d9bf19280741",
   "metadata": {},
   "outputs": [],
   "source": []
  },
  {
   "cell_type": "markdown",
   "id": "39aca139-1d5f-469a-aec6-b4c4a9c88574",
   "metadata": {},
   "source": [
    "## processing functions"
   ]
  },
  {
   "cell_type": "code",
   "execution_count": null,
   "id": "ef3b1ea3-5d6d-457a-9d37-e269cacfa4de",
   "metadata": {},
   "outputs": [],
   "source": [
    "def process_alpha_helix(df_set, res_file_name: str = 'Result_ah.xlsx', _column_name: str = 'Alpha_helix_distr'):\n",
    "    \"\"\"\n",
    "    Get alpha-helix distribution for all proteins in the set. \n",
    "    arguments:\n",
    "        - df_set (pd.DataFrame): dataframe of the protein set\n",
    "        - res_file_name (str): name for file with results \n",
    "        - _column_name (str): name of the column in results\n",
    "    return:\n",
    "        - ah_df_res (pandas.DataFrame): dataframe of the alpha-helix distribution\n",
    "    \"\"\"\n",
    "    \n",
    "    for i, row in df_set.iterrows():\n",
    "        ah = AlphaHelix(PDBid=row['PDBid'], length_dom=row['length'], chain_dom=row['chain'], start_dom=row['start'], stop_dom=row['end'])\n",
    "        ah.get_alpha_helices()\n",
    "        ah.calculate_distr(column_name=_column_name)\n",
    "        ah_df_res = ah.struc_distr_df if i == 0 else pd.concat([ah_df_res, ah.struc_distr_df])\n",
    "        \n",
    "    ah_df_res = ah_df_res.reset_index(drop=True)\n",
    "    ah_df_res.to_excel(res_file_name)\n",
    "    \n",
    "    return ah_df_res"
   ]
  },
  {
   "cell_type": "code",
   "execution_count": null,
   "id": "4b543627-1837-4d00-8c1c-ab2b57c3f3d7",
   "metadata": {},
   "outputs": [],
   "source": [
    "def process_threeten_helix(df_set, res_file_name: str = 'Result_tth.xlsx', _column_name: str = 'Three_ten_helix_distr'):\n",
    "    \"\"\"\n",
    "    Get 3_10-helix distribution for all proteins in the set. \n",
    "    arguments:\n",
    "        - df_set (pd.DataFrame): dataframe of the protein set\n",
    "        - res_file_name (str): name for file with results \n",
    "        - _column_name (str): name of the column in results\n",
    "    return:\n",
    "        - tth_df_res (pandas.DataFrame): dataframe of the 3_10-helix distribution\n",
    "    \"\"\"\n",
    "    \n",
    "    for i, row in df_set.iterrows():\n",
    "        tth = ThreeTenHelix(PDBid=row['PDBid'], length_dom=row['length'], chain_dom=row['chain'], start_dom=row['start'], stop_dom=row['end'])\n",
    "        tth.get_threeten_helices()\n",
    "        tth.calculate_distr(column_name=_column_name)\n",
    "        tth_df_res = tth.struc_distr_df if i == 0 else pd.concat([tth_df_res, tth.struc_distr_df])\n",
    "        \n",
    "    tth_df_res = tth_df_res.reset_index(drop=True)\n",
    "    tth_df_res.to_excel(res_file_name)\n",
    "    \n",
    "    return tth_df_res"
   ]
  },
  {
   "cell_type": "code",
   "execution_count": null,
   "id": "25960729-184d-459b-bf4f-014064926ab1",
   "metadata": {},
   "outputs": [],
   "source": [
    "def process_beta_sheets(df_set, res_file_name: str = 'Result_bs.xlsx', _column_name: str = 'Beta_sheet_distr'):\n",
    "    \"\"\"\n",
    "    Get beta-sheet distribution for all proteins in the set. \n",
    "    arguments:\n",
    "        - df_set (pd.DataFrame): dataframe of the protein set\n",
    "        - res_file_name (str): name for file with results \n",
    "        - _column_name (str): name of the column in results\n",
    "    return:\n",
    "        - bs_df_res (pandas.DataFrame): dataframe of the beta-sheet distribution\n",
    "    \"\"\"\n",
    "    \n",
    "    for i, row in df_set.iterrows():\n",
    "        bs = BetaSheet(PDBid=row['PDBid'], length_dom=row['length'], chain_dom=row['chain'], start_dom=row['start'], stop_dom=row['end'])\n",
    "        bs.get_suitable_sheets()\n",
    "        bs.calculate_distr(column_name=_column_name)\n",
    "        bs_df_res = bs.struc_distr_df if i == 0 else pd.concat([bs_df_res, bs.struc_distr_df])\n",
    "        \n",
    "    bs_df_res = bs_df_res.reset_index(drop=True)\n",
    "    \n",
    "    bs_df_res.to_excel(res_file_name)\n",
    "    \n",
    "    return bs_df_res"
   ]
  },
  {
   "cell_type": "code",
   "execution_count": null,
   "id": "933c85c1-3d41-438b-9288-7425a90e60d8",
   "metadata": {},
   "outputs": [],
   "source": [
    "def process_irregular_struc(ah_df_res, tth_df_res, bs_df_res, res_file_name: str = 'Result_iss.xlsx'):\n",
    "    \"\"\"\n",
    "    Get alpha-helix distribution for all proteins in the set. \n",
    "    arguments:\n",
    "        - ah_df_res (pandas.DataFrame): dataframe of the alpha-helix distribution\n",
    "        - tth_df_res (pandas.DataFrame): dataframe of the 3_10-helix distribution\n",
    "        - bs_df_res (pandas.DataFrame): dataframe of the beta-sheet distribution\n",
    "        - res_file_name (str): name for file with results \n",
    "    return:\n",
    "        - iss_df_res (pandas.DataFrame): dataframe of the irregular structure distribution\n",
    "    \"\"\"\n",
    "    \n",
    "    iss = IrregularStructure(ah_df_res, tth_df_res, bs_df_res)\n",
    "    iss_df_res = iss.calculate_irregular_distr()\n",
    "    iss_df_res.to_excel(res_file_name)\n",
    "    \n",
    "    return iss_df_res"
   ]
  },
  {
   "cell_type": "code",
   "execution_count": null,
   "id": "bf28933f-dee4-4047-b5f5-9ffabb389d9e",
   "metadata": {},
   "outputs": [],
   "source": []
  },
  {
   "cell_type": "markdown",
   "id": "8a60f4ef-a2c2-4722-acfd-9c47919d8cf5",
   "metadata": {},
   "source": [
    "## MAIN"
   ]
  },
  {
   "cell_type": "code",
   "execution_count": null,
   "id": "9c5e75bd-b449-4a05-96f8-aa33b57c7a1c",
   "metadata": {
    "jupyter": {
     "source_hidden": true
    }
   },
   "outputs": [],
   "source": [
    "def main_(path):\n",
    "    df_set = read_prot_set(path)\n",
    "    ah_df_res = process_alpha_helix(df_set)\n",
    "    tth_df_res = process_threeten_helix(df_set)\n",
    "    bs_df_res = process_beta_sheets(df_set)\n",
    "    iss_df_res = process_irregular_struc(ah_df_res, tth_df_res, bs_df_res)"
   ]
  },
  {
   "cell_type": "code",
   "execution_count": null,
   "id": "fb4b7c73-3659-437b-8ed1-e73884271bbe",
   "metadata": {
    "jupyter": {
     "source_hidden": true
    }
   },
   "outputs": [],
   "source": [
    "main(path='example.xlsx')"
   ]
  },
  {
   "cell_type": "code",
   "execution_count": null,
   "id": "af1dc33a-bee3-4300-b009-7e767a9c1574",
   "metadata": {},
   "outputs": [],
   "source": []
  },
  {
   "cell_type": "code",
   "execution_count": null,
   "id": "02773fd4-c7bf-44d7-b6e7-8ce9110789ca",
   "metadata": {},
   "outputs": [],
   "source": [
    "path='example.xlsx'"
   ]
  },
  {
   "cell_type": "code",
   "execution_count": null,
   "id": "03f0d316-d8f6-4b6c-b7d3-34789fc6754e",
   "metadata": {},
   "outputs": [],
   "source": [
    "df_set = read_prot_set(path)\n",
    "ah_df_res = process_alpha_helix(df_set)\n",
    "tth_df_res = process_threeten_helix(df_set)\n",
    "bs_df_res = process_beta_sheets(df_set)\n",
    "iss_df_res = process_irregular_struc(ah_df_res, tth_df_res, bs_df_res)"
   ]
  },
  {
   "cell_type": "code",
   "execution_count": null,
   "id": "d5c1768e-b8ef-44f7-b1ad-f590398c285f",
   "metadata": {
    "scrolled": true
   },
   "outputs": [],
   "source": [
    "ah_df_res"
   ]
  },
  {
   "cell_type": "code",
   "execution_count": null,
   "id": "86d31619-3ef4-4eba-8c0b-027dfeafa58a",
   "metadata": {},
   "outputs": [],
   "source": [
    "tth_df_res"
   ]
  },
  {
   "cell_type": "code",
   "execution_count": null,
   "id": "a02d38fb-d952-4711-ab03-a1fc21b8590e",
   "metadata": {},
   "outputs": [],
   "source": [
    "bs_df_res"
   ]
  },
  {
   "cell_type": "code",
   "execution_count": null,
   "id": "12efced8-e9dc-435d-983e-0220e243d504",
   "metadata": {
    "jupyter": {
     "source_hidden": true
    }
   },
   "outputs": [],
   "source": [
    "iss_df_res"
   ]
  },
  {
   "cell_type": "code",
   "execution_count": null,
   "id": "ae422fd8-e83f-486b-9ac4-4ed3859485a0",
   "metadata": {},
   "outputs": [],
   "source": []
  },
  {
   "cell_type": "code",
   "execution_count": null,
   "id": "8faa8d67-03c4-442f-9e2d-cce46552d2a8",
   "metadata": {},
   "outputs": [],
   "source": []
  },
  {
   "cell_type": "markdown",
   "id": "0c732b2f-47e6-41a9-a6e3-2c5ca9eb62d2",
   "metadata": {},
   "source": [
    "# Usage Example"
   ]
  },
  {
   "cell_type": "code",
   "execution_count": 1,
   "id": "36a02583-adfb-40fa-a7e6-cb6bfe1004a5",
   "metadata": {},
   "outputs": [],
   "source": [
    "import pandas as pd\n",
    "import matplotlib.pyplot as plt\n",
    "\n",
    "import distrprotstruc"
   ]
  },
  {
   "cell_type": "code",
   "execution_count": null,
   "id": "a37b2f98-b533-43c8-aba4-2f3185963759",
   "metadata": {},
   "outputs": [],
   "source": []
  },
  {
   "cell_type": "markdown",
   "id": "c663c991-9a5c-4f11-8b0d-196b69f7a132",
   "metadata": {},
   "source": [
    "**Use example data for getting the distribution**"
   ]
  },
  {
   "cell_type": "code",
   "execution_count": 2,
   "id": "af2b8337-de7d-4fed-8a6e-c510abd71cd2",
   "metadata": {},
   "outputs": [],
   "source": [
    "path='example.xlsx'"
   ]
  },
  {
   "cell_type": "code",
   "execution_count": 3,
   "id": "bcebc4fe-09f7-4fa1-8291-c9b18d099ddb",
   "metadata": {},
   "outputs": [],
   "source": [
    "df_set = distrprotstruc.read_prot_set(path)\n",
    "ah_df_res = distrprotstruc.process_alpha_helix(df_set)\n",
    "tth_df_res = distrprotstruc.process_threeten_helix(df_set)\n",
    "bs_df_res = distrprotstruc.process_beta_sheets(df_set)\n",
    "iss_df_res = distrprotstruc.process_irregular_struc(ah_df_res, tth_df_res, bs_df_res)"
   ]
  },
  {
   "cell_type": "code",
   "execution_count": null,
   "id": "9c058f26-1415-4e07-971c-3ed557352259",
   "metadata": {},
   "outputs": [],
   "source": []
  },
  {
   "cell_type": "markdown",
   "id": "c26f0bbd-91de-455b-acbe-d7c863da6684",
   "metadata": {},
   "source": [
    "**See the results with distributions for each protein in the set**"
   ]
  },
  {
   "cell_type": "code",
   "execution_count": 4,
   "id": "ae762b01-57fd-43e6-bd6e-1b08e0ba4243",
   "metadata": {
    "scrolled": true
   },
   "outputs": [
    {
     "data": {
      "text/html": [
       "<div>\n",
       "<style scoped>\n",
       "    .dataframe tbody tr th:only-of-type {\n",
       "        vertical-align: middle;\n",
       "    }\n",
       "\n",
       "    .dataframe tbody tr th {\n",
       "        vertical-align: top;\n",
       "    }\n",
       "\n",
       "    .dataframe thead th {\n",
       "        text-align: right;\n",
       "    }\n",
       "</style>\n",
       "<table border=\"1\" class=\"dataframe\">\n",
       "  <thead>\n",
       "    <tr style=\"text-align: right;\">\n",
       "      <th></th>\n",
       "      <th>PDBid</th>\n",
       "      <th>chain</th>\n",
       "      <th>start</th>\n",
       "      <th>end</th>\n",
       "      <th>length</th>\n",
       "      <th>Alpha_helix_distr</th>\n",
       "    </tr>\n",
       "  </thead>\n",
       "  <tbody>\n",
       "    <tr>\n",
       "      <th>0</th>\n",
       "      <td>1CQX</td>\n",
       "      <td>A</td>\n",
       "      <td>1</td>\n",
       "      <td>400</td>\n",
       "      <td>400</td>\n",
       "      <td>0.0;0.75;1.0;1.0;1.0;1.0;1.0;1.0;1.0;0.75;0.0;...</td>\n",
       "    </tr>\n",
       "    <tr>\n",
       "      <th>1</th>\n",
       "      <td>1CQX</td>\n",
       "      <td>B</td>\n",
       "      <td>5</td>\n",
       "      <td>380</td>\n",
       "      <td>376</td>\n",
       "      <td>0.0;0.0;0.14;1.0;1.0;1.0;1.0;1.0;1.0;0.24;0.0;...</td>\n",
       "    </tr>\n",
       "    <tr>\n",
       "      <th>2</th>\n",
       "      <td>1OR6</td>\n",
       "      <td>A</td>\n",
       "      <td>11</td>\n",
       "      <td>178</td>\n",
       "      <td>168</td>\n",
       "      <td>0.0;0.0;0.0;0.0;0.0;0.0;0.0;0.0;0.0;0.0;0.0;0....</td>\n",
       "    </tr>\n",
       "    <tr>\n",
       "      <th>3</th>\n",
       "      <td>1OR6</td>\n",
       "      <td>B</td>\n",
       "      <td>23</td>\n",
       "      <td>178</td>\n",
       "      <td>156</td>\n",
       "      <td>0.0;0.0;0.0;0.0;0.0;0.51;1.0;1.0;1.0;1.0;1.0;1...</td>\n",
       "    </tr>\n",
       "    <tr>\n",
       "      <th>4</th>\n",
       "      <td>3ZHW</td>\n",
       "      <td>B</td>\n",
       "      <td>8</td>\n",
       "      <td>160</td>\n",
       "      <td>153</td>\n",
       "      <td>0.0;0.35;1.0;1.0;1.0;1.0;1.0;1.0;1.0;1.0;1.0;1...</td>\n",
       "    </tr>\n",
       "  </tbody>\n",
       "</table>\n",
       "</div>"
      ],
      "text/plain": [
       "  PDBid chain  start  end  length  \\\n",
       "0  1CQX     A      1  400     400   \n",
       "1  1CQX     B      5  380     376   \n",
       "2  1OR6     A     11  178     168   \n",
       "3  1OR6     B     23  178     156   \n",
       "4  3ZHW     B      8  160     153   \n",
       "\n",
       "                                   Alpha_helix_distr  \n",
       "0  0.0;0.75;1.0;1.0;1.0;1.0;1.0;1.0;1.0;0.75;0.0;...  \n",
       "1  0.0;0.0;0.14;1.0;1.0;1.0;1.0;1.0;1.0;0.24;0.0;...  \n",
       "2  0.0;0.0;0.0;0.0;0.0;0.0;0.0;0.0;0.0;0.0;0.0;0....  \n",
       "3  0.0;0.0;0.0;0.0;0.0;0.51;1.0;1.0;1.0;1.0;1.0;1...  \n",
       "4  0.0;0.35;1.0;1.0;1.0;1.0;1.0;1.0;1.0;1.0;1.0;1...  "
      ]
     },
     "execution_count": 4,
     "metadata": {},
     "output_type": "execute_result"
    }
   ],
   "source": [
    "ah_df_res"
   ]
  },
  {
   "cell_type": "code",
   "execution_count": 5,
   "id": "406ccdef-29f5-48b8-8f43-5a528fd01a28",
   "metadata": {},
   "outputs": [
    {
     "data": {
      "text/html": [
       "<div>\n",
       "<style scoped>\n",
       "    .dataframe tbody tr th:only-of-type {\n",
       "        vertical-align: middle;\n",
       "    }\n",
       "\n",
       "    .dataframe tbody tr th {\n",
       "        vertical-align: top;\n",
       "    }\n",
       "\n",
       "    .dataframe thead th {\n",
       "        text-align: right;\n",
       "    }\n",
       "</style>\n",
       "<table border=\"1\" class=\"dataframe\">\n",
       "  <thead>\n",
       "    <tr style=\"text-align: right;\">\n",
       "      <th></th>\n",
       "      <th>PDBid</th>\n",
       "      <th>chain</th>\n",
       "      <th>start</th>\n",
       "      <th>end</th>\n",
       "      <th>length</th>\n",
       "      <th>Three_ten_helix_distr</th>\n",
       "    </tr>\n",
       "  </thead>\n",
       "  <tbody>\n",
       "    <tr>\n",
       "      <th>0</th>\n",
       "      <td>1CQX</td>\n",
       "      <td>A</td>\n",
       "      <td>1</td>\n",
       "      <td>400</td>\n",
       "      <td>400</td>\n",
       "      <td>0.0;0.0;0.0;0.0;0.0;0.0;0.0;0.0;0.0;0.25;1.0;0...</td>\n",
       "    </tr>\n",
       "    <tr>\n",
       "      <th>1</th>\n",
       "      <td>1CQX</td>\n",
       "      <td>B</td>\n",
       "      <td>5</td>\n",
       "      <td>380</td>\n",
       "      <td>376</td>\n",
       "      <td>0.0;0.0;0.0;0.0;0.0;0.0;0.0;0.0;0.0;0.76;0.84;...</td>\n",
       "    </tr>\n",
       "    <tr>\n",
       "      <th>2</th>\n",
       "      <td>1OR6</td>\n",
       "      <td>A</td>\n",
       "      <td>11</td>\n",
       "      <td>178</td>\n",
       "      <td>168</td>\n",
       "      <td>0;0;0;0;0;0;0;0;0;0;0;0;0;0;0;0;0;0;0;0;0;0;0;...</td>\n",
       "    </tr>\n",
       "    <tr>\n",
       "      <th>3</th>\n",
       "      <td>1OR6</td>\n",
       "      <td>B</td>\n",
       "      <td>23</td>\n",
       "      <td>178</td>\n",
       "      <td>156</td>\n",
       "      <td>0.0;0.0;0.0;0.0;0.0;0.0;0.0;0.0;0.0;0.0;0.0;0....</td>\n",
       "    </tr>\n",
       "    <tr>\n",
       "      <th>4</th>\n",
       "      <td>3ZHW</td>\n",
       "      <td>B</td>\n",
       "      <td>8</td>\n",
       "      <td>160</td>\n",
       "      <td>153</td>\n",
       "      <td>0.0;0.0;0.0;0.0;0.0;0.0;0.0;0.0;0.0;0.0;0.0;0....</td>\n",
       "    </tr>\n",
       "  </tbody>\n",
       "</table>\n",
       "</div>"
      ],
      "text/plain": [
       "  PDBid chain  start  end  length  \\\n",
       "0  1CQX     A      1  400     400   \n",
       "1  1CQX     B      5  380     376   \n",
       "2  1OR6     A     11  178     168   \n",
       "3  1OR6     B     23  178     156   \n",
       "4  3ZHW     B      8  160     153   \n",
       "\n",
       "                               Three_ten_helix_distr  \n",
       "0  0.0;0.0;0.0;0.0;0.0;0.0;0.0;0.0;0.0;0.25;1.0;0...  \n",
       "1  0.0;0.0;0.0;0.0;0.0;0.0;0.0;0.0;0.0;0.76;0.84;...  \n",
       "2  0;0;0;0;0;0;0;0;0;0;0;0;0;0;0;0;0;0;0;0;0;0;0;...  \n",
       "3  0.0;0.0;0.0;0.0;0.0;0.0;0.0;0.0;0.0;0.0;0.0;0....  \n",
       "4  0.0;0.0;0.0;0.0;0.0;0.0;0.0;0.0;0.0;0.0;0.0;0....  "
      ]
     },
     "execution_count": 5,
     "metadata": {},
     "output_type": "execute_result"
    }
   ],
   "source": [
    "tth_df_res"
   ]
  },
  {
   "cell_type": "code",
   "execution_count": 6,
   "id": "8a0aeeb1-cb95-4d41-810d-de321f5400bc",
   "metadata": {},
   "outputs": [
    {
     "data": {
      "text/html": [
       "<div>\n",
       "<style scoped>\n",
       "    .dataframe tbody tr th:only-of-type {\n",
       "        vertical-align: middle;\n",
       "    }\n",
       "\n",
       "    .dataframe tbody tr th {\n",
       "        vertical-align: top;\n",
       "    }\n",
       "\n",
       "    .dataframe thead th {\n",
       "        text-align: right;\n",
       "    }\n",
       "</style>\n",
       "<table border=\"1\" class=\"dataframe\">\n",
       "  <thead>\n",
       "    <tr style=\"text-align: right;\">\n",
       "      <th></th>\n",
       "      <th>PDBid</th>\n",
       "      <th>chain</th>\n",
       "      <th>start</th>\n",
       "      <th>end</th>\n",
       "      <th>length</th>\n",
       "      <th>Beta_sheet_distr</th>\n",
       "    </tr>\n",
       "  </thead>\n",
       "  <tbody>\n",
       "    <tr>\n",
       "      <th>0</th>\n",
       "      <td>1CQX</td>\n",
       "      <td>A</td>\n",
       "      <td>1</td>\n",
       "      <td>400</td>\n",
       "      <td>400</td>\n",
       "      <td>0.0;0.0;0.0;0.0;0.0;0.0;0.0;0.0;0.0;0.0;0.0;0....</td>\n",
       "    </tr>\n",
       "    <tr>\n",
       "      <th>1</th>\n",
       "      <td>1CQX</td>\n",
       "      <td>B</td>\n",
       "      <td>5</td>\n",
       "      <td>380</td>\n",
       "      <td>376</td>\n",
       "      <td>0.0;0.0;0.0;0.0;0.0;0.0;0.0;0.0;0.0;0.0;0.0;0....</td>\n",
       "    </tr>\n",
       "    <tr>\n",
       "      <th>2</th>\n",
       "      <td>1OR6</td>\n",
       "      <td>A</td>\n",
       "      <td>11</td>\n",
       "      <td>178</td>\n",
       "      <td>168</td>\n",
       "      <td>0.0;0.0;0.0;0.0;0.0;0.0;0.0;0.0;0.26;0.93;0.0;...</td>\n",
       "    </tr>\n",
       "    <tr>\n",
       "      <th>3</th>\n",
       "      <td>1OR6</td>\n",
       "      <td>B</td>\n",
       "      <td>23</td>\n",
       "      <td>178</td>\n",
       "      <td>156</td>\n",
       "      <td>0.0;0.36;0.92;0.0;0.0;0.0;0.0;0.0;0.0;0.0;0.0;...</td>\n",
       "    </tr>\n",
       "    <tr>\n",
       "      <th>4</th>\n",
       "      <td>3ZHW</td>\n",
       "      <td>B</td>\n",
       "      <td>8</td>\n",
       "      <td>160</td>\n",
       "      <td>153</td>\n",
       "      <td>0.0;0.0;0.0;0.0;0.0;0.0;0.0;0.0;0.0;0.0;0.0;0....</td>\n",
       "    </tr>\n",
       "  </tbody>\n",
       "</table>\n",
       "</div>"
      ],
      "text/plain": [
       "  PDBid chain  start  end  length  \\\n",
       "0  1CQX     A      1  400     400   \n",
       "1  1CQX     B      5  380     376   \n",
       "2  1OR6     A     11  178     168   \n",
       "3  1OR6     B     23  178     156   \n",
       "4  3ZHW     B      8  160     153   \n",
       "\n",
       "                                    Beta_sheet_distr  \n",
       "0  0.0;0.0;0.0;0.0;0.0;0.0;0.0;0.0;0.0;0.0;0.0;0....  \n",
       "1  0.0;0.0;0.0;0.0;0.0;0.0;0.0;0.0;0.0;0.0;0.0;0....  \n",
       "2  0.0;0.0;0.0;0.0;0.0;0.0;0.0;0.0;0.26;0.93;0.0;...  \n",
       "3  0.0;0.36;0.92;0.0;0.0;0.0;0.0;0.0;0.0;0.0;0.0;...  \n",
       "4  0.0;0.0;0.0;0.0;0.0;0.0;0.0;0.0;0.0;0.0;0.0;0....  "
      ]
     },
     "execution_count": 6,
     "metadata": {},
     "output_type": "execute_result"
    }
   ],
   "source": [
    "bs_df_res"
   ]
  },
  {
   "cell_type": "code",
   "execution_count": 7,
   "id": "76d09790-082f-4acc-a0b2-152fa36ee441",
   "metadata": {},
   "outputs": [
    {
     "data": {
      "text/html": [
       "<div>\n",
       "<style scoped>\n",
       "    .dataframe tbody tr th:only-of-type {\n",
       "        vertical-align: middle;\n",
       "    }\n",
       "\n",
       "    .dataframe tbody tr th {\n",
       "        vertical-align: top;\n",
       "    }\n",
       "\n",
       "    .dataframe thead th {\n",
       "        text-align: right;\n",
       "    }\n",
       "</style>\n",
       "<table border=\"1\" class=\"dataframe\">\n",
       "  <thead>\n",
       "    <tr style=\"text-align: right;\">\n",
       "      <th></th>\n",
       "      <th>PDBid</th>\n",
       "      <th>chain</th>\n",
       "      <th>start</th>\n",
       "      <th>end</th>\n",
       "      <th>length</th>\n",
       "      <th>Irregular_structure_distr</th>\n",
       "    </tr>\n",
       "  </thead>\n",
       "  <tbody>\n",
       "    <tr>\n",
       "      <th>0</th>\n",
       "      <td>1CQX</td>\n",
       "      <td>A</td>\n",
       "      <td>1</td>\n",
       "      <td>400</td>\n",
       "      <td>400</td>\n",
       "      <td>1.0;0.25;0.0;0.0;0.0;0.0;0.0;0.0;0.0;0.0;0.0;0...</td>\n",
       "    </tr>\n",
       "    <tr>\n",
       "      <th>1</th>\n",
       "      <td>1CQX</td>\n",
       "      <td>B</td>\n",
       "      <td>5</td>\n",
       "      <td>380</td>\n",
       "      <td>376</td>\n",
       "      <td>1.0;1.0;0.86;0.0;0.0;0.0;0.0;0.0;0.0;0.0;0.16;...</td>\n",
       "    </tr>\n",
       "    <tr>\n",
       "      <th>2</th>\n",
       "      <td>1OR6</td>\n",
       "      <td>A</td>\n",
       "      <td>11</td>\n",
       "      <td>178</td>\n",
       "      <td>168</td>\n",
       "      <td>1.0;1.0;1.0;1.0;1.0;1.0;1.0;1.0;0.74;0.07;1.0;...</td>\n",
       "    </tr>\n",
       "    <tr>\n",
       "      <th>3</th>\n",
       "      <td>1OR6</td>\n",
       "      <td>B</td>\n",
       "      <td>23</td>\n",
       "      <td>178</td>\n",
       "      <td>156</td>\n",
       "      <td>1.0;0.64;0.08;1.0;1.0;0.49;0.0;0.0;0.0;0.0;0.0...</td>\n",
       "    </tr>\n",
       "    <tr>\n",
       "      <th>4</th>\n",
       "      <td>3ZHW</td>\n",
       "      <td>B</td>\n",
       "      <td>8</td>\n",
       "      <td>160</td>\n",
       "      <td>153</td>\n",
       "      <td>1.0;0.65;0.0;0.0;0.0;0.0;0.0;0.0;0.0;0.0;0.0;0...</td>\n",
       "    </tr>\n",
       "  </tbody>\n",
       "</table>\n",
       "</div>"
      ],
      "text/plain": [
       "  PDBid chain  start  end  length  \\\n",
       "0  1CQX     A      1  400     400   \n",
       "1  1CQX     B      5  380     376   \n",
       "2  1OR6     A     11  178     168   \n",
       "3  1OR6     B     23  178     156   \n",
       "4  3ZHW     B      8  160     153   \n",
       "\n",
       "                           Irregular_structure_distr  \n",
       "0  1.0;0.25;0.0;0.0;0.0;0.0;0.0;0.0;0.0;0.0;0.0;0...  \n",
       "1  1.0;1.0;0.86;0.0;0.0;0.0;0.0;0.0;0.0;0.0;0.16;...  \n",
       "2  1.0;1.0;1.0;1.0;1.0;1.0;1.0;1.0;0.74;0.07;1.0;...  \n",
       "3  1.0;0.64;0.08;1.0;1.0;0.49;0.0;0.0;0.0;0.0;0.0...  \n",
       "4  1.0;0.65;0.0;0.0;0.0;0.0;0.0;0.0;0.0;0.0;0.0;0...  "
      ]
     },
     "execution_count": 7,
     "metadata": {},
     "output_type": "execute_result"
    }
   ],
   "source": [
    "iss_df_res"
   ]
  },
  {
   "cell_type": "code",
   "execution_count": null,
   "id": "bef1f1ba-2a78-480b-bd15-e234ac090ae6",
   "metadata": {},
   "outputs": [],
   "source": []
  },
  {
   "cell_type": "markdown",
   "id": "a7ab1df9-e463-479c-a8cc-c98efe45fcef",
   "metadata": {},
   "source": [
    "**Calculate the group distribution**"
   ]
  },
  {
   "cell_type": "code",
   "execution_count": 8,
   "id": "c1c9f852-9e68-4446-b990-4e80f60d529a",
   "metadata": {},
   "outputs": [
    {
     "data": {
      "text/html": [
       "<div>\n",
       "<style scoped>\n",
       "    .dataframe tbody tr th:only-of-type {\n",
       "        vertical-align: middle;\n",
       "    }\n",
       "\n",
       "    .dataframe tbody tr th {\n",
       "        vertical-align: top;\n",
       "    }\n",
       "\n",
       "    .dataframe thead th {\n",
       "        text-align: right;\n",
       "    }\n",
       "</style>\n",
       "<table border=\"1\" class=\"dataframe\">\n",
       "  <thead>\n",
       "    <tr style=\"text-align: right;\">\n",
       "      <th></th>\n",
       "      <th>1</th>\n",
       "      <th>2</th>\n",
       "      <th>3</th>\n",
       "      <th>4</th>\n",
       "      <th>5</th>\n",
       "      <th>6</th>\n",
       "      <th>7</th>\n",
       "      <th>8</th>\n",
       "      <th>9</th>\n",
       "      <th>10</th>\n",
       "      <th>...</th>\n",
       "      <th>91</th>\n",
       "      <th>92</th>\n",
       "      <th>93</th>\n",
       "      <th>94</th>\n",
       "      <th>95</th>\n",
       "      <th>96</th>\n",
       "      <th>97</th>\n",
       "      <th>98</th>\n",
       "      <th>99</th>\n",
       "      <th>100</th>\n",
       "    </tr>\n",
       "  </thead>\n",
       "  <tbody>\n",
       "    <tr>\n",
       "      <th>0</th>\n",
       "      <td>0.0</td>\n",
       "      <td>0.75</td>\n",
       "      <td>1.00</td>\n",
       "      <td>1.0</td>\n",
       "      <td>1.0</td>\n",
       "      <td>1.00</td>\n",
       "      <td>1.0</td>\n",
       "      <td>1.0</td>\n",
       "      <td>1.0</td>\n",
       "      <td>0.75</td>\n",
       "      <td>...</td>\n",
       "      <td>0.5</td>\n",
       "      <td>0.0</td>\n",
       "      <td>0.0</td>\n",
       "      <td>1.00</td>\n",
       "      <td>1.0</td>\n",
       "      <td>1.00</td>\n",
       "      <td>0.75</td>\n",
       "      <td>0.0</td>\n",
       "      <td>0.0</td>\n",
       "      <td>0.00</td>\n",
       "    </tr>\n",
       "    <tr>\n",
       "      <th>1</th>\n",
       "      <td>0.0</td>\n",
       "      <td>0.00</td>\n",
       "      <td>0.14</td>\n",
       "      <td>1.0</td>\n",
       "      <td>1.0</td>\n",
       "      <td>1.00</td>\n",
       "      <td>1.0</td>\n",
       "      <td>1.0</td>\n",
       "      <td>1.0</td>\n",
       "      <td>0.24</td>\n",
       "      <td>...</td>\n",
       "      <td>0.0</td>\n",
       "      <td>0.0</td>\n",
       "      <td>0.0</td>\n",
       "      <td>0.45</td>\n",
       "      <td>1.0</td>\n",
       "      <td>0.15</td>\n",
       "      <td>0.00</td>\n",
       "      <td>0.0</td>\n",
       "      <td>0.0</td>\n",
       "      <td>0.00</td>\n",
       "    </tr>\n",
       "    <tr>\n",
       "      <th>2</th>\n",
       "      <td>0.0</td>\n",
       "      <td>0.00</td>\n",
       "      <td>0.00</td>\n",
       "      <td>0.0</td>\n",
       "      <td>0.0</td>\n",
       "      <td>0.00</td>\n",
       "      <td>0.0</td>\n",
       "      <td>0.0</td>\n",
       "      <td>0.0</td>\n",
       "      <td>0.00</td>\n",
       "      <td>...</td>\n",
       "      <td>1.0</td>\n",
       "      <td>1.0</td>\n",
       "      <td>1.0</td>\n",
       "      <td>1.00</td>\n",
       "      <td>1.0</td>\n",
       "      <td>1.00</td>\n",
       "      <td>1.00</td>\n",
       "      <td>1.0</td>\n",
       "      <td>1.0</td>\n",
       "      <td>0.81</td>\n",
       "    </tr>\n",
       "    <tr>\n",
       "      <th>3</th>\n",
       "      <td>0.0</td>\n",
       "      <td>0.00</td>\n",
       "      <td>0.00</td>\n",
       "      <td>0.0</td>\n",
       "      <td>0.0</td>\n",
       "      <td>0.51</td>\n",
       "      <td>1.0</td>\n",
       "      <td>1.0</td>\n",
       "      <td>1.0</td>\n",
       "      <td>1.00</td>\n",
       "      <td>...</td>\n",
       "      <td>1.0</td>\n",
       "      <td>1.0</td>\n",
       "      <td>1.0</td>\n",
       "      <td>1.00</td>\n",
       "      <td>1.0</td>\n",
       "      <td>1.00</td>\n",
       "      <td>1.00</td>\n",
       "      <td>1.0</td>\n",
       "      <td>1.0</td>\n",
       "      <td>0.08</td>\n",
       "    </tr>\n",
       "    <tr>\n",
       "      <th>4</th>\n",
       "      <td>0.0</td>\n",
       "      <td>0.35</td>\n",
       "      <td>1.00</td>\n",
       "      <td>1.0</td>\n",
       "      <td>1.0</td>\n",
       "      <td>1.00</td>\n",
       "      <td>1.0</td>\n",
       "      <td>1.0</td>\n",
       "      <td>1.0</td>\n",
       "      <td>1.00</td>\n",
       "      <td>...</td>\n",
       "      <td>1.0</td>\n",
       "      <td>1.0</td>\n",
       "      <td>1.0</td>\n",
       "      <td>1.00</td>\n",
       "      <td>1.0</td>\n",
       "      <td>1.00</td>\n",
       "      <td>1.00</td>\n",
       "      <td>1.0</td>\n",
       "      <td>1.0</td>\n",
       "      <td>0.69</td>\n",
       "    </tr>\n",
       "  </tbody>\n",
       "</table>\n",
       "<p>5 rows × 100 columns</p>\n",
       "</div>"
      ],
      "text/plain": [
       "   1     2     3    4    5     6    7    8    9     10   ...  91   92   93   \\\n",
       "0  0.0  0.75  1.00  1.0  1.0  1.00  1.0  1.0  1.0  0.75  ...  0.5  0.0  0.0   \n",
       "1  0.0  0.00  0.14  1.0  1.0  1.00  1.0  1.0  1.0  0.24  ...  0.0  0.0  0.0   \n",
       "2  0.0  0.00  0.00  0.0  0.0  0.00  0.0  0.0  0.0  0.00  ...  1.0  1.0  1.0   \n",
       "3  0.0  0.00  0.00  0.0  0.0  0.51  1.0  1.0  1.0  1.00  ...  1.0  1.0  1.0   \n",
       "4  0.0  0.35  1.00  1.0  1.0  1.00  1.0  1.0  1.0  1.00  ...  1.0  1.0  1.0   \n",
       "\n",
       "    94   95    96    97   98   99    100  \n",
       "0  1.00  1.0  1.00  0.75  0.0  0.0  0.00  \n",
       "1  0.45  1.0  0.15  0.00  0.0  0.0  0.00  \n",
       "2  1.00  1.0  1.00  1.00  1.0  1.0  0.81  \n",
       "3  1.00  1.0  1.00  1.00  1.0  1.0  0.08  \n",
       "4  1.00  1.0  1.00  1.00  1.0  1.0  0.69  \n",
       "\n",
       "[5 rows x 100 columns]"
      ]
     },
     "execution_count": 8,
     "metadata": {},
     "output_type": "execute_result"
    }
   ],
   "source": [
    "ah_distr_df = pd.DataFrame()\n",
    "ah_distr_df[list(range(1, 101))] = ah_df_res['Alpha_helix_distr'].str.split(';', expand=True)\n",
    "ah_distr_df = ah_distr_df.astype('float')\n",
    "ah_distr_df"
   ]
  },
  {
   "cell_type": "code",
   "execution_count": 9,
   "id": "8921b728-179d-438a-8dc6-6e11a4f0ae3a",
   "metadata": {},
   "outputs": [
    {
     "data": {
      "text/html": [
       "<div>\n",
       "<style scoped>\n",
       "    .dataframe tbody tr th:only-of-type {\n",
       "        vertical-align: middle;\n",
       "    }\n",
       "\n",
       "    .dataframe tbody tr th {\n",
       "        vertical-align: top;\n",
       "    }\n",
       "\n",
       "    .dataframe thead th {\n",
       "        text-align: right;\n",
       "    }\n",
       "</style>\n",
       "<table border=\"1\" class=\"dataframe\">\n",
       "  <thead>\n",
       "    <tr style=\"text-align: right;\">\n",
       "      <th></th>\n",
       "      <th>1</th>\n",
       "      <th>2</th>\n",
       "      <th>3</th>\n",
       "      <th>4</th>\n",
       "      <th>5</th>\n",
       "      <th>6</th>\n",
       "      <th>7</th>\n",
       "      <th>8</th>\n",
       "      <th>9</th>\n",
       "      <th>10</th>\n",
       "      <th>...</th>\n",
       "      <th>91</th>\n",
       "      <th>92</th>\n",
       "      <th>93</th>\n",
       "      <th>94</th>\n",
       "      <th>95</th>\n",
       "      <th>96</th>\n",
       "      <th>97</th>\n",
       "      <th>98</th>\n",
       "      <th>99</th>\n",
       "      <th>100</th>\n",
       "    </tr>\n",
       "  </thead>\n",
       "  <tbody>\n",
       "    <tr>\n",
       "      <th>0</th>\n",
       "      <td>0.0</td>\n",
       "      <td>0.0</td>\n",
       "      <td>0.0</td>\n",
       "      <td>0.0</td>\n",
       "      <td>0.0</td>\n",
       "      <td>0.0</td>\n",
       "      <td>0.0</td>\n",
       "      <td>0.0</td>\n",
       "      <td>0.0</td>\n",
       "      <td>0.25</td>\n",
       "      <td>...</td>\n",
       "      <td>0.0</td>\n",
       "      <td>0.0</td>\n",
       "      <td>0.0</td>\n",
       "      <td>0.0</td>\n",
       "      <td>0.0</td>\n",
       "      <td>0.0</td>\n",
       "      <td>0.0</td>\n",
       "      <td>0.75</td>\n",
       "      <td>0.0</td>\n",
       "      <td>0.0</td>\n",
       "    </tr>\n",
       "    <tr>\n",
       "      <th>1</th>\n",
       "      <td>0.0</td>\n",
       "      <td>0.0</td>\n",
       "      <td>0.0</td>\n",
       "      <td>0.0</td>\n",
       "      <td>0.0</td>\n",
       "      <td>0.0</td>\n",
       "      <td>0.0</td>\n",
       "      <td>0.0</td>\n",
       "      <td>0.0</td>\n",
       "      <td>0.76</td>\n",
       "      <td>...</td>\n",
       "      <td>0.0</td>\n",
       "      <td>0.0</td>\n",
       "      <td>0.0</td>\n",
       "      <td>0.0</td>\n",
       "      <td>0.0</td>\n",
       "      <td>0.0</td>\n",
       "      <td>0.0</td>\n",
       "      <td>0.00</td>\n",
       "      <td>0.0</td>\n",
       "      <td>0.0</td>\n",
       "    </tr>\n",
       "    <tr>\n",
       "      <th>2</th>\n",
       "      <td>0.0</td>\n",
       "      <td>0.0</td>\n",
       "      <td>0.0</td>\n",
       "      <td>0.0</td>\n",
       "      <td>0.0</td>\n",
       "      <td>0.0</td>\n",
       "      <td>0.0</td>\n",
       "      <td>0.0</td>\n",
       "      <td>0.0</td>\n",
       "      <td>0.00</td>\n",
       "      <td>...</td>\n",
       "      <td>0.0</td>\n",
       "      <td>0.0</td>\n",
       "      <td>0.0</td>\n",
       "      <td>0.0</td>\n",
       "      <td>0.0</td>\n",
       "      <td>0.0</td>\n",
       "      <td>0.0</td>\n",
       "      <td>0.00</td>\n",
       "      <td>0.0</td>\n",
       "      <td>0.0</td>\n",
       "    </tr>\n",
       "    <tr>\n",
       "      <th>3</th>\n",
       "      <td>0.0</td>\n",
       "      <td>0.0</td>\n",
       "      <td>0.0</td>\n",
       "      <td>0.0</td>\n",
       "      <td>0.0</td>\n",
       "      <td>0.0</td>\n",
       "      <td>0.0</td>\n",
       "      <td>0.0</td>\n",
       "      <td>0.0</td>\n",
       "      <td>0.00</td>\n",
       "      <td>...</td>\n",
       "      <td>0.0</td>\n",
       "      <td>0.0</td>\n",
       "      <td>0.0</td>\n",
       "      <td>0.0</td>\n",
       "      <td>0.0</td>\n",
       "      <td>0.0</td>\n",
       "      <td>0.0</td>\n",
       "      <td>0.00</td>\n",
       "      <td>0.0</td>\n",
       "      <td>0.0</td>\n",
       "    </tr>\n",
       "    <tr>\n",
       "      <th>4</th>\n",
       "      <td>0.0</td>\n",
       "      <td>0.0</td>\n",
       "      <td>0.0</td>\n",
       "      <td>0.0</td>\n",
       "      <td>0.0</td>\n",
       "      <td>0.0</td>\n",
       "      <td>0.0</td>\n",
       "      <td>0.0</td>\n",
       "      <td>0.0</td>\n",
       "      <td>0.00</td>\n",
       "      <td>...</td>\n",
       "      <td>0.0</td>\n",
       "      <td>0.0</td>\n",
       "      <td>0.0</td>\n",
       "      <td>0.0</td>\n",
       "      <td>0.0</td>\n",
       "      <td>0.0</td>\n",
       "      <td>0.0</td>\n",
       "      <td>0.00</td>\n",
       "      <td>0.0</td>\n",
       "      <td>0.0</td>\n",
       "    </tr>\n",
       "  </tbody>\n",
       "</table>\n",
       "<p>5 rows × 100 columns</p>\n",
       "</div>"
      ],
      "text/plain": [
       "   1    2    3    4    5    6    7    8    9     10   ...  91   92   93   94   \\\n",
       "0  0.0  0.0  0.0  0.0  0.0  0.0  0.0  0.0  0.0  0.25  ...  0.0  0.0  0.0  0.0   \n",
       "1  0.0  0.0  0.0  0.0  0.0  0.0  0.0  0.0  0.0  0.76  ...  0.0  0.0  0.0  0.0   \n",
       "2  0.0  0.0  0.0  0.0  0.0  0.0  0.0  0.0  0.0  0.00  ...  0.0  0.0  0.0  0.0   \n",
       "3  0.0  0.0  0.0  0.0  0.0  0.0  0.0  0.0  0.0  0.00  ...  0.0  0.0  0.0  0.0   \n",
       "4  0.0  0.0  0.0  0.0  0.0  0.0  0.0  0.0  0.0  0.00  ...  0.0  0.0  0.0  0.0   \n",
       "\n",
       "   95   96   97    98   99   100  \n",
       "0  0.0  0.0  0.0  0.75  0.0  0.0  \n",
       "1  0.0  0.0  0.0  0.00  0.0  0.0  \n",
       "2  0.0  0.0  0.0  0.00  0.0  0.0  \n",
       "3  0.0  0.0  0.0  0.00  0.0  0.0  \n",
       "4  0.0  0.0  0.0  0.00  0.0  0.0  \n",
       "\n",
       "[5 rows x 100 columns]"
      ]
     },
     "execution_count": 9,
     "metadata": {},
     "output_type": "execute_result"
    }
   ],
   "source": [
    "tth_distr_df = pd.DataFrame()\n",
    "tth_distr_df[list(range(1, 101))] = tth_df_res['Three_ten_helix_distr'].str.split(';', expand=True)\n",
    "tth_distr_df = tth_distr_df.astype('float')\n",
    "tth_distr_df"
   ]
  },
  {
   "cell_type": "code",
   "execution_count": 10,
   "id": "7c48d0d6-3986-44a6-b620-8b70c12b47e7",
   "metadata": {},
   "outputs": [
    {
     "data": {
      "text/html": [
       "<div>\n",
       "<style scoped>\n",
       "    .dataframe tbody tr th:only-of-type {\n",
       "        vertical-align: middle;\n",
       "    }\n",
       "\n",
       "    .dataframe tbody tr th {\n",
       "        vertical-align: top;\n",
       "    }\n",
       "\n",
       "    .dataframe thead th {\n",
       "        text-align: right;\n",
       "    }\n",
       "</style>\n",
       "<table border=\"1\" class=\"dataframe\">\n",
       "  <thead>\n",
       "    <tr style=\"text-align: right;\">\n",
       "      <th></th>\n",
       "      <th>1</th>\n",
       "      <th>2</th>\n",
       "      <th>3</th>\n",
       "      <th>4</th>\n",
       "      <th>5</th>\n",
       "      <th>6</th>\n",
       "      <th>7</th>\n",
       "      <th>8</th>\n",
       "      <th>9</th>\n",
       "      <th>10</th>\n",
       "      <th>...</th>\n",
       "      <th>91</th>\n",
       "      <th>92</th>\n",
       "      <th>93</th>\n",
       "      <th>94</th>\n",
       "      <th>95</th>\n",
       "      <th>96</th>\n",
       "      <th>97</th>\n",
       "      <th>98</th>\n",
       "      <th>99</th>\n",
       "      <th>100</th>\n",
       "    </tr>\n",
       "  </thead>\n",
       "  <tbody>\n",
       "    <tr>\n",
       "      <th>0</th>\n",
       "      <td>0.0</td>\n",
       "      <td>0.00</td>\n",
       "      <td>0.00</td>\n",
       "      <td>0.0</td>\n",
       "      <td>0.0</td>\n",
       "      <td>0.0</td>\n",
       "      <td>0.0</td>\n",
       "      <td>0.0</td>\n",
       "      <td>0.00</td>\n",
       "      <td>0.00</td>\n",
       "      <td>...</td>\n",
       "      <td>0.0</td>\n",
       "      <td>0.50</td>\n",
       "      <td>0.75</td>\n",
       "      <td>0.0</td>\n",
       "      <td>0.0</td>\n",
       "      <td>0.0</td>\n",
       "      <td>0.00</td>\n",
       "      <td>0.00</td>\n",
       "      <td>0.75</td>\n",
       "      <td>0.0</td>\n",
       "    </tr>\n",
       "    <tr>\n",
       "      <th>1</th>\n",
       "      <td>0.0</td>\n",
       "      <td>0.00</td>\n",
       "      <td>0.00</td>\n",
       "      <td>0.0</td>\n",
       "      <td>0.0</td>\n",
       "      <td>0.0</td>\n",
       "      <td>0.0</td>\n",
       "      <td>0.0</td>\n",
       "      <td>0.00</td>\n",
       "      <td>0.00</td>\n",
       "      <td>...</td>\n",
       "      <td>0.0</td>\n",
       "      <td>0.53</td>\n",
       "      <td>0.00</td>\n",
       "      <td>0.0</td>\n",
       "      <td>0.0</td>\n",
       "      <td>0.0</td>\n",
       "      <td>0.79</td>\n",
       "      <td>0.54</td>\n",
       "      <td>0.00</td>\n",
       "      <td>0.0</td>\n",
       "    </tr>\n",
       "    <tr>\n",
       "      <th>2</th>\n",
       "      <td>0.0</td>\n",
       "      <td>0.00</td>\n",
       "      <td>0.00</td>\n",
       "      <td>0.0</td>\n",
       "      <td>0.0</td>\n",
       "      <td>0.0</td>\n",
       "      <td>0.0</td>\n",
       "      <td>0.0</td>\n",
       "      <td>0.26</td>\n",
       "      <td>0.93</td>\n",
       "      <td>...</td>\n",
       "      <td>0.0</td>\n",
       "      <td>0.00</td>\n",
       "      <td>0.00</td>\n",
       "      <td>0.0</td>\n",
       "      <td>0.0</td>\n",
       "      <td>0.0</td>\n",
       "      <td>0.00</td>\n",
       "      <td>0.00</td>\n",
       "      <td>0.00</td>\n",
       "      <td>0.0</td>\n",
       "    </tr>\n",
       "    <tr>\n",
       "      <th>3</th>\n",
       "      <td>0.0</td>\n",
       "      <td>0.36</td>\n",
       "      <td>0.92</td>\n",
       "      <td>0.0</td>\n",
       "      <td>0.0</td>\n",
       "      <td>0.0</td>\n",
       "      <td>0.0</td>\n",
       "      <td>0.0</td>\n",
       "      <td>0.00</td>\n",
       "      <td>0.00</td>\n",
       "      <td>...</td>\n",
       "      <td>0.0</td>\n",
       "      <td>0.00</td>\n",
       "      <td>0.00</td>\n",
       "      <td>0.0</td>\n",
       "      <td>0.0</td>\n",
       "      <td>0.0</td>\n",
       "      <td>0.00</td>\n",
       "      <td>0.00</td>\n",
       "      <td>0.00</td>\n",
       "      <td>0.0</td>\n",
       "    </tr>\n",
       "    <tr>\n",
       "      <th>4</th>\n",
       "      <td>0.0</td>\n",
       "      <td>0.00</td>\n",
       "      <td>0.00</td>\n",
       "      <td>0.0</td>\n",
       "      <td>0.0</td>\n",
       "      <td>0.0</td>\n",
       "      <td>0.0</td>\n",
       "      <td>0.0</td>\n",
       "      <td>0.00</td>\n",
       "      <td>0.00</td>\n",
       "      <td>...</td>\n",
       "      <td>0.0</td>\n",
       "      <td>0.00</td>\n",
       "      <td>0.00</td>\n",
       "      <td>0.0</td>\n",
       "      <td>0.0</td>\n",
       "      <td>0.0</td>\n",
       "      <td>0.00</td>\n",
       "      <td>0.00</td>\n",
       "      <td>0.00</td>\n",
       "      <td>0.0</td>\n",
       "    </tr>\n",
       "  </tbody>\n",
       "</table>\n",
       "<p>5 rows × 100 columns</p>\n",
       "</div>"
      ],
      "text/plain": [
       "   1     2     3    4    5    6    7    8     9     10   ...  91    92    93   \\\n",
       "0  0.0  0.00  0.00  0.0  0.0  0.0  0.0  0.0  0.00  0.00  ...  0.0  0.50  0.75   \n",
       "1  0.0  0.00  0.00  0.0  0.0  0.0  0.0  0.0  0.00  0.00  ...  0.0  0.53  0.00   \n",
       "2  0.0  0.00  0.00  0.0  0.0  0.0  0.0  0.0  0.26  0.93  ...  0.0  0.00  0.00   \n",
       "3  0.0  0.36  0.92  0.0  0.0  0.0  0.0  0.0  0.00  0.00  ...  0.0  0.00  0.00   \n",
       "4  0.0  0.00  0.00  0.0  0.0  0.0  0.0  0.0  0.00  0.00  ...  0.0  0.00  0.00   \n",
       "\n",
       "   94   95   96    97    98    99   100  \n",
       "0  0.0  0.0  0.0  0.00  0.00  0.75  0.0  \n",
       "1  0.0  0.0  0.0  0.79  0.54  0.00  0.0  \n",
       "2  0.0  0.0  0.0  0.00  0.00  0.00  0.0  \n",
       "3  0.0  0.0  0.0  0.00  0.00  0.00  0.0  \n",
       "4  0.0  0.0  0.0  0.00  0.00  0.00  0.0  \n",
       "\n",
       "[5 rows x 100 columns]"
      ]
     },
     "execution_count": 10,
     "metadata": {},
     "output_type": "execute_result"
    }
   ],
   "source": [
    "bs_distr_df = pd.DataFrame()\n",
    "bs_distr_df[list(range(1, 101))] = bs_df_res['Beta_sheet_distr'].str.split(';', expand=True)\n",
    "bs_distr_df = bs_distr_df.astype('float')\n",
    "bs_distr_df"
   ]
  },
  {
   "cell_type": "code",
   "execution_count": 11,
   "id": "1f05a085-55d0-4842-91d6-517e196fcab1",
   "metadata": {},
   "outputs": [
    {
     "data": {
      "text/html": [
       "<div>\n",
       "<style scoped>\n",
       "    .dataframe tbody tr th:only-of-type {\n",
       "        vertical-align: middle;\n",
       "    }\n",
       "\n",
       "    .dataframe tbody tr th {\n",
       "        vertical-align: top;\n",
       "    }\n",
       "\n",
       "    .dataframe thead th {\n",
       "        text-align: right;\n",
       "    }\n",
       "</style>\n",
       "<table border=\"1\" class=\"dataframe\">\n",
       "  <thead>\n",
       "    <tr style=\"text-align: right;\">\n",
       "      <th></th>\n",
       "      <th>1</th>\n",
       "      <th>2</th>\n",
       "      <th>3</th>\n",
       "      <th>4</th>\n",
       "      <th>5</th>\n",
       "      <th>6</th>\n",
       "      <th>7</th>\n",
       "      <th>8</th>\n",
       "      <th>9</th>\n",
       "      <th>10</th>\n",
       "      <th>...</th>\n",
       "      <th>91</th>\n",
       "      <th>92</th>\n",
       "      <th>93</th>\n",
       "      <th>94</th>\n",
       "      <th>95</th>\n",
       "      <th>96</th>\n",
       "      <th>97</th>\n",
       "      <th>98</th>\n",
       "      <th>99</th>\n",
       "      <th>100</th>\n",
       "    </tr>\n",
       "  </thead>\n",
       "  <tbody>\n",
       "    <tr>\n",
       "      <th>0</th>\n",
       "      <td>1.0</td>\n",
       "      <td>0.25</td>\n",
       "      <td>0.00</td>\n",
       "      <td>0.0</td>\n",
       "      <td>0.0</td>\n",
       "      <td>0.00</td>\n",
       "      <td>0.0</td>\n",
       "      <td>0.0</td>\n",
       "      <td>0.00</td>\n",
       "      <td>0.00</td>\n",
       "      <td>...</td>\n",
       "      <td>0.5</td>\n",
       "      <td>0.50</td>\n",
       "      <td>0.25</td>\n",
       "      <td>0.00</td>\n",
       "      <td>0.0</td>\n",
       "      <td>0.00</td>\n",
       "      <td>0.25</td>\n",
       "      <td>0.25</td>\n",
       "      <td>0.25</td>\n",
       "      <td>1.00</td>\n",
       "    </tr>\n",
       "    <tr>\n",
       "      <th>1</th>\n",
       "      <td>1.0</td>\n",
       "      <td>1.00</td>\n",
       "      <td>0.86</td>\n",
       "      <td>0.0</td>\n",
       "      <td>0.0</td>\n",
       "      <td>0.00</td>\n",
       "      <td>0.0</td>\n",
       "      <td>0.0</td>\n",
       "      <td>0.00</td>\n",
       "      <td>0.00</td>\n",
       "      <td>...</td>\n",
       "      <td>1.0</td>\n",
       "      <td>0.47</td>\n",
       "      <td>1.00</td>\n",
       "      <td>0.55</td>\n",
       "      <td>0.0</td>\n",
       "      <td>0.85</td>\n",
       "      <td>0.21</td>\n",
       "      <td>0.46</td>\n",
       "      <td>1.00</td>\n",
       "      <td>1.00</td>\n",
       "    </tr>\n",
       "    <tr>\n",
       "      <th>2</th>\n",
       "      <td>1.0</td>\n",
       "      <td>1.00</td>\n",
       "      <td>1.00</td>\n",
       "      <td>1.0</td>\n",
       "      <td>1.0</td>\n",
       "      <td>1.00</td>\n",
       "      <td>1.0</td>\n",
       "      <td>1.0</td>\n",
       "      <td>0.74</td>\n",
       "      <td>0.07</td>\n",
       "      <td>...</td>\n",
       "      <td>0.0</td>\n",
       "      <td>0.00</td>\n",
       "      <td>0.00</td>\n",
       "      <td>0.00</td>\n",
       "      <td>0.0</td>\n",
       "      <td>0.00</td>\n",
       "      <td>0.00</td>\n",
       "      <td>0.00</td>\n",
       "      <td>0.00</td>\n",
       "      <td>0.19</td>\n",
       "    </tr>\n",
       "    <tr>\n",
       "      <th>3</th>\n",
       "      <td>1.0</td>\n",
       "      <td>0.64</td>\n",
       "      <td>0.08</td>\n",
       "      <td>1.0</td>\n",
       "      <td>1.0</td>\n",
       "      <td>0.49</td>\n",
       "      <td>0.0</td>\n",
       "      <td>0.0</td>\n",
       "      <td>0.00</td>\n",
       "      <td>0.00</td>\n",
       "      <td>...</td>\n",
       "      <td>0.0</td>\n",
       "      <td>0.00</td>\n",
       "      <td>0.00</td>\n",
       "      <td>0.00</td>\n",
       "      <td>0.0</td>\n",
       "      <td>0.00</td>\n",
       "      <td>0.00</td>\n",
       "      <td>0.00</td>\n",
       "      <td>0.00</td>\n",
       "      <td>0.92</td>\n",
       "    </tr>\n",
       "    <tr>\n",
       "      <th>4</th>\n",
       "      <td>1.0</td>\n",
       "      <td>0.65</td>\n",
       "      <td>0.00</td>\n",
       "      <td>0.0</td>\n",
       "      <td>0.0</td>\n",
       "      <td>0.00</td>\n",
       "      <td>0.0</td>\n",
       "      <td>0.0</td>\n",
       "      <td>0.00</td>\n",
       "      <td>0.00</td>\n",
       "      <td>...</td>\n",
       "      <td>0.0</td>\n",
       "      <td>0.00</td>\n",
       "      <td>0.00</td>\n",
       "      <td>0.00</td>\n",
       "      <td>0.0</td>\n",
       "      <td>0.00</td>\n",
       "      <td>0.00</td>\n",
       "      <td>0.00</td>\n",
       "      <td>0.00</td>\n",
       "      <td>0.31</td>\n",
       "    </tr>\n",
       "  </tbody>\n",
       "</table>\n",
       "<p>5 rows × 100 columns</p>\n",
       "</div>"
      ],
      "text/plain": [
       "   1     2     3    4    5     6    7    8     9     10   ...  91    92   \\\n",
       "0  1.0  0.25  0.00  0.0  0.0  0.00  0.0  0.0  0.00  0.00  ...  0.5  0.50   \n",
       "1  1.0  1.00  0.86  0.0  0.0  0.00  0.0  0.0  0.00  0.00  ...  1.0  0.47   \n",
       "2  1.0  1.00  1.00  1.0  1.0  1.00  1.0  1.0  0.74  0.07  ...  0.0  0.00   \n",
       "3  1.0  0.64  0.08  1.0  1.0  0.49  0.0  0.0  0.00  0.00  ...  0.0  0.00   \n",
       "4  1.0  0.65  0.00  0.0  0.0  0.00  0.0  0.0  0.00  0.00  ...  0.0  0.00   \n",
       "\n",
       "    93    94   95    96    97    98    99    100  \n",
       "0  0.25  0.00  0.0  0.00  0.25  0.25  0.25  1.00  \n",
       "1  1.00  0.55  0.0  0.85  0.21  0.46  1.00  1.00  \n",
       "2  0.00  0.00  0.0  0.00  0.00  0.00  0.00  0.19  \n",
       "3  0.00  0.00  0.0  0.00  0.00  0.00  0.00  0.92  \n",
       "4  0.00  0.00  0.0  0.00  0.00  0.00  0.00  0.31  \n",
       "\n",
       "[5 rows x 100 columns]"
      ]
     },
     "execution_count": 11,
     "metadata": {},
     "output_type": "execute_result"
    }
   ],
   "source": [
    "iss_distr_df = pd.DataFrame()\n",
    "iss_distr_df[list(range(1, 101))] = iss_df_res['Irregular_structure_distr'].str.split(';', expand=True)\n",
    "iss_distr_df = iss_distr_df.astype('float')\n",
    "iss_distr_df"
   ]
  },
  {
   "cell_type": "code",
   "execution_count": 12,
   "id": "0a7e887d-77f0-45e7-b677-75d13205c57f",
   "metadata": {},
   "outputs": [],
   "source": [
    "ah_distr = ah_distr_df.sum() / len(ah_distr_df)\n",
    "tth_distr = tth_distr_df.sum() / len(tth_distr_df)\n",
    "bs_distr = bs_distr_df.sum() / len(bs_distr_df)\n",
    "iss_distr = iss_distr_df.sum() / len(iss_distr_df)"
   ]
  },
  {
   "cell_type": "code",
   "execution_count": null,
   "id": "c7a5adb5-93f1-48f8-a559-adf67036313c",
   "metadata": {},
   "outputs": [],
   "source": []
  },
  {
   "cell_type": "markdown",
   "id": "661f100f-7db4-4cc6-b40f-9eb8e9a2e352",
   "metadata": {},
   "source": [
    "**Visualise the group distribution**"
   ]
  },
  {
   "cell_type": "code",
   "execution_count": 13,
   "id": "13506779-34e3-4dd2-94a2-4852d6d30b92",
   "metadata": {},
   "outputs": [
    {
     "data": {
      "image/png": "[encoded data removed]",
      "text/plain": [
       "<Figure size 640x480 with 1 Axes>"
      ]
     },
     "metadata": {},
     "output_type": "display_data"
    }
   ],
   "source": [
    "fig, ax = plt.subplots()\n",
    "\n",
    "plt.plot(ah_distr, color='#4daf4a', label='α-helix', linewidth=1)\n",
    "plt.plot(tth_distr, color='#ff7f00', label=r'$3_{10}$-helix', linewidth=1)\n",
    "plt.plot(bs_distr, color='#377eb8', label='β-sheet', linewidth=1)\n",
    "plt.plot(iss_distr, color='black', label='irregular structure', linewidth=1)\n",
    "\n",
    "ax.set(xlabel='relative units', ylabel='probability', title='Secondary structure distribution')\n",
    "ax.grid()\n",
    "plt.legend()\n",
    "\n",
    "plt.show()"
   ]
  },
  {
   "cell_type": "code",
   "execution_count": null,
   "id": "d1637093-af61-4f54-9a8d-14d8f1d50d66",
   "metadata": {},
   "outputs": [],
   "source": []
  }
 ],
 "metadata": {
  "kernelspec": {
   "display_name": "phd",
   "language": "python",
   "name": "phd"
  },
  "language_info": {
   "codemirror_mode": {
    "name": "ipython",
    "version": 3
   },
   "file_extension": ".py",
   "mimetype": "text/x-python",
   "name": "python",
   "nbconvert_exporter": "python",
   "pygments_lexer": "ipython3",
   "version": "3.12.4"
  }
 },
 "nbformat": 4,
 "nbformat_minor": 5
}
